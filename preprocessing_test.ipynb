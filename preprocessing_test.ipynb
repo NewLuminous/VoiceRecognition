{
 "cells": [
  {
   "cell_type": "markdown",
   "metadata": {
    "toc": true
   },
   "source": [
    "<h1>Table of Contents<span class=\"tocSkip\"></span></h1>\n",
    "<div class=\"toc\"><ul class=\"toc-item\"><li><span><a href=\"#Load-libraries\" data-toc-modified-id=\"Load-libraries-1\"><span class=\"toc-item-num\">1&nbsp;&nbsp;</span>Load libraries</a></span></li><li><span><a href=\"#Prepare-the-dataset\" data-toc-modified-id=\"Prepare-the-dataset-2\"><span class=\"toc-item-num\">2&nbsp;&nbsp;</span>Prepare the dataset</a></span></li></ul></div>"
   ]
  },
  {
   "cell_type": "markdown",
   "metadata": {},
   "source": [
    "# Load libraries"
   ]
  },
  {
   "cell_type": "code",
   "execution_count": 1,
   "metadata": {
    "ExecuteTime": {
     "end_time": "2021-04-21T17:06:16.823953Z",
     "start_time": "2021-04-21T17:06:12.460895Z"
    }
   },
   "outputs": [],
   "source": [
    "import librosa\n",
    "import librosa.display\n",
    "import IPython.display as ipd\n",
    "import matplotlib.pyplot as plt\n",
    "import numpy as np\n",
    "import pandas as pd"
   ]
  },
  {
   "cell_type": "markdown",
   "metadata": {},
   "source": [
    "# Prepare the dataset"
   ]
  },
  {
   "cell_type": "code",
   "execution_count": 2,
   "metadata": {
    "ExecuteTime": {
     "end_time": "2021-04-21T17:06:16.839954Z",
     "start_time": "2021-04-21T17:06:16.825953Z"
    }
   },
   "outputs": [],
   "source": [
    "data_dir = \"./data/\""
   ]
  },
  {
   "cell_type": "code",
   "execution_count": 3,
   "metadata": {
    "ExecuteTime": {
     "end_time": "2021-04-21T17:06:17.072994Z",
     "start_time": "2021-04-21T17:06:16.842955Z"
    },
    "scrolled": true
   },
   "outputs": [
    {
     "data": {
      "text/html": [
       "<div>\n",
       "<style scoped>\n",
       "    .dataframe tbody tr th:only-of-type {\n",
       "        vertical-align: middle;\n",
       "    }\n",
       "\n",
       "    .dataframe tbody tr th {\n",
       "        vertical-align: top;\n",
       "    }\n",
       "\n",
       "    .dataframe thead th {\n",
       "        text-align: right;\n",
       "    }\n",
       "</style>\n",
       "<table border=\"1\" class=\"dataframe\">\n",
       "  <thead>\n",
       "    <tr style=\"text-align: right;\">\n",
       "      <th></th>\n",
       "      <th>student_I_id</th>\n",
       "      <th>article_I_id</th>\n",
       "      <th>sentence_I_id</th>\n",
       "      <th>student_II_id</th>\n",
       "      <th>article_II_id</th>\n",
       "      <th>sentence_II_id</th>\n",
       "    </tr>\n",
       "  </thead>\n",
       "  <tbody>\n",
       "    <tr>\n",
       "      <th>0</th>\n",
       "      <td>18020017_TranManhHieu</td>\n",
       "      <td>1</td>\n",
       "      <td>17</td>\n",
       "      <td>18020017_TranManhHieu</td>\n",
       "      <td>1</td>\n",
       "      <td>6</td>\n",
       "    </tr>\n",
       "    <tr>\n",
       "      <th>1</th>\n",
       "      <td>17021332_LeMinhTam</td>\n",
       "      <td>7</td>\n",
       "      <td>26</td>\n",
       "      <td>17021298_NguyenDinhNhatMinh</td>\n",
       "      <td>1</td>\n",
       "      <td>27</td>\n",
       "    </tr>\n",
       "    <tr>\n",
       "      <th>2</th>\n",
       "      <td>18020833_NguyenKimLong</td>\n",
       "      <td>8</td>\n",
       "      <td>3</td>\n",
       "      <td>18020833_NguyenKimLong</td>\n",
       "      <td>8</td>\n",
       "      <td>4</td>\n",
       "    </tr>\n",
       "    <tr>\n",
       "      <th>3</th>\n",
       "      <td>17021332_LeMinhTam</td>\n",
       "      <td>4</td>\n",
       "      <td>11</td>\n",
       "      <td>18020833_NguyenKimLong</td>\n",
       "      <td>2</td>\n",
       "      <td>22</td>\n",
       "    </tr>\n",
       "    <tr>\n",
       "      <th>4</th>\n",
       "      <td>17021311_CaoMinhNhat</td>\n",
       "      <td>1</td>\n",
       "      <td>3</td>\n",
       "      <td>17021281_NguyenTrongLam</td>\n",
       "      <td>7</td>\n",
       "      <td>11</td>\n",
       "    </tr>\n",
       "    <tr>\n",
       "      <th>...</th>\n",
       "      <td>...</td>\n",
       "      <td>...</td>\n",
       "      <td>...</td>\n",
       "      <td>...</td>\n",
       "      <td>...</td>\n",
       "      <td>...</td>\n",
       "    </tr>\n",
       "    <tr>\n",
       "      <th>19995</th>\n",
       "      <td>17021281_NguyenTrongLam</td>\n",
       "      <td>4</td>\n",
       "      <td>11</td>\n",
       "      <td>17021332_LeMinhTam</td>\n",
       "      <td>1</td>\n",
       "      <td>28</td>\n",
       "    </tr>\n",
       "    <tr>\n",
       "      <th>19996</th>\n",
       "      <td>17021311_CaoMinhNhat</td>\n",
       "      <td>8</td>\n",
       "      <td>2</td>\n",
       "      <td>17021311_CaoMinhNhat</td>\n",
       "      <td>6</td>\n",
       "      <td>15</td>\n",
       "    </tr>\n",
       "    <tr>\n",
       "      <th>19997</th>\n",
       "      <td>18020833_NguyenKimLong</td>\n",
       "      <td>3</td>\n",
       "      <td>14</td>\n",
       "      <td>17021281_NguyenTrongLam</td>\n",
       "      <td>5</td>\n",
       "      <td>0</td>\n",
       "    </tr>\n",
       "    <tr>\n",
       "      <th>19998</th>\n",
       "      <td>17021298_NguyenDinhNhatMinh</td>\n",
       "      <td>4</td>\n",
       "      <td>14</td>\n",
       "      <td>17021281_NguyenTrongLam</td>\n",
       "      <td>7</td>\n",
       "      <td>18</td>\n",
       "    </tr>\n",
       "    <tr>\n",
       "      <th>19999</th>\n",
       "      <td>17021311_CaoMinhNhat</td>\n",
       "      <td>8</td>\n",
       "      <td>15</td>\n",
       "      <td>17021332_LeMinhTam</td>\n",
       "      <td>5</td>\n",
       "      <td>13</td>\n",
       "    </tr>\n",
       "  </tbody>\n",
       "</table>\n",
       "<p>20000 rows × 6 columns</p>\n",
       "</div>"
      ],
      "text/plain": [
       "                      student_I_id  article_I_id  sentence_I_id  \\\n",
       "0            18020017_TranManhHieu             1             17   \n",
       "1               17021332_LeMinhTam             7             26   \n",
       "2           18020833_NguyenKimLong             8              3   \n",
       "3               17021332_LeMinhTam             4             11   \n",
       "4             17021311_CaoMinhNhat             1              3   \n",
       "...                            ...           ...            ...   \n",
       "19995      17021281_NguyenTrongLam             4             11   \n",
       "19996         17021311_CaoMinhNhat             8              2   \n",
       "19997       18020833_NguyenKimLong             3             14   \n",
       "19998  17021298_NguyenDinhNhatMinh             4             14   \n",
       "19999         17021311_CaoMinhNhat             8             15   \n",
       "\n",
       "                     student_II_id  article_II_id  sentence_II_id  \n",
       "0            18020017_TranManhHieu              1               6  \n",
       "1      17021298_NguyenDinhNhatMinh              1              27  \n",
       "2           18020833_NguyenKimLong              8               4  \n",
       "3           18020833_NguyenKimLong              2              22  \n",
       "4          17021281_NguyenTrongLam              7              11  \n",
       "...                            ...            ...             ...  \n",
       "19995           17021332_LeMinhTam              1              28  \n",
       "19996         17021311_CaoMinhNhat              6              15  \n",
       "19997      17021281_NguyenTrongLam              5               0  \n",
       "19998      17021281_NguyenTrongLam              7              18  \n",
       "19999           17021332_LeMinhTam              5              13  \n",
       "\n",
       "[20000 rows x 6 columns]"
      ]
     },
     "execution_count": 3,
     "metadata": {},
     "output_type": "execute_result"
    }
   ],
   "source": [
    "audio_pairs_df = pd.read_csv(data_dir + \"audio_sentence_pairs_test.csv\")\n",
    "audio_pairs_df"
   ]
  },
  {
   "cell_type": "code",
   "execution_count": 4,
   "metadata": {
    "ExecuteTime": {
     "end_time": "2021-04-21T17:19:49.973729Z",
     "start_time": "2021-04-21T17:06:17.075953Z"
    }
   },
   "outputs": [
    {
     "name": "stdout",
     "output_type": "stream",
     "text": [
      "Progress: ||||||||||||||||||||||||||||||||||||||||||||||||||||||||||||||||||||||||||||||||||||||||||||||||||||"
     ]
    }
   ],
   "source": [
    "import _pickle as cPickle\n",
    "import preprocessing\n",
    "\n",
    "TEST_SET = [\"val\", \"test\"]\n",
    "VAL_OR_TEST = 1\n",
    "MFCC_LEN_LIM = 700\n",
    "\n",
    "waveform_dir = data_dir + \"waveform/\"\n",
    "\n",
    "def create_mfcc_data(student_id, article_id, sentence_id):\n",
    "    audio_sentence = np.load(waveform_dir + student_id + \"/{:02d}/\".format(article_id + 1) + str(sentence_id) + \".npy\")\n",
    "    return preprocessing.mfcc(audio_sentence)[:MFCC_LEN_LIM]\n",
    "\n",
    "data_mfcc = {\n",
    "    \"sentence_I\": [],\n",
    "    \"sentence_II\": [],\n",
    "    \"same_speaker\": []\n",
    "}\n",
    "\n",
    "audio_pairs = audio_pairs_df.to_numpy()[VAL_OR_TEST * len(audio_pairs_df) // 2:\n",
    "                                        (VAL_OR_TEST+1) * len(audio_pairs_df) // 2]\n",
    "print('Progress: ', end='')\n",
    "for i in range(len(audio_pairs)):\n",
    "    row = audio_pairs[i]\n",
    "    data_mfcc['sentence_I'].append(create_mfcc_data(row[0], row[1], row[2]))\n",
    "    data_mfcc['sentence_II'].append(create_mfcc_data(row[3], row[4], row[5]))\n",
    "    data_mfcc['same_speaker'].append(row[0] == row[3])\n",
    "    if i * 100 // len(audio_pairs) > (i - 1) * 100 // len(audio_pairs):\n",
    "        print('|', end='')\n",
    "    \n",
    "cPickle.dump(data_mfcc, open(data_dir + f\"dataset/data_mfcc_{TEST_SET[VAL_OR_TEST]}.pkl\", 'wb'), protocol=2)"
   ]
  },
  {
   "cell_type": "code",
   "execution_count": null,
   "metadata": {},
   "outputs": [],
   "source": []
  }
 ],
 "metadata": {
  "kernelspec": {
   "display_name": "Python 3",
   "language": "python",
   "name": "python3"
  },
  "language_info": {
   "codemirror_mode": {
    "name": "ipython",
    "version": 3
   },
   "file_extension": ".py",
   "mimetype": "text/x-python",
   "name": "python",
   "nbconvert_exporter": "python",
   "pygments_lexer": "ipython3",
   "version": "3.7.5"
  },
  "toc": {
   "base_numbering": 1,
   "nav_menu": {},
   "number_sections": true,
   "sideBar": true,
   "skip_h1_title": false,
   "title_cell": "Table of Contents",
   "title_sidebar": "Contents",
   "toc_cell": true,
   "toc_position": {
    "height": "calc(100% - 180px)",
    "left": "10px",
    "top": "150px",
    "width": "307.038px"
   },
   "toc_section_display": true,
   "toc_window_display": true
  }
 },
 "nbformat": 4,
 "nbformat_minor": 2
}
