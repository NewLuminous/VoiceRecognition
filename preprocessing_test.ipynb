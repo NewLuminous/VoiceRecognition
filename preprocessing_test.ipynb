{
 "cells": [
  {
   "cell_type": "markdown",
   "metadata": {
    "toc": true
   },
   "source": [
    "<h1>Table of Contents<span class=\"tocSkip\"></span></h1>\n",
    "<div class=\"toc\"><ul class=\"toc-item\"><li><span><a href=\"#Load-libraries\" data-toc-modified-id=\"Load-libraries-1\"><span class=\"toc-item-num\">1&nbsp;&nbsp;</span>Load libraries</a></span></li><li><span><a href=\"#Prepare-the-dataset\" data-toc-modified-id=\"Prepare-the-dataset-2\"><span class=\"toc-item-num\">2&nbsp;&nbsp;</span>Prepare the dataset</a></span></li></ul></div>"
   ]
  },
  {
   "cell_type": "markdown",
   "metadata": {},
   "source": [
    "# Load libraries"
   ]
  },
  {
   "cell_type": "code",
   "execution_count": 1,
   "metadata": {
    "ExecuteTime": {
     "end_time": "2021-04-21T08:27:00.293627Z",
     "start_time": "2021-04-21T08:26:57.186635Z"
    }
   },
   "outputs": [],
   "source": [
    "import librosa\n",
    "import librosa.display\n",
    "import IPython.display as ipd\n",
    "import matplotlib.pyplot as plt\n",
    "import numpy as np\n",
    "import pandas as pd"
   ]
  },
  {
   "cell_type": "markdown",
   "metadata": {},
   "source": [
    "# Prepare the dataset"
   ]
  },
  {
   "cell_type": "code",
   "execution_count": 2,
   "metadata": {
    "ExecuteTime": {
     "end_time": "2021-04-21T08:27:00.805635Z",
     "start_time": "2021-04-21T08:27:00.791659Z"
    }
   },
   "outputs": [],
   "source": [
    "data_dir = \"./data/\""
   ]
  },
  {
   "cell_type": "code",
   "execution_count": 3,
   "metadata": {
    "ExecuteTime": {
     "end_time": "2021-04-21T08:27:01.182629Z",
     "start_time": "2021-04-21T08:27:01.119630Z"
    },
    "scrolled": true
   },
   "outputs": [
    {
     "data": {
      "text/html": [
       "<div>\n",
       "<style scoped>\n",
       "    .dataframe tbody tr th:only-of-type {\n",
       "        vertical-align: middle;\n",
       "    }\n",
       "\n",
       "    .dataframe tbody tr th {\n",
       "        vertical-align: top;\n",
       "    }\n",
       "\n",
       "    .dataframe thead th {\n",
       "        text-align: right;\n",
       "    }\n",
       "</style>\n",
       "<table border=\"1\" class=\"dataframe\">\n",
       "  <thead>\n",
       "    <tr style=\"text-align: right;\">\n",
       "      <th></th>\n",
       "      <th>student_I_id</th>\n",
       "      <th>article_I_id</th>\n",
       "      <th>sentence_I_id</th>\n",
       "      <th>student_II_id</th>\n",
       "      <th>article_II_id</th>\n",
       "      <th>sentence_II_id</th>\n",
       "    </tr>\n",
       "  </thead>\n",
       "  <tbody>\n",
       "    <tr>\n",
       "      <th>0</th>\n",
       "      <td>17021306_PhamCongNam</td>\n",
       "      <td>9</td>\n",
       "      <td>7</td>\n",
       "      <td>17021306_PhamCongNam</td>\n",
       "      <td>6</td>\n",
       "      <td>20</td>\n",
       "    </tr>\n",
       "    <tr>\n",
       "      <th>1</th>\n",
       "      <td>17021281_NguyenTrongLam</td>\n",
       "      <td>2</td>\n",
       "      <td>10</td>\n",
       "      <td>17021281_NguyenTrongLam</td>\n",
       "      <td>7</td>\n",
       "      <td>18</td>\n",
       "    </tr>\n",
       "    <tr>\n",
       "      <th>2</th>\n",
       "      <td>17021298_NguyenDinhNhatMinh</td>\n",
       "      <td>5</td>\n",
       "      <td>6</td>\n",
       "      <td>17021298_NguyenDinhNhatMinh</td>\n",
       "      <td>2</td>\n",
       "      <td>43</td>\n",
       "    </tr>\n",
       "    <tr>\n",
       "      <th>3</th>\n",
       "      <td>17021332_LeMinhTam</td>\n",
       "      <td>3</td>\n",
       "      <td>2</td>\n",
       "      <td>17021298_NguyenDinhNhatMinh</td>\n",
       "      <td>3</td>\n",
       "      <td>7</td>\n",
       "    </tr>\n",
       "    <tr>\n",
       "      <th>4</th>\n",
       "      <td>17021311_CaoMinhNhat</td>\n",
       "      <td>5</td>\n",
       "      <td>21</td>\n",
       "      <td>17021311_CaoMinhNhat</td>\n",
       "      <td>0</td>\n",
       "      <td>9</td>\n",
       "    </tr>\n",
       "    <tr>\n",
       "      <th>...</th>\n",
       "      <td>...</td>\n",
       "      <td>...</td>\n",
       "      <td>...</td>\n",
       "      <td>...</td>\n",
       "      <td>...</td>\n",
       "      <td>...</td>\n",
       "    </tr>\n",
       "    <tr>\n",
       "      <th>9995</th>\n",
       "      <td>17021311_CaoMinhNhat</td>\n",
       "      <td>6</td>\n",
       "      <td>18</td>\n",
       "      <td>17021306_PhamCongNam</td>\n",
       "      <td>9</td>\n",
       "      <td>12</td>\n",
       "    </tr>\n",
       "    <tr>\n",
       "      <th>9996</th>\n",
       "      <td>17021311_CaoMinhNhat</td>\n",
       "      <td>0</td>\n",
       "      <td>9</td>\n",
       "      <td>18020017_TranManhHieu</td>\n",
       "      <td>1</td>\n",
       "      <td>6</td>\n",
       "    </tr>\n",
       "    <tr>\n",
       "      <th>9997</th>\n",
       "      <td>18020833_NguyenKimLong</td>\n",
       "      <td>2</td>\n",
       "      <td>37</td>\n",
       "      <td>18020833_NguyenKimLong</td>\n",
       "      <td>7</td>\n",
       "      <td>0</td>\n",
       "    </tr>\n",
       "    <tr>\n",
       "      <th>9998</th>\n",
       "      <td>17021332_LeMinhTam</td>\n",
       "      <td>5</td>\n",
       "      <td>1</td>\n",
       "      <td>17021311_CaoMinhNhat</td>\n",
       "      <td>6</td>\n",
       "      <td>0</td>\n",
       "    </tr>\n",
       "    <tr>\n",
       "      <th>9999</th>\n",
       "      <td>17021281_NguyenTrongLam</td>\n",
       "      <td>0</td>\n",
       "      <td>3</td>\n",
       "      <td>17021281_NguyenTrongLam</td>\n",
       "      <td>9</td>\n",
       "      <td>3</td>\n",
       "    </tr>\n",
       "  </tbody>\n",
       "</table>\n",
       "<p>10000 rows × 6 columns</p>\n",
       "</div>"
      ],
      "text/plain": [
       "                     student_I_id  article_I_id  sentence_I_id  \\\n",
       "0            17021306_PhamCongNam             9              7   \n",
       "1         17021281_NguyenTrongLam             2             10   \n",
       "2     17021298_NguyenDinhNhatMinh             5              6   \n",
       "3              17021332_LeMinhTam             3              2   \n",
       "4            17021311_CaoMinhNhat             5             21   \n",
       "...                           ...           ...            ...   \n",
       "9995         17021311_CaoMinhNhat             6             18   \n",
       "9996         17021311_CaoMinhNhat             0              9   \n",
       "9997       18020833_NguyenKimLong             2             37   \n",
       "9998           17021332_LeMinhTam             5              1   \n",
       "9999      17021281_NguyenTrongLam             0              3   \n",
       "\n",
       "                    student_II_id  article_II_id  sentence_II_id  \n",
       "0            17021306_PhamCongNam              6              20  \n",
       "1         17021281_NguyenTrongLam              7              18  \n",
       "2     17021298_NguyenDinhNhatMinh              2              43  \n",
       "3     17021298_NguyenDinhNhatMinh              3               7  \n",
       "4            17021311_CaoMinhNhat              0               9  \n",
       "...                           ...            ...             ...  \n",
       "9995         17021306_PhamCongNam              9              12  \n",
       "9996        18020017_TranManhHieu              1               6  \n",
       "9997       18020833_NguyenKimLong              7               0  \n",
       "9998         17021311_CaoMinhNhat              6               0  \n",
       "9999      17021281_NguyenTrongLam              9               3  \n",
       "\n",
       "[10000 rows x 6 columns]"
      ]
     },
     "execution_count": 3,
     "metadata": {},
     "output_type": "execute_result"
    }
   ],
   "source": [
    "audio_pairs_df = pd.read_csv(data_dir + \"audio_sentence_pairs_test.csv\")\n",
    "audio_pairs_df"
   ]
  },
  {
   "cell_type": "code",
   "execution_count": 4,
   "metadata": {
    "ExecuteTime": {
     "end_time": "2021-04-21T08:40:57.349235Z",
     "start_time": "2021-04-21T08:27:18.728316Z"
    }
   },
   "outputs": [
    {
     "name": "stdout",
     "output_type": "stream",
     "text": [
      "Progress: ||||||||||||||||||||||||||||||||||||||||||||||||||||||||||||||||||||||||||||||||||||||||||||||||||||"
     ]
    }
   ],
   "source": [
    "import _pickle as cPickle\n",
    "import preprocessing\n",
    "\n",
    "MFCC_LEN_LIM = 700\n",
    "\n",
    "waveform_dir = data_dir + \"waveform/\"\n",
    "\n",
    "def create_mfcc_data(student_id, article_id, sentence_id):\n",
    "    audio_sentence = np.load(waveform_dir + student_id + \"/{:02d}/\".format(article_id + 1) + str(sentence_id) + \".npy\")\n",
    "    return preprocessing.mfcc(audio_sentence)[:MFCC_LEN_LIM]\n",
    "\n",
    "data_mfcc = {\n",
    "    \"sentence_I\": [],\n",
    "    \"sentence_II\": [],\n",
    "    \"same_speaker\": []\n",
    "}\n",
    "\n",
    "audio_pairs = audio_pairs_df.to_numpy()\n",
    "print('Progress: ', end='')\n",
    "for i in range(len(audio_pairs)):\n",
    "    row = audio_pairs[i]\n",
    "    data_mfcc['sentence_I'].append(create_mfcc_data(row[0], row[1], row[2]))\n",
    "    data_mfcc['sentence_II'].append(create_mfcc_data(row[3], row[4], row[5]))\n",
    "    data_mfcc['same_speaker'].append(row[0] == row[3])\n",
    "    if i * 100 // len(audio_pairs) > (i - 1) * 100 // len(audio_pairs):\n",
    "        print('|', end='')\n",
    "    \n",
    "cPickle.dump(data_mfcc, open(data_dir + f\"dataset/data_mfcc_10.pkl\", 'wb'), protocol=2)"
   ]
  },
  {
   "cell_type": "code",
   "execution_count": null,
   "metadata": {},
   "outputs": [],
   "source": []
  }
 ],
 "metadata": {
  "kernelspec": {
   "display_name": "Python 3",
   "language": "python",
   "name": "python3"
  },
  "language_info": {
   "codemirror_mode": {
    "name": "ipython",
    "version": 3
   },
   "file_extension": ".py",
   "mimetype": "text/x-python",
   "name": "python",
   "nbconvert_exporter": "python",
   "pygments_lexer": "ipython3",
   "version": "3.7.5"
  },
  "toc": {
   "base_numbering": 1,
   "nav_menu": {},
   "number_sections": true,
   "sideBar": true,
   "skip_h1_title": false,
   "title_cell": "Table of Contents",
   "title_sidebar": "Contents",
   "toc_cell": true,
   "toc_position": {
    "height": "calc(100% - 180px)",
    "left": "10px",
    "top": "150px",
    "width": "307.038px"
   },
   "toc_section_display": true,
   "toc_window_display": true
  }
 },
 "nbformat": 4,
 "nbformat_minor": 2
}
