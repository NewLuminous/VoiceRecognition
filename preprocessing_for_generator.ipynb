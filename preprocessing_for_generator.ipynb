{
 "cells": [
  {
   "cell_type": "markdown",
   "metadata": {
    "toc": true
   },
   "source": [
    "<h1>Table of Contents<span class=\"tocSkip\"></span></h1>\n",
    "<div class=\"toc\"><ul class=\"toc-item\"><li><span><a href=\"#Load-libraries\" data-toc-modified-id=\"Load-libraries-1\"><span class=\"toc-item-num\">1&nbsp;&nbsp;</span>Load libraries</a></span></li><li><span><a href=\"#Prepare-the-dataset\" data-toc-modified-id=\"Prepare-the-dataset-2\"><span class=\"toc-item-num\">2&nbsp;&nbsp;</span>Prepare the dataset</a></span></li></ul></div>"
   ]
  },
  {
   "cell_type": "markdown",
   "metadata": {},
   "source": [
    "# Load libraries"
   ]
  },
  {
   "cell_type": "code",
   "execution_count": 1,
   "metadata": {
    "ExecuteTime": {
     "end_time": "2021-04-22T11:24:45.635351Z",
     "start_time": "2021-04-22T11:24:42.637345Z"
    }
   },
   "outputs": [],
   "source": [
    "import librosa\n",
    "import librosa.display\n",
    "import IPython.display as ipd\n",
    "import matplotlib.pyplot as plt\n",
    "import numpy as np\n",
    "import pandas as pd"
   ]
  },
  {
   "cell_type": "markdown",
   "metadata": {},
   "source": [
    "# Prepare the dataset"
   ]
  },
  {
   "cell_type": "code",
   "execution_count": 2,
   "metadata": {
    "ExecuteTime": {
     "end_time": "2021-04-22T11:24:49.706978Z",
     "start_time": "2021-04-22T11:24:49.683943Z"
    }
   },
   "outputs": [],
   "source": [
    "import pickle\n",
    "\n",
    "data_dir = \"./data/\"\n",
    "with open(data_dir + \"speaker_audio_segments_dict.pkl\", 'rb') as f:\n",
    "    student_audio_segments_dict = pickle.load(f)"
   ]
  },
  {
   "cell_type": "code",
   "execution_count": 3,
   "metadata": {
    "ExecuteTime": {
     "end_time": "2021-04-22T11:24:52.288950Z",
     "start_time": "2021-04-22T11:24:52.086955Z"
    },
    "scrolled": true
   },
   "outputs": [
    {
     "data": {
      "text/plain": [
       "<matplotlib.colorbar.Colorbar at 0x1a663e9d1c8>"
      ]
     },
     "execution_count": 3,
     "metadata": {},
     "output_type": "execute_result"
    },
    {
     "data": {
      "image/png": "[encoded data removed]",
      "text/plain": [
       "<Figure size 432x288 with 2 Axes>"
      ]
     },
     "metadata": {
      "needs_background": "light"
     },
     "output_type": "display_data"
    }
   ],
   "source": [
    "DEFAULT_SAMPLING_RATE = 22050\n",
    "FRAME_SIZE = 512\n",
    "HOP_LENGTH = 256\n",
    "\n",
    "def extract_mfcc(sample):\n",
    "    MFCCs = librosa.feature.mfcc(sample, n_fft=FRAME_SIZE, hop_length=HOP_LENGTH, n_mfcc=13)\n",
    "    return MFCCs.T\n",
    "\n",
    "sample = np.load(data_dir + \"waveform/18020050_NguyenMinhTan/07/0.npy\")\n",
    "mfccs = extract_mfcc(sample)\n",
    "librosa.display.specshow(mfccs.T, sr=DEFAULT_SAMPLING_RATE, hop_length=HOP_LENGTH)\n",
    "plt.xlabel(\"Time\")\n",
    "plt.ylabel(\"Frequency\")\n",
    "plt.colorbar()"
   ]
  },
  {
   "cell_type": "code",
   "execution_count": 20,
   "metadata": {
    "ExecuteTime": {
     "end_time": "2021-04-22T14:17:53.208981Z",
     "start_time": "2021-04-22T14:02:30.064142Z"
    }
   },
   "outputs": [
    {
     "name": "stdout",
     "output_type": "stream",
     "text": [
      "17021214_TranVanCuong: ==========\n",
      "17021218_DoanDinhDung: ==========\n",
      "17021219_HaAnhDung: ==========\n",
      "17021220_HoangNgocDung: ==========\n",
      "17021229_VuTrongDuong: ==========\n",
      "17021242_PhamTuanHiep: ==========\n",
      "17021257_NguyenVietHoang: ==========\n",
      "17021275_VuQuocKhanh: ==========\n",
      "17021283_DangNhatLinh: ==========\n",
      "17021284_LuuHoaiLinh: ==========\n",
      "17021296_MacDinhMinh: ==========\n",
      "17021297_NguyenDinhMinh: ==========\n",
      "17021300_NguyenNgocMinh: ==========\n",
      "17021304_NguyenNam: ==========\n",
      "17021308_PhamHoangNam: ==========\n",
      "17021312_PhamDacNgocNhat: ==========\n",
      "17021313_DinhCongPhan: ==========\n",
      "17021314_NguyenNgocPhong: ==========\n",
      "17021321_TranThuPhuong: ==========\n",
      "17021324_NguyenHongQuan: ==========\n",
      "17021325_NguyenMinhQuan: ==========\n",
      "17021326_NguyenTuanQuoc: ==========\n",
      "17021330_PhamThaiSon: ==========\n",
      "17021338_LeVanThinh: ==========\n",
      "17021340_ThieuMinhThinh: ==========\n",
      "17021342_NhuAnhThu: ==========\n",
      "17021343_NguyenVuongTien: ==========\n",
      "17021354_NguyenSiTung: ==========\n",
      "17021357_TranQuangVinh: ==========\n",
      "18020009_NguyenTatDat: ==========\n",
      "18020050_NguyenMinhTan: ==========\n",
      "18020106_NguyenQuocAn: ==========\n",
      "18020131_TranDucAnh: ==========\n",
      "18020167_HoangVietAnh: ==========\n",
      "18020194_TrinhXuanBach: ==========\n",
      "18020290_NguyenTienDat: ==========\n",
      "18020370_NguyenManhDung: ==========\n",
      "18020434_NguyenDangHa: ==========\n",
      "18020439_NguyenPhucHai: ==========\n",
      "18020544_NguyenXuanHoang: ==========\n",
      "18020557_NguyenHuyHoang: ==========\n",
      "18020710_NguyenQuocKhanh: ==========\n",
      "18020792_NguyenPhiLong: ==========\n",
      "18020889_DamTuanMinh: ==========\n",
      "18020907_MaiXuanMinh: ==========\n",
      "18020918_PhuongAnhMy: ==========\n",
      "18020958_VuMinhNgoc: ==========\n",
      "18021002_NguyenTrungPhong: ==========\n",
      "18021027_LeThiPhuong: ==========\n",
      "18021078_CongMinhSon: ==========\n",
      "18021102_NguyenHuySon: ==========\n",
      "18021113_NguyenThiMinhTam: ==========\n",
      "18021159_DoTrinhQuocThang: ==========\n",
      "18021174_TranTrungThanh: ==========\n",
      "18021206_HoVanThep: ==========\n",
      "18021232_NgoDoanThinh: ==========\n",
      "18021346_LocPhiTruong: ==========\n"
     ]
    }
   ],
   "source": [
    "import _pickle as cPickle\n",
    "\n",
    "MFCC_LEN_LIM = 700\n",
    "\n",
    "waveform_dir = data_dir + \"waveform/\"\n",
    "\n",
    "def create_mfcc_data(student_id, article_id, sentence_id):\n",
    "    audio_sentence = np.load(waveform_dir + student_id + \"/{:02d}/\".format(article_id + 1) + str(sentence_id) + \".npy\")\n",
    "    mfccs = extract_mfcc(audio_sentence)\n",
    "    if len(mfccs) < MFCC_LEN_LIM:\n",
    "        padded_mfccs = np.zeros((MFCC_LEN_LIM, mfccs.shape[1]), dtype=np.float32)\n",
    "        padded_mfccs[-mfccs.shape[0]:] = mfccs\n",
    "        return padded_mfccs\n",
    "    return mfccs[:MFCC_LEN_LIM]\n",
    "\n",
    "data_mfcc = {}\n",
    "for student_id in student_audio_segments_dict:\n",
    "    print(student_id, end=\": \")\n",
    "    student_mfccs = []\n",
    "    for article_id in range(len(student_audio_segments_dict[student_id])):\n",
    "        article_mfccs = []\n",
    "        for sentence_id in range(len(student_audio_segments_dict[student_id][article_id])):\n",
    "            if student_audio_segments_dict[student_id][article_id][sentence_id] == (None, None):\n",
    "                article_mfccs.append(None)\n",
    "            else:\n",
    "                article_mfccs.append(create_mfcc_data(student_id, article_id, sentence_id))\n",
    "        student_mfccs.append(article_mfccs)\n",
    "        print('=', end='')\n",
    "    data_mfcc[student_id] = student_mfccs\n",
    "    print('')\n",
    "\n",
    "cPickle.dump(data_mfcc, open(data_dir + \"dataset/data_mfcc_for_generator.pkl\", 'wb'), protocol=2)"
   ]
  },
  {
   "cell_type": "code",
   "execution_count": null,
   "metadata": {},
   "outputs": [],
   "source": []
  }
 ],
 "metadata": {
  "kernelspec": {
   "display_name": "Python 3",
   "language": "python",
   "name": "python3"
  },
  "language_info": {
   "codemirror_mode": {
    "name": "ipython",
    "version": 3
   },
   "file_extension": ".py",
   "mimetype": "text/x-python",
   "name": "python",
   "nbconvert_exporter": "python",
   "pygments_lexer": "ipython3",
   "version": "3.7.5"
  },
  "toc": {
   "base_numbering": 1,
   "nav_menu": {},
   "number_sections": true,
   "sideBar": true,
   "skip_h1_title": false,
   "title_cell": "Table of Contents",
   "title_sidebar": "Contents",
   "toc_cell": true,
   "toc_position": {
    "height": "calc(100% - 180px)",
    "left": "10px",
    "top": "150px",
    "width": "307.038px"
   },
   "toc_section_display": true,
   "toc_window_display": true
  }
 },
 "nbformat": 4,
 "nbformat_minor": 2
}
