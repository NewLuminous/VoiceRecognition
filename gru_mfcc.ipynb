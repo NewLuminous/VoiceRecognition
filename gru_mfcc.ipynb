{
 "cells": [
  {
   "cell_type": "markdown",
   "metadata": {
    "toc": true
   },
   "source": [
    "<h1>Table of Contents<span class=\"tocSkip\"></span></h1>\n",
    "<div class=\"toc\"><ul class=\"toc-item\"><li><span><a href=\"#Load-libraries\" data-toc-modified-id=\"Load-libraries-1\"><span class=\"toc-item-num\">1&nbsp;&nbsp;</span>Load libraries</a></span></li><li><span><a href=\"#Load-data\" data-toc-modified-id=\"Load-data-2\"><span class=\"toc-item-num\">2&nbsp;&nbsp;</span>Load data</a></span></li><li><span><a href=\"#Train-model\" data-toc-modified-id=\"Train-model-3\"><span class=\"toc-item-num\">3&nbsp;&nbsp;</span>Train model</a></span></li><li><span><a href=\"#Evaluation\" data-toc-modified-id=\"Evaluation-4\"><span class=\"toc-item-num\">4&nbsp;&nbsp;</span>Evaluation</a></span></li></ul></div>"
   ]
  },
  {
   "cell_type": "markdown",
   "metadata": {
    "ExecuteTime": {
     "end_time": "2021-04-18T06:10:15.387785Z",
     "start_time": "2021-04-18T06:10:15.380784Z"
    }
   },
   "source": [
    "# Load libraries"
   ]
  },
  {
   "cell_type": "code",
   "execution_count": 1,
   "metadata": {
    "ExecuteTime": {
     "end_time": "2021-04-21T06:35:43.605185Z",
     "start_time": "2021-04-21T06:35:40.265481Z"
    }
   },
   "outputs": [],
   "source": [
    "import numpy as np\n",
    "import matplotlib.pyplot as plt\n",
    "import evaluation\n",
    "import _pickle as cPickle"
   ]
  },
  {
   "cell_type": "markdown",
   "metadata": {},
   "source": [
    "# Load data"
   ]
  },
  {
   "cell_type": "code",
   "execution_count": 2,
   "metadata": {
    "ExecuteTime": {
     "end_time": "2021-04-21T06:35:43.622142Z",
     "start_time": "2021-04-21T06:35:43.609138Z"
    }
   },
   "outputs": [],
   "source": [
    "data_dir = \"./data/\"  + \"dataset/\"\n",
    "\n",
    "MFCC_LEN_LIM = 700\n",
    "N_MFCC = 13\n",
    "FOLDS = 10"
   ]
  },
  {
   "cell_type": "code",
   "execution_count": 8,
   "metadata": {
    "ExecuteTime": {
     "end_time": "2021-04-21T08:41:44.887549Z",
     "start_time": "2021-04-21T08:41:44.868529Z"
    }
   },
   "outputs": [],
   "source": [
    "def load_data(from_fold, to_fold):\n",
    "    X = []\n",
    "    y = []\n",
    "    for fold in range(from_fold, to_fold + 1):\n",
    "        with open(data_dir + f\"data_mfcc_{fold}.pkl\", 'rb') as f:\n",
    "            data_mfcc = cPickle.load(f)\n",
    "\n",
    "        for i in range(len(data_mfcc['sentence_I'])):\n",
    "            if data_mfcc['sentence_I'][i].shape[0] < MFCC_LEN_LIM:\n",
    "                sentence_I = np.zeros((MFCC_LEN_LIM, N_MFCC), dtype=np.float32)\n",
    "                sentence_I[-data_mfcc['sentence_I'][i].shape[0]:] = data_mfcc['sentence_I'][i]\n",
    "            else:\n",
    "                sentence_I = data_mfcc['sentence_I'][i]\n",
    "                \n",
    "            if data_mfcc['sentence_II'][i].shape[0] < MFCC_LEN_LIM:\n",
    "                sentence_II = np.zeros((MFCC_LEN_LIM, N_MFCC), dtype=np.float32)\n",
    "                sentence_II[-data_mfcc['sentence_II'][i].shape[0]:] = data_mfcc['sentence_II'][i]\n",
    "            else:\n",
    "                sentence_II = data_mfcc['sentence_II'][i]\n",
    "            X.append([sentence_I, sentence_II])\n",
    "            y.append(data_mfcc['same_speaker'][i])\n",
    "    return np.array(X), np.array(y)"
   ]
  },
  {
   "cell_type": "code",
   "execution_count": 3,
   "metadata": {
    "ExecuteTime": {
     "end_time": "2021-04-21T06:28:25.785908Z",
     "start_time": "2021-04-21T04:33:54.222484Z"
    }
   },
   "outputs": [
    {
     "data": {
      "text/plain": [
       "(100000, 2, 700, 13)"
      ]
     },
     "execution_count": 3,
     "metadata": {},
     "output_type": "execute_result"
    }
   ],
   "source": [
    "X_train, y_train = load_data(0, FOLDS - 1)\n",
    "X_train.shape"
   ]
  },
  {
   "cell_type": "code",
   "execution_count": 4,
   "metadata": {
    "ExecuteTime": {
     "end_time": "2021-04-21T06:29:40.850149Z",
     "start_time": "2021-04-21T06:28:25.794913Z"
    }
   },
   "outputs": [],
   "source": [
    "np.save(data_dir + \"data_mfcc_x.npy\", X_train)\n",
    "np.save(data_dir + \"data_mfcc_y.npy\", y_train)"
   ]
  },
  {
   "cell_type": "code",
   "execution_count": 3,
   "metadata": {
    "ExecuteTime": {
     "end_time": "2021-04-21T06:35:50.995526Z",
     "start_time": "2021-04-21T06:35:47.621493Z"
    }
   },
   "outputs": [],
   "source": [
    "X_train = np.load(data_dir + \"data_mfcc_x.npy\")\n",
    "y_train = np.load(data_dir + \"data_mfcc_y.npy\")"
   ]
  },
  {
   "cell_type": "markdown",
   "metadata": {},
   "source": [
    "# Train model"
   ]
  },
  {
   "cell_type": "code",
   "execution_count": 4,
   "metadata": {
    "ExecuteTime": {
     "end_time": "2021-04-21T06:36:19.384083Z",
     "start_time": "2021-04-21T06:36:03.225973Z"
    }
   },
   "outputs": [
    {
     "name": "stdout",
     "output_type": "stream",
     "text": [
      "Model: \"functional_1\"\n",
      "__________________________________________________________________________________________________\n",
      "Layer (type)                    Output Shape         Param #     Connected to                     \n",
      "==================================================================================================\n",
      "input_1 (InputLayer)            [(None, None, 13)]   0                                            \n",
      "__________________________________________________________________________________________________\n",
      "input_2 (InputLayer)            [(None, None, 13)]   0                                            \n",
      "__________________________________________________________________________________________________\n",
      "gru (GRU)                       (None, None, 64)     15168       input_1[0][0]                    \n",
      "__________________________________________________________________________________________________\n",
      "gru_2 (GRU)                     (None, None, 64)     15168       input_2[0][0]                    \n",
      "__________________________________________________________________________________________________\n",
      "gru_1 (GRU)                     (None, 64)           24960       gru[0][0]                        \n",
      "__________________________________________________________________________________________________\n",
      "gru_3 (GRU)                     (None, 64)           24960       gru_2[0][0]                      \n",
      "__________________________________________________________________________________________________\n",
      "concatenate (Concatenate)       (None, 128)          0           gru_1[0][0]                      \n",
      "                                                                 gru_3[0][0]                      \n",
      "__________________________________________________________________________________________________\n",
      "dense (Dense)                   (None, 64)           8256        concatenate[0][0]                \n",
      "__________________________________________________________________________________________________\n",
      "dropout (Dropout)               (None, 64)           0           dense[0][0]                      \n",
      "__________________________________________________________________________________________________\n",
      "dense_1 (Dense)                 (None, 1)            65          dropout[0][0]                    \n",
      "==================================================================================================\n",
      "Total params: 88,577\n",
      "Trainable params: 88,577\n",
      "Non-trainable params: 0\n",
      "__________________________________________________________________________________________________\n"
     ]
    }
   ],
   "source": [
    "from modeling.gru_gru import GRU_GRU\n",
    "\n",
    "model = GRU_GRU(num_features=N_MFCC)"
   ]
  },
  {
   "cell_type": "code",
   "execution_count": 19,
   "metadata": {
    "ExecuteTime": {
     "end_time": "2021-04-20T18:50:46.543646Z",
     "start_time": "2021-04-20T14:49:12.738347Z"
    },
    "scrolled": true
   },
   "outputs": [
    {
     "name": "stdout",
     "output_type": "stream",
     "text": [
      "Epoch 1/100\n",
      "2532/2532 [==============================] - 230s 91ms/step - loss: 0.5275 - acc: 0.7308 - val_loss: 0.3477 - val_acc: 0.8546\n",
      "Epoch 2/100\n",
      "2532/2532 [==============================] - 227s 90ms/step - loss: 0.3220 - acc: 0.8694 - val_loss: 0.2485 - val_acc: 0.9023\n",
      "Epoch 3/100\n",
      "2532/2532 [==============================] - 227s 90ms/step - loss: 0.2578 - acc: 0.9010 - val_loss: 0.2097 - val_acc: 0.9229\n",
      "Epoch 4/100\n",
      "2532/2532 [==============================] - 223s 88ms/step - loss: 0.2166 - acc: 0.9189 - val_loss: 0.1766 - val_acc: 0.9370\n",
      "Epoch 5/100\n",
      "2532/2532 [==============================] - 223s 88ms/step - loss: 0.1853 - acc: 0.9322 - val_loss: 0.1559 - val_acc: 0.9440\n",
      "Epoch 6/100\n",
      "2532/2532 [==============================] - 223s 88ms/step - loss: 0.1662 - acc: 0.9402 - val_loss: 0.1366 - val_acc: 0.9496\n",
      "Epoch 7/100\n",
      "2532/2532 [==============================] - 223s 88ms/step - loss: 0.1510 - acc: 0.9467 - val_loss: 0.1195 - val_acc: 0.9588\n",
      "Epoch 8/100\n",
      "2532/2532 [==============================] - 225s 89ms/step - loss: 0.1397 - acc: 0.9508 - val_loss: 0.1382 - val_acc: 0.9494\n",
      "Epoch 9/100\n",
      "2532/2532 [==============================] - 225s 89ms/step - loss: 0.1363 - acc: 0.9524 - val_loss: 0.1352 - val_acc: 0.9497\n",
      "Epoch 10/100\n",
      "2532/2532 [==============================] - 220s 87ms/step - loss: 0.1279 - acc: 0.9566 - val_loss: 0.1174 - val_acc: 0.9594\n",
      "Epoch 11/100\n",
      "2532/2532 [==============================] - 231s 91ms/step - loss: 0.1153 - acc: 0.9597 - val_loss: 0.1168 - val_acc: 0.9586\n",
      "Epoch 12/100\n",
      "2532/2532 [==============================] - 232s 92ms/step - loss: 0.1101 - acc: 0.9615 - val_loss: 0.0946 - val_acc: 0.9651\n",
      "Epoch 13/100\n",
      "2532/2532 [==============================] - 234s 92ms/step - loss: 0.1044 - acc: 0.9646 - val_loss: 0.0883 - val_acc: 0.9701\n",
      "Epoch 14/100\n",
      "2532/2532 [==============================] - 221s 87ms/step - loss: 0.0985 - acc: 0.9668 - val_loss: 0.0727 - val_acc: 0.9743\n",
      "Epoch 15/100\n",
      "2532/2532 [==============================] - 224s 88ms/step - loss: 0.0921 - acc: 0.9690 - val_loss: 0.0860 - val_acc: 0.9734\n",
      "Epoch 16/100\n",
      "2532/2532 [==============================] - 234s 92ms/step - loss: 0.0862 - acc: 0.9706 - val_loss: 0.0787 - val_acc: 0.9750\n",
      "Epoch 17/100\n",
      "2532/2532 [==============================] - 226s 89ms/step - loss: 0.0819 - acc: 0.9725 - val_loss: 0.0541 - val_acc: 0.9818\n",
      "Epoch 18/100\n",
      "2532/2532 [==============================] - 225s 89ms/step - loss: 0.0744 - acc: 0.9745 - val_loss: 0.0601 - val_acc: 0.9810\n",
      "Epoch 19/100\n",
      "2532/2532 [==============================] - 224s 89ms/step - loss: 0.0743 - acc: 0.9748 - val_loss: 0.0697 - val_acc: 0.9761\n",
      "Epoch 20/100\n",
      "2532/2532 [==============================] - 223s 88ms/step - loss: 0.0714 - acc: 0.9765 - val_loss: 0.0551 - val_acc: 0.9819\n",
      "Epoch 21/100\n",
      "2532/2532 [==============================] - 223s 88ms/step - loss: 0.0684 - acc: 0.9773 - val_loss: 0.0459 - val_acc: 0.9853\n",
      "Epoch 22/100\n",
      "2532/2532 [==============================] - 224s 88ms/step - loss: 0.0682 - acc: 0.9772 - val_loss: 0.0528 - val_acc: 0.9839\n",
      "Epoch 23/100\n",
      "2532/2532 [==============================] - 223s 88ms/step - loss: 0.0668 - acc: 0.9778 - val_loss: 0.0534 - val_acc: 0.9838\n",
      "Epoch 24/100\n",
      "2532/2532 [==============================] - 223s 88ms/step - loss: 0.0645 - acc: 0.9788 - val_loss: 0.0554 - val_acc: 0.9807\n",
      "Epoch 25/100\n",
      "2532/2532 [==============================] - 219s 86ms/step - loss: 0.0572 - acc: 0.9816 - val_loss: 0.0442 - val_acc: 0.9858\n",
      "Epoch 26/100\n",
      "2532/2532 [==============================] - 216s 85ms/step - loss: 0.0595 - acc: 0.9808 - val_loss: 0.0487 - val_acc: 0.9837\n",
      "Epoch 27/100\n",
      "2532/2532 [==============================] - 217s 86ms/step - loss: 0.0631 - acc: 0.9791 - val_loss: 0.0459 - val_acc: 0.9848\n",
      "Epoch 28/100\n",
      "2532/2532 [==============================] - 214s 85ms/step - loss: 0.0559 - acc: 0.9817 - val_loss: 0.0487 - val_acc: 0.9867\n",
      "Epoch 29/100\n",
      "2532/2532 [==============================] - 215s 85ms/step - loss: 0.0556 - acc: 0.9816 - val_loss: 0.0451 - val_acc: 0.9862\n",
      "Epoch 30/100\n",
      "2532/2532 [==============================] - 214s 85ms/step - loss: 0.0581 - acc: 0.9809 - val_loss: 0.0429 - val_acc: 0.9870\n",
      "Epoch 31/100\n",
      "2532/2532 [==============================] - 214s 85ms/step - loss: 0.0487 - acc: 0.9841 - val_loss: 0.0444 - val_acc: 0.9868\n",
      "Epoch 32/100\n",
      "2532/2532 [==============================] - 224s 89ms/step - loss: 0.0559 - acc: 0.9820 - val_loss: 0.0537 - val_acc: 0.9817\n",
      "Epoch 33/100\n",
      "2532/2532 [==============================] - 229s 90ms/step - loss: 0.0572 - acc: 0.9813 - val_loss: 0.0396 - val_acc: 0.9877\n",
      "Epoch 34/100\n",
      "2532/2532 [==============================] - 220s 87ms/step - loss: 0.0509 - acc: 0.9833 - val_loss: 0.0482 - val_acc: 0.9847\n",
      "Epoch 35/100\n",
      "2532/2532 [==============================] - 218s 86ms/step - loss: 0.0522 - acc: 0.9830 - val_loss: 0.0358 - val_acc: 0.9886\n",
      "Epoch 36/100\n",
      "2532/2532 [==============================] - 224s 88ms/step - loss: 0.0445 - acc: 0.9851 - val_loss: 0.0435 - val_acc: 0.9862\n",
      "Epoch 37/100\n",
      "2532/2532 [==============================] - 225s 89ms/step - loss: 0.0499 - acc: 0.9841 - val_loss: 0.0424 - val_acc: 0.9853\n",
      "Epoch 38/100\n",
      "2532/2532 [==============================] - 224s 88ms/step - loss: 0.0454 - acc: 0.9855 - val_loss: 0.0411 - val_acc: 0.9862\n",
      "Epoch 39/100\n",
      "2532/2532 [==============================] - 221s 87ms/step - loss: 0.0443 - acc: 0.9859 - val_loss: 0.0345 - val_acc: 0.9892\n",
      "Epoch 40/100\n",
      "2532/2532 [==============================] - 251s 99ms/step - loss: 0.0476 - acc: 0.9846 - val_loss: 0.0317 - val_acc: 0.9896\n",
      "Epoch 41/100\n",
      "2532/2532 [==============================] - 326s 129ms/step - loss: 0.0454 - acc: 0.9855 - val_loss: 0.0429 - val_acc: 0.9869\n",
      "Epoch 42/100\n",
      "2532/2532 [==============================] - 466s 184ms/step - loss: 0.0446 - acc: 0.9853 - val_loss: 0.0385 - val_acc: 0.9890\n",
      "Epoch 43/100\n",
      "2532/2532 [==============================] - 553s 218ms/step - loss: 0.0441 - acc: 0.9860 - val_loss: 0.0359 - val_acc: 0.9913\n",
      "Epoch 44/100\n",
      "2532/2532 [==============================] - 450s 178ms/step - loss: 0.0384 - acc: 0.9875 - val_loss: 0.0358 - val_acc: 0.9903\n",
      "Epoch 45/100\n",
      "2532/2532 [==============================] - 437s 173ms/step - loss: 0.0406 - acc: 0.9871 - val_loss: 0.0296 - val_acc: 0.9917\n",
      "Epoch 46/100\n",
      "2532/2532 [==============================] - 425s 168ms/step - loss: 0.0425 - acc: 0.9859 - val_loss: 0.0371 - val_acc: 0.9882\n",
      "Epoch 47/100\n",
      "2532/2532 [==============================] - 364s 144ms/step - loss: 0.0542 - acc: 0.9830 - val_loss: 0.0379 - val_acc: 0.9889\n",
      "Epoch 48/100\n",
      "2532/2532 [==============================] - 351s 139ms/step - loss: 0.0435 - acc: 0.9864 - val_loss: 0.0376 - val_acc: 0.9878\n",
      "Epoch 49/100\n",
      "2532/2532 [==============================] - 227s 90ms/step - loss: 0.0387 - acc: 0.9875 - val_loss: 0.0374 - val_acc: 0.9889\n",
      "Epoch 50/100\n",
      "2532/2532 [==============================] - 218s 86ms/step - loss: 0.0417 - acc: 0.9863 - val_loss: 0.0355 - val_acc: 0.9900\n",
      "Epoch 51/100\n",
      "2532/2532 [==============================] - 218s 86ms/step - loss: 0.0393 - acc: 0.9876 - val_loss: 0.0324 - val_acc: 0.9904\n",
      "Epoch 52/100\n",
      "2532/2532 [==============================] - 225s 89ms/step - loss: 0.0365 - acc: 0.9886 - val_loss: 0.0375 - val_acc: 0.9878\n",
      "Epoch 53/100\n",
      "2532/2532 [==============================] - 223s 88ms/step - loss: 0.0367 - acc: 0.9880 - val_loss: 0.0304 - val_acc: 0.9914\n",
      "Epoch 54/100\n",
      "2532/2532 [==============================] - 219s 87ms/step - loss: 0.0384 - acc: 0.9874 - val_loss: 0.0365 - val_acc: 0.9888\n",
      "Epoch 55/100\n",
      "2532/2532 [==============================] - 222s 88ms/step - loss: 0.0338 - acc: 0.9891 - val_loss: 0.0313 - val_acc: 0.9906\n",
      "Epoch 56/100\n",
      "2532/2532 [==============================] - 225s 89ms/step - loss: 0.0418 - acc: 0.9865 - val_loss: 0.0393 - val_acc: 0.9883\n",
      "Epoch 57/100\n",
      "2532/2532 [==============================] - 222s 88ms/step - loss: 0.0406 - acc: 0.9866 - val_loss: 0.0328 - val_acc: 0.9907\n",
      "Epoch 58/100\n",
      "1066/2532 [===========>..................] - ETA: 2:03 - loss: 0.0421 - acc: 0.9864"
     ]
    },
    {
     "ename": "KeyboardInterrupt",
     "evalue": "",
     "output_type": "error",
     "traceback": [
      "\u001b[1;31m---------------------------------------------------------------------------\u001b[0m",
      "\u001b[1;31mKeyboardInterrupt\u001b[0m                         Traceback (most recent call last)",
      "\u001b[1;32m<ipython-input-19-01bdcef1bb57>\u001b[0m in \u001b[0;36m<module>\u001b[1;34m\u001b[0m\n\u001b[1;32m----> 1\u001b[1;33m \u001b[0mmodel\u001b[0m\u001b[1;33m.\u001b[0m\u001b[0mfit\u001b[0m\u001b[1;33m(\u001b[0m\u001b[0mX\u001b[0m\u001b[1;33m,\u001b[0m \u001b[0my\u001b[0m\u001b[1;33m,\u001b[0m \u001b[0mepochs\u001b[0m\u001b[1;33m=\u001b[0m\u001b[1;36m100\u001b[0m\u001b[1;33m,\u001b[0m \u001b[0mearly_stopping_rounds\u001b[0m\u001b[1;33m=\u001b[0m\u001b[1;36m20\u001b[0m\u001b[1;33m)\u001b[0m\u001b[1;33m\u001b[0m\u001b[1;33m\u001b[0m\u001b[0m\n\u001b[0m",
      "\u001b[1;32mD:\\SpeechProcessing\\VoiceRecognition\\modeling\\gru_gru.py\u001b[0m in \u001b[0;36mfit\u001b[1;34m(self, X, y, epochs, early_stopping_rounds)\u001b[0m\n\u001b[0;32m     64\u001b[0m                                       \u001b[0mverbose\u001b[0m\u001b[1;33m=\u001b[0m\u001b[1;36m1\u001b[0m\u001b[1;33m,\u001b[0m\u001b[1;33m\u001b[0m\u001b[1;33m\u001b[0m\u001b[0m\n\u001b[0;32m     65\u001b[0m                                       \u001b[0mcallbacks\u001b[0m\u001b[1;33m=\u001b[0m\u001b[0mcallbacks\u001b[0m\u001b[1;33m,\u001b[0m\u001b[1;33m\u001b[0m\u001b[1;33m\u001b[0m\u001b[0m\n\u001b[1;32m---> 66\u001b[1;33m                                       \u001b[0mvalidation_data\u001b[0m\u001b[1;33m=\u001b[0m\u001b[1;33m(\u001b[0m\u001b[1;33m[\u001b[0m\u001b[0mX_val\u001b[0m\u001b[1;33m[\u001b[0m\u001b[1;33m:\u001b[0m\u001b[1;33m,\u001b[0m\u001b[1;36m0\u001b[0m\u001b[1;33m]\u001b[0m\u001b[1;33m,\u001b[0m \u001b[0mX_val\u001b[0m\u001b[1;33m[\u001b[0m\u001b[1;33m:\u001b[0m\u001b[1;33m,\u001b[0m\u001b[1;36m1\u001b[0m\u001b[1;33m]\u001b[0m\u001b[1;33m]\u001b[0m\u001b[1;33m,\u001b[0m \u001b[0my_val\u001b[0m\u001b[1;33m)\u001b[0m\u001b[1;33m\u001b[0m\u001b[1;33m\u001b[0m\u001b[0m\n\u001b[0m\u001b[0;32m     67\u001b[0m                                      )\n\u001b[0;32m     68\u001b[0m         \u001b[1;32mreturn\u001b[0m \u001b[0mhistory\u001b[0m\u001b[1;33m\u001b[0m\u001b[1;33m\u001b[0m\u001b[0m\n",
      "\u001b[1;32m~\\AppData\\Roaming\\Python\\Python37\\site-packages\\tensorflow\\python\\keras\\engine\\training.py\u001b[0m in \u001b[0;36m_method_wrapper\u001b[1;34m(self, *args, **kwargs)\u001b[0m\n\u001b[0;32m    106\u001b[0m   \u001b[1;32mdef\u001b[0m \u001b[0m_method_wrapper\u001b[0m\u001b[1;33m(\u001b[0m\u001b[0mself\u001b[0m\u001b[1;33m,\u001b[0m \u001b[1;33m*\u001b[0m\u001b[0margs\u001b[0m\u001b[1;33m,\u001b[0m \u001b[1;33m**\u001b[0m\u001b[0mkwargs\u001b[0m\u001b[1;33m)\u001b[0m\u001b[1;33m:\u001b[0m\u001b[1;33m\u001b[0m\u001b[1;33m\u001b[0m\u001b[0m\n\u001b[0;32m    107\u001b[0m     \u001b[1;32mif\u001b[0m \u001b[1;32mnot\u001b[0m \u001b[0mself\u001b[0m\u001b[1;33m.\u001b[0m\u001b[0m_in_multi_worker_mode\u001b[0m\u001b[1;33m(\u001b[0m\u001b[1;33m)\u001b[0m\u001b[1;33m:\u001b[0m  \u001b[1;31m# pylint: disable=protected-access\u001b[0m\u001b[1;33m\u001b[0m\u001b[1;33m\u001b[0m\u001b[0m\n\u001b[1;32m--> 108\u001b[1;33m       \u001b[1;32mreturn\u001b[0m \u001b[0mmethod\u001b[0m\u001b[1;33m(\u001b[0m\u001b[0mself\u001b[0m\u001b[1;33m,\u001b[0m \u001b[1;33m*\u001b[0m\u001b[0margs\u001b[0m\u001b[1;33m,\u001b[0m \u001b[1;33m**\u001b[0m\u001b[0mkwargs\u001b[0m\u001b[1;33m)\u001b[0m\u001b[1;33m\u001b[0m\u001b[1;33m\u001b[0m\u001b[0m\n\u001b[0m\u001b[0;32m    109\u001b[0m \u001b[1;33m\u001b[0m\u001b[0m\n\u001b[0;32m    110\u001b[0m     \u001b[1;31m# Running inside `run_distribute_coordinator` already.\u001b[0m\u001b[1;33m\u001b[0m\u001b[1;33m\u001b[0m\u001b[1;33m\u001b[0m\u001b[0m\n",
      "\u001b[1;32m~\\AppData\\Roaming\\Python\\Python37\\site-packages\\tensorflow\\python\\keras\\engine\\training.py\u001b[0m in \u001b[0;36mfit\u001b[1;34m(self, x, y, batch_size, epochs, verbose, callbacks, validation_split, validation_data, shuffle, class_weight, sample_weight, initial_epoch, steps_per_epoch, validation_steps, validation_batch_size, validation_freq, max_queue_size, workers, use_multiprocessing)\u001b[0m\n\u001b[0;32m   1101\u001b[0m               \u001b[0mlogs\u001b[0m \u001b[1;33m=\u001b[0m \u001b[0mtmp_logs\u001b[0m  \u001b[1;31m# No error, now safe to assign to logs.\u001b[0m\u001b[1;33m\u001b[0m\u001b[1;33m\u001b[0m\u001b[0m\n\u001b[0;32m   1102\u001b[0m               \u001b[0mend_step\u001b[0m \u001b[1;33m=\u001b[0m \u001b[0mstep\u001b[0m \u001b[1;33m+\u001b[0m \u001b[0mdata_handler\u001b[0m\u001b[1;33m.\u001b[0m\u001b[0mstep_increment\u001b[0m\u001b[1;33m\u001b[0m\u001b[1;33m\u001b[0m\u001b[0m\n\u001b[1;32m-> 1103\u001b[1;33m               \u001b[0mcallbacks\u001b[0m\u001b[1;33m.\u001b[0m\u001b[0mon_train_batch_end\u001b[0m\u001b[1;33m(\u001b[0m\u001b[0mend_step\u001b[0m\u001b[1;33m,\u001b[0m \u001b[0mlogs\u001b[0m\u001b[1;33m)\u001b[0m\u001b[1;33m\u001b[0m\u001b[1;33m\u001b[0m\u001b[0m\n\u001b[0m\u001b[0;32m   1104\u001b[0m         \u001b[0mepoch_logs\u001b[0m \u001b[1;33m=\u001b[0m \u001b[0mcopy\u001b[0m\u001b[1;33m.\u001b[0m\u001b[0mcopy\u001b[0m\u001b[1;33m(\u001b[0m\u001b[0mlogs\u001b[0m\u001b[1;33m)\u001b[0m\u001b[1;33m\u001b[0m\u001b[1;33m\u001b[0m\u001b[0m\n\u001b[0;32m   1105\u001b[0m \u001b[1;33m\u001b[0m\u001b[0m\n",
      "\u001b[1;32m~\\AppData\\Roaming\\Python\\Python37\\site-packages\\tensorflow\\python\\keras\\callbacks.py\u001b[0m in \u001b[0;36mon_train_batch_end\u001b[1;34m(self, batch, logs)\u001b[0m\n\u001b[0;32m    438\u001b[0m     \"\"\"\n\u001b[0;32m    439\u001b[0m     \u001b[1;32mif\u001b[0m \u001b[0mself\u001b[0m\u001b[1;33m.\u001b[0m\u001b[0m_should_call_train_batch_hooks\u001b[0m\u001b[1;33m:\u001b[0m\u001b[1;33m\u001b[0m\u001b[1;33m\u001b[0m\u001b[0m\n\u001b[1;32m--> 440\u001b[1;33m       \u001b[0mself\u001b[0m\u001b[1;33m.\u001b[0m\u001b[0m_call_batch_hook\u001b[0m\u001b[1;33m(\u001b[0m\u001b[0mModeKeys\u001b[0m\u001b[1;33m.\u001b[0m\u001b[0mTRAIN\u001b[0m\u001b[1;33m,\u001b[0m \u001b[1;34m'end'\u001b[0m\u001b[1;33m,\u001b[0m \u001b[0mbatch\u001b[0m\u001b[1;33m,\u001b[0m \u001b[0mlogs\u001b[0m\u001b[1;33m=\u001b[0m\u001b[0mlogs\u001b[0m\u001b[1;33m)\u001b[0m\u001b[1;33m\u001b[0m\u001b[1;33m\u001b[0m\u001b[0m\n\u001b[0m\u001b[0;32m    441\u001b[0m \u001b[1;33m\u001b[0m\u001b[0m\n\u001b[0;32m    442\u001b[0m   \u001b[1;32mdef\u001b[0m \u001b[0mon_test_batch_begin\u001b[0m\u001b[1;33m(\u001b[0m\u001b[0mself\u001b[0m\u001b[1;33m,\u001b[0m \u001b[0mbatch\u001b[0m\u001b[1;33m,\u001b[0m \u001b[0mlogs\u001b[0m\u001b[1;33m=\u001b[0m\u001b[1;32mNone\u001b[0m\u001b[1;33m)\u001b[0m\u001b[1;33m:\u001b[0m\u001b[1;33m\u001b[0m\u001b[1;33m\u001b[0m\u001b[0m\n",
      "\u001b[1;32m~\\AppData\\Roaming\\Python\\Python37\\site-packages\\tensorflow\\python\\keras\\callbacks.py\u001b[0m in \u001b[0;36m_call_batch_hook\u001b[1;34m(self, mode, hook, batch, logs)\u001b[0m\n\u001b[0;32m    287\u001b[0m       \u001b[0mself\u001b[0m\u001b[1;33m.\u001b[0m\u001b[0m_call_batch_begin_hook\u001b[0m\u001b[1;33m(\u001b[0m\u001b[0mmode\u001b[0m\u001b[1;33m,\u001b[0m \u001b[0mbatch\u001b[0m\u001b[1;33m,\u001b[0m \u001b[0mlogs\u001b[0m\u001b[1;33m)\u001b[0m\u001b[1;33m\u001b[0m\u001b[1;33m\u001b[0m\u001b[0m\n\u001b[0;32m    288\u001b[0m     \u001b[1;32melif\u001b[0m \u001b[0mhook\u001b[0m \u001b[1;33m==\u001b[0m \u001b[1;34m'end'\u001b[0m\u001b[1;33m:\u001b[0m\u001b[1;33m\u001b[0m\u001b[1;33m\u001b[0m\u001b[0m\n\u001b[1;32m--> 289\u001b[1;33m       \u001b[0mself\u001b[0m\u001b[1;33m.\u001b[0m\u001b[0m_call_batch_end_hook\u001b[0m\u001b[1;33m(\u001b[0m\u001b[0mmode\u001b[0m\u001b[1;33m,\u001b[0m \u001b[0mbatch\u001b[0m\u001b[1;33m,\u001b[0m \u001b[0mlogs\u001b[0m\u001b[1;33m)\u001b[0m\u001b[1;33m\u001b[0m\u001b[1;33m\u001b[0m\u001b[0m\n\u001b[0m\u001b[0;32m    290\u001b[0m     \u001b[1;32melse\u001b[0m\u001b[1;33m:\u001b[0m\u001b[1;33m\u001b[0m\u001b[1;33m\u001b[0m\u001b[0m\n\u001b[0;32m    291\u001b[0m       \u001b[1;32mraise\u001b[0m \u001b[0mValueError\u001b[0m\u001b[1;33m(\u001b[0m\u001b[1;34m'Unrecognized hook: {}'\u001b[0m\u001b[1;33m.\u001b[0m\u001b[0mformat\u001b[0m\u001b[1;33m(\u001b[0m\u001b[0mhook\u001b[0m\u001b[1;33m)\u001b[0m\u001b[1;33m)\u001b[0m\u001b[1;33m\u001b[0m\u001b[1;33m\u001b[0m\u001b[0m\n",
      "\u001b[1;32m~\\AppData\\Roaming\\Python\\Python37\\site-packages\\tensorflow\\python\\keras\\callbacks.py\u001b[0m in \u001b[0;36m_call_batch_end_hook\u001b[1;34m(self, mode, batch, logs)\u001b[0m\n\u001b[0;32m    307\u001b[0m       \u001b[0mbatch_time\u001b[0m \u001b[1;33m=\u001b[0m \u001b[0mtime\u001b[0m\u001b[1;33m.\u001b[0m\u001b[0mtime\u001b[0m\u001b[1;33m(\u001b[0m\u001b[1;33m)\u001b[0m \u001b[1;33m-\u001b[0m \u001b[0mself\u001b[0m\u001b[1;33m.\u001b[0m\u001b[0m_batch_start_time\u001b[0m\u001b[1;33m\u001b[0m\u001b[1;33m\u001b[0m\u001b[0m\n\u001b[0;32m    308\u001b[0m \u001b[1;33m\u001b[0m\u001b[0m\n\u001b[1;32m--> 309\u001b[1;33m     \u001b[0mself\u001b[0m\u001b[1;33m.\u001b[0m\u001b[0m_call_batch_hook_helper\u001b[0m\u001b[1;33m(\u001b[0m\u001b[0mhook_name\u001b[0m\u001b[1;33m,\u001b[0m \u001b[0mbatch\u001b[0m\u001b[1;33m,\u001b[0m \u001b[0mlogs\u001b[0m\u001b[1;33m)\u001b[0m\u001b[1;33m\u001b[0m\u001b[1;33m\u001b[0m\u001b[0m\n\u001b[0m\u001b[0;32m    310\u001b[0m \u001b[1;33m\u001b[0m\u001b[0m\n\u001b[0;32m    311\u001b[0m     \u001b[1;32mif\u001b[0m \u001b[0mself\u001b[0m\u001b[1;33m.\u001b[0m\u001b[0m_check_timing\u001b[0m\u001b[1;33m:\u001b[0m\u001b[1;33m\u001b[0m\u001b[1;33m\u001b[0m\u001b[0m\n",
      "\u001b[1;32m~\\AppData\\Roaming\\Python\\Python37\\site-packages\\tensorflow\\python\\keras\\callbacks.py\u001b[0m in \u001b[0;36m_call_batch_hook_helper\u001b[1;34m(self, hook_name, batch, logs)\u001b[0m\n\u001b[0;32m    343\u001b[0m       \u001b[1;32melse\u001b[0m\u001b[1;33m:\u001b[0m\u001b[1;33m\u001b[0m\u001b[1;33m\u001b[0m\u001b[0m\n\u001b[0;32m    344\u001b[0m         \u001b[1;32mif\u001b[0m \u001b[0mnumpy_logs\u001b[0m \u001b[1;32mis\u001b[0m \u001b[1;32mNone\u001b[0m\u001b[1;33m:\u001b[0m  \u001b[1;31m# Only convert once.\u001b[0m\u001b[1;33m\u001b[0m\u001b[1;33m\u001b[0m\u001b[0m\n\u001b[1;32m--> 345\u001b[1;33m           \u001b[0mnumpy_logs\u001b[0m \u001b[1;33m=\u001b[0m \u001b[0mtf_utils\u001b[0m\u001b[1;33m.\u001b[0m\u001b[0mto_numpy_or_python_type\u001b[0m\u001b[1;33m(\u001b[0m\u001b[0mlogs\u001b[0m\u001b[1;33m)\u001b[0m\u001b[1;33m\u001b[0m\u001b[1;33m\u001b[0m\u001b[0m\n\u001b[0m\u001b[0;32m    346\u001b[0m         \u001b[0mhook\u001b[0m\u001b[1;33m(\u001b[0m\u001b[0mbatch\u001b[0m\u001b[1;33m,\u001b[0m \u001b[0mnumpy_logs\u001b[0m\u001b[1;33m)\u001b[0m\u001b[1;33m\u001b[0m\u001b[1;33m\u001b[0m\u001b[0m\n\u001b[0;32m    347\u001b[0m \u001b[1;33m\u001b[0m\u001b[0m\n",
      "\u001b[1;32m~\\AppData\\Roaming\\Python\\Python37\\site-packages\\tensorflow\\python\\keras\\utils\\tf_utils.py\u001b[0m in \u001b[0;36mto_numpy_or_python_type\u001b[1;34m(tensors)\u001b[0m\n\u001b[0;32m    535\u001b[0m     \u001b[1;32mreturn\u001b[0m \u001b[0mt\u001b[0m  \u001b[1;31m# Don't turn ragged or sparse tensors to NumPy.\u001b[0m\u001b[1;33m\u001b[0m\u001b[1;33m\u001b[0m\u001b[0m\n\u001b[0;32m    536\u001b[0m \u001b[1;33m\u001b[0m\u001b[0m\n\u001b[1;32m--> 537\u001b[1;33m   \u001b[1;32mreturn\u001b[0m \u001b[0mnest\u001b[0m\u001b[1;33m.\u001b[0m\u001b[0mmap_structure\u001b[0m\u001b[1;33m(\u001b[0m\u001b[0m_to_single_numpy_or_python_type\u001b[0m\u001b[1;33m,\u001b[0m \u001b[0mtensors\u001b[0m\u001b[1;33m)\u001b[0m\u001b[1;33m\u001b[0m\u001b[1;33m\u001b[0m\u001b[0m\n\u001b[0m\u001b[0;32m    538\u001b[0m \u001b[1;33m\u001b[0m\u001b[0m\n\u001b[0;32m    539\u001b[0m \u001b[1;33m\u001b[0m\u001b[0m\n",
      "\u001b[1;32m~\\AppData\\Roaming\\Python\\Python37\\site-packages\\tensorflow\\python\\util\\nest.py\u001b[0m in \u001b[0;36mmap_structure\u001b[1;34m(func, *structure, **kwargs)\u001b[0m\n\u001b[0;32m    633\u001b[0m \u001b[1;33m\u001b[0m\u001b[0m\n\u001b[0;32m    634\u001b[0m   return pack_sequence_as(\n\u001b[1;32m--> 635\u001b[1;33m       \u001b[0mstructure\u001b[0m\u001b[1;33m[\u001b[0m\u001b[1;36m0\u001b[0m\u001b[1;33m]\u001b[0m\u001b[1;33m,\u001b[0m \u001b[1;33m[\u001b[0m\u001b[0mfunc\u001b[0m\u001b[1;33m(\u001b[0m\u001b[1;33m*\u001b[0m\u001b[0mx\u001b[0m\u001b[1;33m)\u001b[0m \u001b[1;32mfor\u001b[0m \u001b[0mx\u001b[0m \u001b[1;32min\u001b[0m \u001b[0mentries\u001b[0m\u001b[1;33m]\u001b[0m\u001b[1;33m,\u001b[0m\u001b[1;33m\u001b[0m\u001b[1;33m\u001b[0m\u001b[0m\n\u001b[0m\u001b[0;32m    636\u001b[0m       expand_composites=expand_composites)\n\u001b[0;32m    637\u001b[0m \u001b[1;33m\u001b[0m\u001b[0m\n",
      "\u001b[1;32m~\\AppData\\Roaming\\Python\\Python37\\site-packages\\tensorflow\\python\\util\\nest.py\u001b[0m in \u001b[0;36m<listcomp>\u001b[1;34m(.0)\u001b[0m\n\u001b[0;32m    633\u001b[0m \u001b[1;33m\u001b[0m\u001b[0m\n\u001b[0;32m    634\u001b[0m   return pack_sequence_as(\n\u001b[1;32m--> 635\u001b[1;33m       \u001b[0mstructure\u001b[0m\u001b[1;33m[\u001b[0m\u001b[1;36m0\u001b[0m\u001b[1;33m]\u001b[0m\u001b[1;33m,\u001b[0m \u001b[1;33m[\u001b[0m\u001b[0mfunc\u001b[0m\u001b[1;33m(\u001b[0m\u001b[1;33m*\u001b[0m\u001b[0mx\u001b[0m\u001b[1;33m)\u001b[0m \u001b[1;32mfor\u001b[0m \u001b[0mx\u001b[0m \u001b[1;32min\u001b[0m \u001b[0mentries\u001b[0m\u001b[1;33m]\u001b[0m\u001b[1;33m,\u001b[0m\u001b[1;33m\u001b[0m\u001b[1;33m\u001b[0m\u001b[0m\n\u001b[0m\u001b[0;32m    636\u001b[0m       expand_composites=expand_composites)\n\u001b[0;32m    637\u001b[0m \u001b[1;33m\u001b[0m\u001b[0m\n",
      "\u001b[1;32m~\\AppData\\Roaming\\Python\\Python37\\site-packages\\tensorflow\\python\\keras\\utils\\tf_utils.py\u001b[0m in \u001b[0;36m_to_single_numpy_or_python_type\u001b[1;34m(t)\u001b[0m\n\u001b[0;32m    531\u001b[0m   \u001b[1;32mdef\u001b[0m \u001b[0m_to_single_numpy_or_python_type\u001b[0m\u001b[1;33m(\u001b[0m\u001b[0mt\u001b[0m\u001b[1;33m)\u001b[0m\u001b[1;33m:\u001b[0m\u001b[1;33m\u001b[0m\u001b[1;33m\u001b[0m\u001b[0m\n\u001b[0;32m    532\u001b[0m     \u001b[1;32mif\u001b[0m \u001b[0misinstance\u001b[0m\u001b[1;33m(\u001b[0m\u001b[0mt\u001b[0m\u001b[1;33m,\u001b[0m \u001b[0mops\u001b[0m\u001b[1;33m.\u001b[0m\u001b[0mTensor\u001b[0m\u001b[1;33m)\u001b[0m\u001b[1;33m:\u001b[0m\u001b[1;33m\u001b[0m\u001b[1;33m\u001b[0m\u001b[0m\n\u001b[1;32m--> 533\u001b[1;33m       \u001b[0mx\u001b[0m \u001b[1;33m=\u001b[0m \u001b[0mt\u001b[0m\u001b[1;33m.\u001b[0m\u001b[0mnumpy\u001b[0m\u001b[1;33m(\u001b[0m\u001b[1;33m)\u001b[0m\u001b[1;33m\u001b[0m\u001b[1;33m\u001b[0m\u001b[0m\n\u001b[0m\u001b[0;32m    534\u001b[0m       \u001b[1;32mreturn\u001b[0m \u001b[0mx\u001b[0m\u001b[1;33m.\u001b[0m\u001b[0mitem\u001b[0m\u001b[1;33m(\u001b[0m\u001b[1;33m)\u001b[0m \u001b[1;32mif\u001b[0m \u001b[0mnp\u001b[0m\u001b[1;33m.\u001b[0m\u001b[0mndim\u001b[0m\u001b[1;33m(\u001b[0m\u001b[0mx\u001b[0m\u001b[1;33m)\u001b[0m \u001b[1;33m==\u001b[0m \u001b[1;36m0\u001b[0m \u001b[1;32melse\u001b[0m \u001b[0mx\u001b[0m\u001b[1;33m\u001b[0m\u001b[1;33m\u001b[0m\u001b[0m\n\u001b[0;32m    535\u001b[0m     \u001b[1;32mreturn\u001b[0m \u001b[0mt\u001b[0m  \u001b[1;31m# Don't turn ragged or sparse tensors to NumPy.\u001b[0m\u001b[1;33m\u001b[0m\u001b[1;33m\u001b[0m\u001b[0m\n",
      "\u001b[1;32m~\\AppData\\Roaming\\Python\\Python37\\site-packages\\tensorflow\\python\\framework\\ops.py\u001b[0m in \u001b[0;36mnumpy\u001b[1;34m(self)\u001b[0m\n\u001b[0;32m   1061\u001b[0m     \"\"\"\n\u001b[0;32m   1062\u001b[0m     \u001b[1;31m# TODO(slebedev): Consider avoiding a copy for non-CPU or remote tensors.\u001b[0m\u001b[1;33m\u001b[0m\u001b[1;33m\u001b[0m\u001b[1;33m\u001b[0m\u001b[0m\n\u001b[1;32m-> 1063\u001b[1;33m     \u001b[0mmaybe_arr\u001b[0m \u001b[1;33m=\u001b[0m \u001b[0mself\u001b[0m\u001b[1;33m.\u001b[0m\u001b[0m_numpy\u001b[0m\u001b[1;33m(\u001b[0m\u001b[1;33m)\u001b[0m  \u001b[1;31m# pylint: disable=protected-access\u001b[0m\u001b[1;33m\u001b[0m\u001b[1;33m\u001b[0m\u001b[0m\n\u001b[0m\u001b[0;32m   1064\u001b[0m     \u001b[1;32mreturn\u001b[0m \u001b[0mmaybe_arr\u001b[0m\u001b[1;33m.\u001b[0m\u001b[0mcopy\u001b[0m\u001b[1;33m(\u001b[0m\u001b[1;33m)\u001b[0m \u001b[1;32mif\u001b[0m \u001b[0misinstance\u001b[0m\u001b[1;33m(\u001b[0m\u001b[0mmaybe_arr\u001b[0m\u001b[1;33m,\u001b[0m \u001b[0mnp\u001b[0m\u001b[1;33m.\u001b[0m\u001b[0mndarray\u001b[0m\u001b[1;33m)\u001b[0m \u001b[1;32melse\u001b[0m \u001b[0mmaybe_arr\u001b[0m\u001b[1;33m\u001b[0m\u001b[1;33m\u001b[0m\u001b[0m\n\u001b[0;32m   1065\u001b[0m \u001b[1;33m\u001b[0m\u001b[0m\n",
      "\u001b[1;32m~\\AppData\\Roaming\\Python\\Python37\\site-packages\\tensorflow\\python\\framework\\ops.py\u001b[0m in \u001b[0;36m_numpy\u001b[1;34m(self)\u001b[0m\n\u001b[0;32m   1027\u001b[0m   \u001b[1;32mdef\u001b[0m \u001b[0m_numpy\u001b[0m\u001b[1;33m(\u001b[0m\u001b[0mself\u001b[0m\u001b[1;33m)\u001b[0m\u001b[1;33m:\u001b[0m\u001b[1;33m\u001b[0m\u001b[1;33m\u001b[0m\u001b[0m\n\u001b[0;32m   1028\u001b[0m     \u001b[1;32mtry\u001b[0m\u001b[1;33m:\u001b[0m\u001b[1;33m\u001b[0m\u001b[1;33m\u001b[0m\u001b[0m\n\u001b[1;32m-> 1029\u001b[1;33m       \u001b[1;32mreturn\u001b[0m \u001b[0mself\u001b[0m\u001b[1;33m.\u001b[0m\u001b[0m_numpy_internal\u001b[0m\u001b[1;33m(\u001b[0m\u001b[1;33m)\u001b[0m\u001b[1;33m\u001b[0m\u001b[1;33m\u001b[0m\u001b[0m\n\u001b[0m\u001b[0;32m   1030\u001b[0m     \u001b[1;32mexcept\u001b[0m \u001b[0mcore\u001b[0m\u001b[1;33m.\u001b[0m\u001b[0m_NotOkStatusException\u001b[0m \u001b[1;32mas\u001b[0m \u001b[0me\u001b[0m\u001b[1;33m:\u001b[0m  \u001b[1;31m# pylint: disable=protected-access\u001b[0m\u001b[1;33m\u001b[0m\u001b[1;33m\u001b[0m\u001b[0m\n\u001b[0;32m   1031\u001b[0m       \u001b[0msix\u001b[0m\u001b[1;33m.\u001b[0m\u001b[0mraise_from\u001b[0m\u001b[1;33m(\u001b[0m\u001b[0mcore\u001b[0m\u001b[1;33m.\u001b[0m\u001b[0m_status_to_exception\u001b[0m\u001b[1;33m(\u001b[0m\u001b[0me\u001b[0m\u001b[1;33m.\u001b[0m\u001b[0mcode\u001b[0m\u001b[1;33m,\u001b[0m \u001b[0me\u001b[0m\u001b[1;33m.\u001b[0m\u001b[0mmessage\u001b[0m\u001b[1;33m)\u001b[0m\u001b[1;33m,\u001b[0m \u001b[1;32mNone\u001b[0m\u001b[1;33m)\u001b[0m  \u001b[1;31m# pylint: disable=protected-access\u001b[0m\u001b[1;33m\u001b[0m\u001b[1;33m\u001b[0m\u001b[0m\n",
      "\u001b[1;31mKeyboardInterrupt\u001b[0m: "
     ]
    }
   ],
   "source": [
    "model.fit(X_train, y_train, epochs=100, early_stopping_rounds=7)"
   ]
  },
  {
   "cell_type": "code",
   "execution_count": null,
   "metadata": {},
   "outputs": [],
   "source": [
    "model.save_weights()"
   ]
  },
  {
   "cell_type": "code",
   "execution_count": 5,
   "metadata": {
    "ExecuteTime": {
     "end_time": "2021-04-21T07:45:46.586497Z",
     "start_time": "2021-04-21T06:36:42.308634Z"
    }
   },
   "outputs": [
    {
     "name": "stdout",
     "output_type": "stream",
     "text": [
      "Epoch 1/100\n",
      "2813/2813 [==============================] - 258s 92ms/step - loss: 0.0580 - acc: 0.9814 - val_loss: 0.0410 - val_acc: 0.9861\n",
      "Epoch 2/100\n",
      "2813/2813 [==============================] - 242s 86ms/step - loss: 0.0499 - acc: 0.9841 - val_loss: 0.0284 - val_acc: 0.9904\n",
      "Epoch 3/100\n",
      "2813/2813 [==============================] - 245s 87ms/step - loss: 0.0459 - acc: 0.9850 - val_loss: 0.0375 - val_acc: 0.9896\n",
      "Epoch 4/100\n",
      "2813/2813 [==============================] - 244s 87ms/step - loss: 0.0425 - acc: 0.9861 - val_loss: 0.0269 - val_acc: 0.9915\n",
      "Epoch 5/100\n",
      "2813/2813 [==============================] - 244s 87ms/step - loss: 0.0442 - acc: 0.9858 - val_loss: 0.0252 - val_acc: 0.9910\n",
      "Epoch 6/100\n",
      "2813/2813 [==============================] - 246s 87ms/step - loss: 0.0458 - acc: 0.9849 - val_loss: 0.0263 - val_acc: 0.9912\n",
      "Epoch 7/100\n",
      "2813/2813 [==============================] - 236s 84ms/step - loss: 0.0413 - acc: 0.9868 - val_loss: 0.0337 - val_acc: 0.9895\n",
      "Epoch 8/100\n",
      "2813/2813 [==============================] - 236s 84ms/step - loss: 0.0380 - acc: 0.9874 - val_loss: 0.0327 - val_acc: 0.9900\n",
      "Epoch 9/100\n",
      "2813/2813 [==============================] - 234s 83ms/step - loss: 0.0412 - acc: 0.9872 - val_loss: 0.0363 - val_acc: 0.9882\n",
      "Epoch 10/100\n",
      "2813/2813 [==============================] - 234s 83ms/step - loss: 0.0383 - acc: 0.9874 - val_loss: 0.0249 - val_acc: 0.9927\n",
      "Epoch 11/100\n",
      "2813/2813 [==============================] - 235s 83ms/step - loss: 0.0421 - acc: 0.9865 - val_loss: 0.0320 - val_acc: 0.9907\n",
      "Epoch 12/100\n",
      "2813/2813 [==============================] - 235s 84ms/step - loss: 0.0429 - acc: 0.9863 - val_loss: 0.0296 - val_acc: 0.9898\n",
      "Epoch 13/100\n",
      "2813/2813 [==============================] - 235s 84ms/step - loss: 0.0421 - acc: 0.9866 - val_loss: 0.0248 - val_acc: 0.9927\n",
      "Epoch 14/100\n",
      "2813/2813 [==============================] - 235s 84ms/step - loss: 0.0324 - acc: 0.9895 - val_loss: 0.0262 - val_acc: 0.9913\n",
      "Epoch 15/100\n",
      "2813/2813 [==============================] - 235s 84ms/step - loss: 0.0427 - acc: 0.9864 - val_loss: 0.0295 - val_acc: 0.9907\n",
      "Epoch 16/100\n",
      "2813/2813 [==============================] - 235s 83ms/step - loss: 0.0414 - acc: 0.9869 - val_loss: 0.0384 - val_acc: 0.9879\n",
      "Epoch 17/100\n",
      "2813/2813 [==============================] - 237s 84ms/step - loss: 0.0393 - acc: 0.9873 - val_loss: 0.0239 - val_acc: 0.9920\n"
     ]
    },
    {
     "data": {
      "text/plain": [
       "<tensorflow.python.keras.callbacks.History at 0x1d63cdfcb48>"
      ]
     },
     "execution_count": 5,
     "metadata": {},
     "output_type": "execute_result"
    }
   ],
   "source": [
    "# Continue training\n",
    "model.load_weights()\n",
    "model.fit(X_train, y_train, epochs=100, early_stopping_rounds=7)"
   ]
  },
  {
   "cell_type": "code",
   "execution_count": 6,
   "metadata": {
    "ExecuteTime": {
     "end_time": "2021-04-21T07:49:20.309350Z",
     "start_time": "2021-04-21T07:49:19.976647Z"
    }
   },
   "outputs": [],
   "source": [
    "model.save_weights()"
   ]
  },
  {
   "cell_type": "markdown",
   "metadata": {},
   "source": [
    "# Evaluation"
   ]
  },
  {
   "cell_type": "code",
   "execution_count": 11,
   "metadata": {
    "ExecuteTime": {
     "end_time": "2021-04-20T19:14:50.349552Z",
     "start_time": "2021-04-20T19:14:50.089992Z"
    }
   },
   "outputs": [],
   "source": [
    "model.load_weights()"
   ]
  },
  {
   "cell_type": "code",
   "execution_count": 9,
   "metadata": {
    "ExecuteTime": {
     "end_time": "2021-04-21T08:42:42.789866Z",
     "start_time": "2021-04-21T08:41:51.116695Z"
    }
   },
   "outputs": [],
   "source": [
    "X_test, y_test = load_data(10, 10)"
   ]
  },
  {
   "cell_type": "code",
   "execution_count": 10,
   "metadata": {
    "ExecuteTime": {
     "end_time": "2021-04-21T08:42:58.684494Z",
     "start_time": "2021-04-21T08:42:45.535566Z"
    }
   },
   "outputs": [],
   "source": [
    "y_pred = model.predict(X_test)"
   ]
  },
  {
   "cell_type": "code",
   "execution_count": 11,
   "metadata": {
    "ExecuteTime": {
     "end_time": "2021-04-21T08:43:02.099970Z",
     "start_time": "2021-04-21T08:42:59.948120Z"
    },
    "scrolled": true
   },
   "outputs": [
    {
     "data": {
      "image/png": "[encoded data removed]",
      "text/plain": [
       "<Figure size 432x288 with 2 Axes>"
      ]
     },
     "metadata": {
      "needs_background": "light"
     },
     "output_type": "display_data"
    }
   ],
   "source": [
    "evaluation.plot_confusion_matrix(y_test, y_pred)"
   ]
  },
  {
   "cell_type": "code",
   "execution_count": 12,
   "metadata": {
    "ExecuteTime": {
     "end_time": "2021-04-21T08:43:09.819876Z",
     "start_time": "2021-04-21T08:43:09.783878Z"
    }
   },
   "outputs": [
    {
     "name": "stdout",
     "output_type": "stream",
     "text": [
      "Classification report:\n",
      "               precision    recall  f1-score   support\n",
      "\n",
      "       False       0.71      0.94      0.81      5000\n",
      "        True       0.91      0.62      0.73      5000\n",
      "\n",
      "    accuracy                           0.78     10000\n",
      "   macro avg       0.81      0.78      0.77     10000\n",
      "weighted avg       0.81      0.78      0.77     10000\n",
      "\n"
     ]
    }
   ],
   "source": [
    "evaluation.print_classification_report(y_test, y_pred)"
   ]
  },
  {
   "cell_type": "code",
   "execution_count": 17,
   "metadata": {
    "ExecuteTime": {
     "end_time": "2021-04-21T08:44:40.603849Z",
     "start_time": "2021-04-21T08:44:40.579885Z"
    }
   },
   "outputs": [
    {
     "data": {
      "text/plain": [
       "0.7777"
      ]
     },
     "execution_count": 17,
     "metadata": {},
     "output_type": "execute_result"
    }
   ],
   "source": [
    "evaluation.get_f1_score(y_test, y_pred, average='micro')"
   ]
  },
  {
   "cell_type": "code",
   "execution_count": null,
   "metadata": {},
   "outputs": [],
   "source": []
  }
 ],
 "metadata": {
  "kernelspec": {
   "display_name": "Python 3",
   "language": "python",
   "name": "python3"
  },
  "language_info": {
   "codemirror_mode": {
    "name": "ipython",
    "version": 3
   },
   "file_extension": ".py",
   "mimetype": "text/x-python",
   "name": "python",
   "nbconvert_exporter": "python",
   "pygments_lexer": "ipython3",
   "version": "3.7.5"
  },
  "toc": {
   "base_numbering": 1,
   "nav_menu": {},
   "number_sections": true,
   "sideBar": true,
   "skip_h1_title": false,
   "title_cell": "Table of Contents",
   "title_sidebar": "Contents",
   "toc_cell": true,
   "toc_position": {
    "height": "calc(100% - 180px)",
    "left": "10px",
    "top": "150px",
    "width": "307.038px"
   },
   "toc_section_display": true,
   "toc_window_display": true
  }
 },
 "nbformat": 4,
 "nbformat_minor": 2
}
