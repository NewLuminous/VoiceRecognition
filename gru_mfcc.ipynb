{
 "cells": [
  {
   "cell_type": "markdown",
   "metadata": {
    "toc": true
   },
   "source": [
    "<h1>Table of Contents<span class=\"tocSkip\"></span></h1>\n",
    "<div class=\"toc\"><ul class=\"toc-item\"><li><span><a href=\"#Load-libraries\" data-toc-modified-id=\"Load-libraries-1\"><span class=\"toc-item-num\">1&nbsp;&nbsp;</span>Load libraries</a></span></li><li><span><a href=\"#Load-data\" data-toc-modified-id=\"Load-data-2\"><span class=\"toc-item-num\">2&nbsp;&nbsp;</span>Load data</a></span></li><li><span><a href=\"#Train-model\" data-toc-modified-id=\"Train-model-3\"><span class=\"toc-item-num\">3&nbsp;&nbsp;</span>Train model</a></span></li><li><span><a href=\"#Evaluation\" data-toc-modified-id=\"Evaluation-4\"><span class=\"toc-item-num\">4&nbsp;&nbsp;</span>Evaluation</a></span></li></ul></div>"
   ]
  },
  {
   "cell_type": "markdown",
   "metadata": {
    "ExecuteTime": {
     "end_time": "2021-04-18T06:10:15.387785Z",
     "start_time": "2021-04-18T06:10:15.380784Z"
    }
   },
   "source": [
    "# Load libraries"
   ]
  },
  {
   "cell_type": "code",
   "execution_count": 1,
   "metadata": {
    "ExecuteTime": {
     "end_time": "2021-04-22T00:36:38.349167Z",
     "start_time": "2021-04-22T00:36:27.718674Z"
    }
   },
   "outputs": [],
   "source": [
    "import numpy as np\n",
    "import matplotlib.pyplot as plt\n",
    "import evaluation\n",
    "import _pickle as cPickle"
   ]
  },
  {
   "cell_type": "markdown",
   "metadata": {},
   "source": [
    "# Load data"
   ]
  },
  {
   "cell_type": "code",
   "execution_count": 2,
   "metadata": {
    "ExecuteTime": {
     "end_time": "2021-04-22T00:36:38.364960Z",
     "start_time": "2021-04-22T00:36:38.356919Z"
    }
   },
   "outputs": [],
   "source": [
    "data_dir = \"./data/\"  + \"dataset/\"\n",
    "\n",
    "MFCC_LEN_LIM = 700\n",
    "N_MFCC = 13\n",
    "FOLDS = 10"
   ]
  },
  {
   "cell_type": "code",
   "execution_count": 3,
   "metadata": {
    "ExecuteTime": {
     "end_time": "2021-04-22T00:36:38.396916Z",
     "start_time": "2021-04-22T00:36:38.368915Z"
    }
   },
   "outputs": [],
   "source": [
    "def load_data(folds):\n",
    "    X = []\n",
    "    y = []\n",
    "    for fold in folds:\n",
    "        with open(data_dir + f\"data_mfcc_{fold}.pkl\", 'rb') as f:\n",
    "            data_mfcc = cPickle.load(f)\n",
    "\n",
    "        for i in range(len(data_mfcc['sentence_I'])):\n",
    "            if data_mfcc['sentence_I'][i].shape[0] < MFCC_LEN_LIM:\n",
    "                sentence_I = np.zeros((MFCC_LEN_LIM, N_MFCC), dtype=np.float32)\n",
    "                sentence_I[-data_mfcc['sentence_I'][i].shape[0]:] = data_mfcc['sentence_I'][i]\n",
    "            else:\n",
    "                sentence_I = data_mfcc['sentence_I'][i]\n",
    "                \n",
    "            if data_mfcc['sentence_II'][i].shape[0] < MFCC_LEN_LIM:\n",
    "                sentence_II = np.zeros((MFCC_LEN_LIM, N_MFCC), dtype=np.float32)\n",
    "                sentence_II[-data_mfcc['sentence_II'][i].shape[0]:] = data_mfcc['sentence_II'][i]\n",
    "            else:\n",
    "                sentence_II = data_mfcc['sentence_II'][i]\n",
    "            X.append([sentence_I, sentence_II])\n",
    "            y.append(data_mfcc['same_speaker'][i])\n",
    "    return np.array(X), np.array(y)"
   ]
  },
  {
   "cell_type": "code",
   "execution_count": 4,
   "metadata": {
    "ExecuteTime": {
     "end_time": "2021-04-21T19:25:28.869705Z",
     "start_time": "2021-04-21T17:22:05.581155Z"
    }
   },
   "outputs": [
    {
     "data": {
      "text/plain": [
       "(100000, 2, 700, 13)"
      ]
     },
     "execution_count": 4,
     "metadata": {},
     "output_type": "execute_result"
    }
   ],
   "source": [
    "X_train, y_train = load_data([0, 1, 2, 3, 4, 5, 6, 7, 8, 9])\n",
    "X_train.shape"
   ]
  },
  {
   "cell_type": "code",
   "execution_count": 5,
   "metadata": {
    "ExecuteTime": {
     "end_time": "2021-04-21T19:26:29.120230Z",
     "start_time": "2021-04-21T19:25:28.875668Z"
    }
   },
   "outputs": [],
   "source": [
    "np.save(data_dir + \"data_mfcc_x.npy\", X_train)\n",
    "np.save(data_dir + \"data_mfcc_y.npy\", y_train)"
   ]
  },
  {
   "cell_type": "code",
   "execution_count": 4,
   "metadata": {
    "ExecuteTime": {
     "end_time": "2021-04-21T21:19:47.061741Z",
     "start_time": "2021-04-21T21:19:43.691754Z"
    }
   },
   "outputs": [],
   "source": [
    "X_train = np.load(data_dir + \"data_mfcc_x.npy\")\n",
    "y_train = np.load(data_dir + \"data_mfcc_y.npy\")"
   ]
  },
  {
   "cell_type": "code",
   "execution_count": 5,
   "metadata": {
    "ExecuteTime": {
     "end_time": "2021-04-21T21:20:57.395367Z",
     "start_time": "2021-04-21T21:19:47.903625Z"
    }
   },
   "outputs": [
    {
     "data": {
      "text/plain": [
       "(10000, 2, 700, 13)"
      ]
     },
     "execution_count": 5,
     "metadata": {},
     "output_type": "execute_result"
    }
   ],
   "source": [
    "X_val, y_val = load_data([\"val\"])\n",
    "X_val.shape"
   ]
  },
  {
   "cell_type": "markdown",
   "metadata": {},
   "source": [
    "# Train model"
   ]
  },
  {
   "cell_type": "code",
   "execution_count": 4,
   "metadata": {
    "ExecuteTime": {
     "end_time": "2021-04-22T00:36:59.949210Z",
     "start_time": "2021-04-22T00:36:43.690073Z"
    }
   },
   "outputs": [
    {
     "name": "stdout",
     "output_type": "stream",
     "text": [
      "Model: \"functional_1\"\n",
      "__________________________________________________________________________________________________\n",
      "Layer (type)                    Output Shape         Param #     Connected to                     \n",
      "==================================================================================================\n",
      "input_1 (InputLayer)            [(None, None, 13)]   0                                            \n",
      "__________________________________________________________________________________________________\n",
      "input_2 (InputLayer)            [(None, None, 13)]   0                                            \n",
      "__________________________________________________________________________________________________\n",
      "gru (GRU)                       (None, None, 64)     15168       input_1[0][0]                    \n",
      "__________________________________________________________________________________________________\n",
      "gru_2 (GRU)                     (None, None, 64)     15168       input_2[0][0]                    \n",
      "__________________________________________________________________________________________________\n",
      "gru_1 (GRU)                     (None, 64)           24960       gru[0][0]                        \n",
      "__________________________________________________________________________________________________\n",
      "gru_3 (GRU)                     (None, 64)           24960       gru_2[0][0]                      \n",
      "__________________________________________________________________________________________________\n",
      "concatenate (Concatenate)       (None, 128)          0           gru_1[0][0]                      \n",
      "                                                                 gru_3[0][0]                      \n",
      "__________________________________________________________________________________________________\n",
      "dense (Dense)                   (None, 64)           8256        concatenate[0][0]                \n",
      "__________________________________________________________________________________________________\n",
      "dropout (Dropout)               (None, 64)           0           dense[0][0]                      \n",
      "__________________________________________________________________________________________________\n",
      "dense_1 (Dense)                 (None, 1)            65          dropout[0][0]                    \n",
      "==================================================================================================\n",
      "Total params: 88,577\n",
      "Trainable params: 88,577\n",
      "Non-trainable params: 0\n",
      "__________________________________________________________________________________________________\n"
     ]
    }
   ],
   "source": [
    "from modeling.gru_gru import GRU_GRU\n",
    "\n",
    "model = GRU_GRU(num_features=N_MFCC)"
   ]
  },
  {
   "cell_type": "code",
   "execution_count": 8,
   "metadata": {
    "ExecuteTime": {
     "end_time": "2021-04-21T22:15:10.365352Z",
     "start_time": "2021-04-21T21:22:27.689359Z"
    },
    "scrolled": true
   },
   "outputs": [
    {
     "name": "stdout",
     "output_type": "stream",
     "text": [
      "Epoch 1/100\n",
      "3125/3125 [==============================] - 284s 91ms/step - loss: 0.4809 - acc: 0.7859 - val_loss: 0.5832 - val_acc: 0.7523\n",
      "Epoch 2/100\n",
      "3125/3125 [==============================] - 278s 89ms/step - loss: 0.2835 - acc: 0.8904 - val_loss: 0.5928 - val_acc: 0.7723\n",
      "Epoch 3/100\n",
      "3125/3125 [==============================] - 277s 88ms/step - loss: 0.2179 - acc: 0.9209 - val_loss: 0.6124 - val_acc: 0.7934\n",
      "Epoch 4/100\n",
      "3125/3125 [==============================] - 266s 85ms/step - loss: 0.1836 - acc: 0.9354 - val_loss: 0.7843 - val_acc: 0.7917\n",
      "Epoch 5/100\n",
      "3125/3125 [==============================] - 263s 84ms/step - loss: 0.1594 - acc: 0.9453 - val_loss: 0.6263 - val_acc: 0.8177\n",
      "Epoch 6/100\n",
      "3125/3125 [==============================] - 254s 81ms/step - loss: 0.1431 - acc: 0.9520 - val_loss: 0.7055 - val_acc: 0.7954\n",
      "Epoch 7/100\n",
      "3125/3125 [==============================] - 254s 81ms/step - loss: 0.1318 - acc: 0.9565 - val_loss: 1.0670 - val_acc: 0.7773\n",
      "Epoch 8/100\n",
      "3125/3125 [==============================] - 255s 82ms/step - loss: 0.1199 - acc: 0.9608 - val_loss: 0.9123 - val_acc: 0.7993\n",
      "Epoch 9/100\n",
      "3125/3125 [==============================] - 255s 82ms/step - loss: 0.1160 - acc: 0.9624 - val_loss: 0.8304 - val_acc: 0.7982\n",
      "Epoch 10/100\n",
      "3125/3125 [==============================] - 254s 81ms/step - loss: 0.1090 - acc: 0.9649 - val_loss: 0.8515 - val_acc: 0.8031\n",
      "Epoch 11/100\n",
      "3125/3125 [==============================] - 254s 81ms/step - loss: 0.1018 - acc: 0.9674 - val_loss: 0.9386 - val_acc: 0.7961\n",
      "Epoch 12/100\n",
      "3125/3125 [==============================] - 254s 81ms/step - loss: 0.0909 - acc: 0.9712 - val_loss: 0.9239 - val_acc: 0.8092\n"
     ]
    },
    {
     "data": {
      "text/plain": [
       "<tensorflow.python.keras.callbacks.History at 0x215a425db08>"
      ]
     },
     "execution_count": 8,
     "metadata": {},
     "output_type": "execute_result"
    }
   ],
   "source": [
    "model.fit(X_train, y_train, epochs=100, early_stopping_rounds=7, X_val=X_val, y_val=y_val)"
   ]
  },
  {
   "cell_type": "code",
   "execution_count": 6,
   "metadata": {
    "ExecuteTime": {
     "end_time": "2021-04-21T07:49:20.309350Z",
     "start_time": "2021-04-21T07:49:19.976647Z"
    }
   },
   "outputs": [],
   "source": [
    "model.save_weights()"
   ]
  },
  {
   "cell_type": "markdown",
   "metadata": {},
   "source": [
    "# Evaluation"
   ]
  },
  {
   "cell_type": "code",
   "execution_count": 5,
   "metadata": {
    "ExecuteTime": {
     "end_time": "2021-04-22T00:37:00.012163Z",
     "start_time": "2021-04-22T00:36:59.953178Z"
    }
   },
   "outputs": [],
   "source": [
    "model.load_weights()"
   ]
  },
  {
   "cell_type": "code",
   "execution_count": 6,
   "metadata": {
    "ExecuteTime": {
     "end_time": "2021-04-22T00:37:53.301865Z",
     "start_time": "2021-04-22T00:37:00.016174Z"
    }
   },
   "outputs": [],
   "source": [
    "X_test, y_test = load_data([\"test\"])"
   ]
  },
  {
   "cell_type": "code",
   "execution_count": 7,
   "metadata": {
    "ExecuteTime": {
     "end_time": "2021-04-22T00:38:08.786910Z",
     "start_time": "2021-04-22T00:37:53.303859Z"
    }
   },
   "outputs": [],
   "source": [
    "y_pred = model.predict(X_test)"
   ]
  },
  {
   "cell_type": "code",
   "execution_count": 8,
   "metadata": {
    "ExecuteTime": {
     "end_time": "2021-04-22T00:38:09.303943Z",
     "start_time": "2021-04-22T00:38:08.788912Z"
    },
    "scrolled": true
   },
   "outputs": [
    {
     "data": {
      "image/png": "[encoded data removed]",
      "text/plain": [
       "<Figure size 432x288 with 2 Axes>"
      ]
     },
     "metadata": {
      "needs_background": "light"
     },
     "output_type": "display_data"
    }
   ],
   "source": [
    "evaluation.plot_confusion_matrix(y_test, y_pred)"
   ]
  },
  {
   "cell_type": "code",
   "execution_count": 9,
   "metadata": {
    "ExecuteTime": {
     "end_time": "2021-04-22T00:38:09.350971Z",
     "start_time": "2021-04-22T00:38:09.306958Z"
    }
   },
   "outputs": [
    {
     "name": "stdout",
     "output_type": "stream",
     "text": [
      "Classification report:\n",
      "               precision    recall  f1-score   support\n",
      "\n",
      "       False       0.81      0.82      0.81      4972\n",
      "        True       0.82      0.81      0.81      5028\n",
      "\n",
      "    accuracy                           0.81     10000\n",
      "   macro avg       0.81      0.81      0.81     10000\n",
      "weighted avg       0.81      0.81      0.81     10000\n",
      "\n"
     ]
    }
   ],
   "source": [
    "evaluation.print_classification_report(y_test, y_pred)"
   ]
  },
  {
   "cell_type": "code",
   "execution_count": 13,
   "metadata": {
    "ExecuteTime": {
     "end_time": "2021-04-22T00:39:15.157572Z",
     "start_time": "2021-04-22T00:39:15.138533Z"
    }
   },
   "outputs": [
    {
     "data": {
      "text/plain": [
       "0.8128984264757666"
      ]
     },
     "execution_count": 13,
     "metadata": {},
     "output_type": "execute_result"
    }
   ],
   "source": [
    "evaluation.get_f1_score(y_test, y_pred, average='macro')"
   ]
  },
  {
   "cell_type": "code",
   "execution_count": null,
   "metadata": {},
   "outputs": [],
   "source": []
  }
 ],
 "metadata": {
  "kernelspec": {
   "display_name": "Python 3",
   "language": "python",
   "name": "python3"
  },
  "language_info": {
   "codemirror_mode": {
    "name": "ipython",
    "version": 3
   },
   "file_extension": ".py",
   "mimetype": "text/x-python",
   "name": "python",
   "nbconvert_exporter": "python",
   "pygments_lexer": "ipython3",
   "version": "3.7.5"
  },
  "toc": {
   "base_numbering": 1,
   "nav_menu": {},
   "number_sections": true,
   "sideBar": true,
   "skip_h1_title": false,
   "title_cell": "Table of Contents",
   "title_sidebar": "Contents",
   "toc_cell": true,
   "toc_position": {
    "height": "calc(100% - 180px)",
    "left": "10px",
    "top": "150px",
    "width": "307.038px"
   },
   "toc_section_display": true,
   "toc_window_display": true
  }
 },
 "nbformat": 4,
 "nbformat_minor": 2
}
