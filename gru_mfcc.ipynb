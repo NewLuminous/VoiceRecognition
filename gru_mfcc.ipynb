{
 "cells": [
  {
   "cell_type": "markdown",
   "metadata": {
    "toc": true
   },
   "source": [
    "<h1>Table of Contents<span class=\"tocSkip\"></span></h1>\n",
    "<div class=\"toc\"><ul class=\"toc-item\"><li><span><a href=\"#Load-libraries\" data-toc-modified-id=\"Load-libraries-1\"><span class=\"toc-item-num\">1&nbsp;&nbsp;</span>Load libraries</a></span></li><li><span><a href=\"#Load-data\" data-toc-modified-id=\"Load-data-2\"><span class=\"toc-item-num\">2&nbsp;&nbsp;</span>Load data</a></span></li><li><span><a href=\"#Train-model\" data-toc-modified-id=\"Train-model-3\"><span class=\"toc-item-num\">3&nbsp;&nbsp;</span>Train model</a></span></li><li><span><a href=\"#Evaluation\" data-toc-modified-id=\"Evaluation-4\"><span class=\"toc-item-num\">4&nbsp;&nbsp;</span>Evaluation</a></span></li></ul></div>"
   ]
  },
  {
   "cell_type": "markdown",
   "metadata": {
    "ExecuteTime": {
     "end_time": "2021-04-18T06:10:15.387785Z",
     "start_time": "2021-04-18T06:10:15.380784Z"
    }
   },
   "source": [
    "# Load libraries"
   ]
  },
  {
   "cell_type": "code",
   "execution_count": 1,
   "metadata": {
    "ExecuteTime": {
     "end_time": "2021-04-22T07:38:28.849681Z",
     "start_time": "2021-04-22T07:38:25.933442Z"
    }
   },
   "outputs": [],
   "source": [
    "import numpy as np\n",
    "import matplotlib.pyplot as plt\n",
    "import evaluation\n",
    "import _pickle as cPickle"
   ]
  },
  {
   "cell_type": "markdown",
   "metadata": {},
   "source": [
    "# Load data"
   ]
  },
  {
   "cell_type": "code",
   "execution_count": 2,
   "metadata": {
    "ExecuteTime": {
     "end_time": "2021-04-22T07:38:28.865680Z",
     "start_time": "2021-04-22T07:38:28.852682Z"
    }
   },
   "outputs": [],
   "source": [
    "data_dir = \"./data/\"  + \"dataset/\"\n",
    "\n",
    "MFCC_LEN_LIM = 700\n",
    "N_MFCC = 13\n",
    "FOLDS = 10"
   ]
  },
  {
   "cell_type": "code",
   "execution_count": 3,
   "metadata": {
    "ExecuteTime": {
     "end_time": "2021-04-22T07:38:28.929244Z",
     "start_time": "2021-04-22T07:38:28.914246Z"
    }
   },
   "outputs": [],
   "source": [
    "def load_data(folds):\n",
    "    X = []\n",
    "    y = []\n",
    "    for fold in folds:\n",
    "        with open(data_dir + f\"data_mfcc_{fold}.pkl\", 'rb') as f:\n",
    "            data_mfcc = cPickle.load(f)\n",
    "\n",
    "        for i in range(len(data_mfcc['sentence_I'])):\n",
    "            if data_mfcc['sentence_I'][i].shape[0] < MFCC_LEN_LIM:\n",
    "                sentence_I = np.zeros((MFCC_LEN_LIM, N_MFCC), dtype=np.float32)\n",
    "                sentence_I[-data_mfcc['sentence_I'][i].shape[0]:] = data_mfcc['sentence_I'][i]\n",
    "            else:\n",
    "                sentence_I = data_mfcc['sentence_I'][i]\n",
    "                \n",
    "            if data_mfcc['sentence_II'][i].shape[0] < MFCC_LEN_LIM:\n",
    "                sentence_II = np.zeros((MFCC_LEN_LIM, N_MFCC), dtype=np.float32)\n",
    "                sentence_II[-data_mfcc['sentence_II'][i].shape[0]:] = data_mfcc['sentence_II'][i]\n",
    "            else:\n",
    "                sentence_II = data_mfcc['sentence_II'][i]\n",
    "            X.append([sentence_I, sentence_II])\n",
    "            y.append(data_mfcc['same_speaker'][i])\n",
    "    return np.array(X), np.array(y)"
   ]
  },
  {
   "cell_type": "code",
   "execution_count": 4,
   "metadata": {
    "ExecuteTime": {
     "end_time": "2021-04-21T19:25:28.869705Z",
     "start_time": "2021-04-21T17:22:05.581155Z"
    }
   },
   "outputs": [
    {
     "data": {
      "text/plain": [
       "(100000, 2, 700, 13)"
      ]
     },
     "execution_count": 4,
     "metadata": {},
     "output_type": "execute_result"
    }
   ],
   "source": [
    "X_train, y_train = load_data([0, 1, 2, 3, 4, 5, 6, 7, 8, 9])\n",
    "X_train.shape"
   ]
  },
  {
   "cell_type": "code",
   "execution_count": 5,
   "metadata": {
    "ExecuteTime": {
     "end_time": "2021-04-21T19:26:29.120230Z",
     "start_time": "2021-04-21T19:25:28.875668Z"
    }
   },
   "outputs": [],
   "source": [
    "np.save(data_dir + \"data_mfcc_x.npy\", X_train)\n",
    "np.save(data_dir + \"data_mfcc_y.npy\", y_train)"
   ]
  },
  {
   "cell_type": "code",
   "execution_count": 4,
   "metadata": {
    "ExecuteTime": {
     "end_time": "2021-04-22T03:10:30.540948Z",
     "start_time": "2021-04-22T03:09:24.497539Z"
    }
   },
   "outputs": [],
   "source": [
    "X_train = np.load(data_dir + \"data_mfcc_x.npy\")\n",
    "y_train = np.load(data_dir + \"data_mfcc_y.npy\")"
   ]
  },
  {
   "cell_type": "code",
   "execution_count": 5,
   "metadata": {
    "ExecuteTime": {
     "end_time": "2021-04-22T03:11:48.292147Z",
     "start_time": "2021-04-22T03:10:30.544951Z"
    }
   },
   "outputs": [
    {
     "data": {
      "text/plain": [
       "(10000, 2, 700, 13)"
      ]
     },
     "execution_count": 5,
     "metadata": {},
     "output_type": "execute_result"
    }
   ],
   "source": [
    "X_val, y_val = load_data([\"val\"])\n",
    "X_val.shape"
   ]
  },
  {
   "cell_type": "markdown",
   "metadata": {},
   "source": [
    "# Train model"
   ]
  },
  {
   "cell_type": "code",
   "execution_count": 4,
   "metadata": {
    "ExecuteTime": {
     "end_time": "2021-04-22T07:38:42.290951Z",
     "start_time": "2021-04-22T07:38:33.191770Z"
    }
   },
   "outputs": [
    {
     "name": "stdout",
     "output_type": "stream",
     "text": [
      "Model: \"functional_1\"\n",
      "__________________________________________________________________________________________________\n",
      "Layer (type)                    Output Shape         Param #     Connected to                     \n",
      "==================================================================================================\n",
      "input_1 (InputLayer)            [(None, None, 13)]   0                                            \n",
      "__________________________________________________________________________________________________\n",
      "input_2 (InputLayer)            [(None, None, 13)]   0                                            \n",
      "__________________________________________________________________________________________________\n",
      "gru (GRU)                       (None, None, 64)     15168       input_1[0][0]                    \n",
      "__________________________________________________________________________________________________\n",
      "gru_2 (GRU)                     (None, None, 64)     15168       input_2[0][0]                    \n",
      "__________________________________________________________________________________________________\n",
      "gru_1 (GRU)                     (None, 64)           24960       gru[0][0]                        \n",
      "__________________________________________________________________________________________________\n",
      "gru_3 (GRU)                     (None, 64)           24960       gru_2[0][0]                      \n",
      "__________________________________________________________________________________________________\n",
      "concatenate (Concatenate)       (None, 128)          0           gru_1[0][0]                      \n",
      "                                                                 gru_3[0][0]                      \n",
      "__________________________________________________________________________________________________\n",
      "dense (Dense)                   (None, 64)           8256        concatenate[0][0]                \n",
      "__________________________________________________________________________________________________\n",
      "dropout (Dropout)               (None, 64)           0           dense[0][0]                      \n",
      "__________________________________________________________________________________________________\n",
      "dense_1 (Dense)                 (None, 1)            65          dropout[0][0]                    \n",
      "==================================================================================================\n",
      "Total params: 88,577\n",
      "Trainable params: 88,577\n",
      "Non-trainable params: 0\n",
      "__________________________________________________________________________________________________\n"
     ]
    }
   ],
   "source": [
    "from modeling.gru_gru import GRU_GRU\n",
    "\n",
    "model = GRU_GRU(num_features=N_MFCC)"
   ]
  },
  {
   "cell_type": "code",
   "execution_count": 8,
   "metadata": {
    "ExecuteTime": {
     "end_time": "2021-04-21T22:15:10.365352Z",
     "start_time": "2021-04-21T21:22:27.689359Z"
    },
    "scrolled": true
   },
   "outputs": [
    {
     "name": "stdout",
     "output_type": "stream",
     "text": [
      "Epoch 1/100\n",
      "3125/3125 [==============================] - 284s 91ms/step - loss: 0.4809 - acc: 0.7859 - val_loss: 0.5832 - val_acc: 0.7523\n",
      "Epoch 2/100\n",
      "3125/3125 [==============================] - 278s 89ms/step - loss: 0.2835 - acc: 0.8904 - val_loss: 0.5928 - val_acc: 0.7723\n",
      "Epoch 3/100\n",
      "3125/3125 [==============================] - 277s 88ms/step - loss: 0.2179 - acc: 0.9209 - val_loss: 0.6124 - val_acc: 0.7934\n",
      "Epoch 4/100\n",
      "3125/3125 [==============================] - 266s 85ms/step - loss: 0.1836 - acc: 0.9354 - val_loss: 0.7843 - val_acc: 0.7917\n",
      "Epoch 5/100\n",
      "3125/3125 [==============================] - 263s 84ms/step - loss: 0.1594 - acc: 0.9453 - val_loss: 0.6263 - val_acc: 0.8177\n",
      "Epoch 6/100\n",
      "3125/3125 [==============================] - 254s 81ms/step - loss: 0.1431 - acc: 0.9520 - val_loss: 0.7055 - val_acc: 0.7954\n",
      "Epoch 7/100\n",
      "3125/3125 [==============================] - 254s 81ms/step - loss: 0.1318 - acc: 0.9565 - val_loss: 1.0670 - val_acc: 0.7773\n",
      "Epoch 8/100\n",
      "3125/3125 [==============================] - 255s 82ms/step - loss: 0.1199 - acc: 0.9608 - val_loss: 0.9123 - val_acc: 0.7993\n",
      "Epoch 9/100\n",
      "3125/3125 [==============================] - 255s 82ms/step - loss: 0.1160 - acc: 0.9624 - val_loss: 0.8304 - val_acc: 0.7982\n",
      "Epoch 10/100\n",
      "3125/3125 [==============================] - 254s 81ms/step - loss: 0.1090 - acc: 0.9649 - val_loss: 0.8515 - val_acc: 0.8031\n",
      "Epoch 11/100\n",
      "3125/3125 [==============================] - 254s 81ms/step - loss: 0.1018 - acc: 0.9674 - val_loss: 0.9386 - val_acc: 0.7961\n",
      "Epoch 12/100\n",
      "3125/3125 [==============================] - 254s 81ms/step - loss: 0.0909 - acc: 0.9712 - val_loss: 0.9239 - val_acc: 0.8092\n"
     ]
    },
    {
     "data": {
      "text/plain": [
       "<tensorflow.python.keras.callbacks.History at 0x215a425db08>"
      ]
     },
     "execution_count": 8,
     "metadata": {},
     "output_type": "execute_result"
    }
   ],
   "source": [
    "model.fit(X_train, y_train, epochs=100, early_stopping_rounds=7, X_val=X_val, y_val=y_val)"
   ]
  },
  {
   "cell_type": "code",
   "execution_count": 6,
   "metadata": {
    "ExecuteTime": {
     "end_time": "2021-04-21T07:49:20.309350Z",
     "start_time": "2021-04-21T07:49:19.976647Z"
    }
   },
   "outputs": [],
   "source": [
    "model.save_weights()"
   ]
  },
  {
   "cell_type": "code",
   "execution_count": 7,
   "metadata": {
    "ExecuteTime": {
     "end_time": "2021-04-22T07:37:34.519317Z",
     "start_time": "2021-04-22T03:12:00.070582Z"
    },
    "scrolled": true
   },
   "outputs": [
    {
     "name": "stdout",
     "output_type": "stream",
     "text": [
      "Epoch 1/100\n",
      "3125/3125 [==============================] - 279s 89ms/step - loss: 0.1436 - acc: 0.9517 - val_loss: 0.5865 - val_acc: 0.8070\n",
      "Epoch 2/100\n",
      "3125/3125 [==============================] - 290s 93ms/step - loss: 0.1314 - acc: 0.9565 - val_loss: 0.7847 - val_acc: 0.8020\n",
      "Epoch 3/100\n",
      "3125/3125 [==============================] - 260s 83ms/step - loss: 0.1226 - acc: 0.9598 - val_loss: 0.6732 - val_acc: 0.8194\n",
      "Epoch 4/100\n",
      "3125/3125 [==============================] - 262s 84ms/step - loss: 0.1114 - acc: 0.9642 - val_loss: 0.7577 - val_acc: 0.8131\n",
      "Epoch 5/100\n",
      "3125/3125 [==============================] - 268s 86ms/step - loss: 0.1078 - acc: 0.9652 - val_loss: 0.9509 - val_acc: 0.7955\n",
      "Epoch 6/100\n",
      "3125/3125 [==============================] - 260s 83ms/step - loss: 0.0984 - acc: 0.9685 - val_loss: 0.8211 - val_acc: 0.8041\n",
      "Epoch 7/100\n",
      "3125/3125 [==============================] - 262s 84ms/step - loss: 0.0976 - acc: 0.9681 - val_loss: 0.9468 - val_acc: 0.8106\n",
      "Epoch 8/100\n",
      "3125/3125 [==============================] - 261s 84ms/step - loss: 0.0889 - acc: 0.9725 - val_loss: 0.8459 - val_acc: 0.8150\n",
      "Epoch 9/100\n",
      "3125/3125 [==============================] - 293s 94ms/step - loss: 0.0845 - acc: 0.9735 - val_loss: 0.8622 - val_acc: 0.8255\n",
      "Epoch 10/100\n",
      "3125/3125 [==============================] - 281s 90ms/step - loss: 0.0794 - acc: 0.9753 - val_loss: 1.1658 - val_acc: 0.8152\n",
      "Epoch 11/100\n",
      "3125/3125 [==============================] - 257s 82ms/step - loss: 0.0831 - acc: 0.9735 - val_loss: 0.9817 - val_acc: 0.8069\n",
      "Epoch 12/100\n",
      "3125/3125 [==============================] - 264s 84ms/step - loss: 0.0719 - acc: 0.9776 - val_loss: 1.1715 - val_acc: 0.8026\n",
      "Epoch 13/100\n",
      "3125/3125 [==============================] - 260s 83ms/step - loss: 0.0726 - acc: 0.9772 - val_loss: 1.3588 - val_acc: 0.7889\n",
      "Epoch 14/100\n",
      "3125/3125 [==============================] - 269s 86ms/step - loss: 0.0718 - acc: 0.9772 - val_loss: 1.0291 - val_acc: 0.8038\n",
      "Epoch 15/100\n",
      "3125/3125 [==============================] - 282s 90ms/step - loss: 0.0675 - acc: 0.9790 - val_loss: 0.9241 - val_acc: 0.8186\n",
      "Epoch 16/100\n",
      "3125/3125 [==============================] - 270s 86ms/step - loss: 0.0648 - acc: 0.9800 - val_loss: 1.1165 - val_acc: 0.8023\n",
      "Epoch 17/100\n",
      "3125/3125 [==============================] - 326s 104ms/step - loss: 0.0647 - acc: 0.9792 - val_loss: 1.2123 - val_acc: 0.7985\n",
      "Epoch 18/100\n",
      "3125/3125 [==============================] - 290s 93ms/step - loss: 0.0612 - acc: 0.9811 - val_loss: 0.9708 - val_acc: 0.8036\n",
      "Epoch 19/100\n",
      "3125/3125 [==============================] - 280s 90ms/step - loss: 0.0624 - acc: 0.9806 - val_loss: 1.3029 - val_acc: 0.7945\n",
      "Epoch 20/100\n",
      "3125/3125 [==============================] - 270s 86ms/step - loss: 0.0543 - acc: 0.9834 - val_loss: 1.4781 - val_acc: 0.7778\n",
      "Epoch 21/100\n",
      "3125/3125 [==============================] - 267s 85ms/step - loss: 0.0601 - acc: 0.9815 - val_loss: 1.2566 - val_acc: 0.7909\n",
      "Epoch 22/100\n",
      "3125/3125 [==============================] - 267s 86ms/step - loss: 0.0572 - acc: 0.9822 - val_loss: 0.9228 - val_acc: 0.8111\n",
      "Epoch 23/100\n",
      "3125/3125 [==============================] - 263s 84ms/step - loss: 0.0525 - acc: 0.9835 - val_loss: 1.0844 - val_acc: 0.8112\n",
      "Epoch 24/100\n",
      "3125/3125 [==============================] - 266s 85ms/step - loss: 0.0510 - acc: 0.9841 - val_loss: 1.0877 - val_acc: 0.7947\n",
      "Epoch 25/100\n",
      "3125/3125 [==============================] - 263s 84ms/step - loss: 0.0515 - acc: 0.9842 - val_loss: 1.3463 - val_acc: 0.7969\n",
      "Epoch 26/100\n",
      "3125/3125 [==============================] - 269s 86ms/step - loss: 0.0475 - acc: 0.9855 - val_loss: 1.2114 - val_acc: 0.7966\n",
      "Epoch 27/100\n",
      "3125/3125 [==============================] - 266s 85ms/step - loss: 0.0495 - acc: 0.9847 - val_loss: 1.0842 - val_acc: 0.7983\n",
      "Epoch 28/100\n",
      "3125/3125 [==============================] - 396s 127ms/step - loss: 0.0446 - acc: 0.9860 - val_loss: 1.0665 - val_acc: 0.8184\n",
      "Epoch 29/100\n",
      "3125/3125 [==============================] - 263s 84ms/step - loss: 0.0441 - acc: 0.9864 - val_loss: 1.1673 - val_acc: 0.7986\n",
      "Epoch 30/100\n",
      "3125/3125 [==============================] - 272s 87ms/step - loss: 0.0425 - acc: 0.9871 - val_loss: 1.2818 - val_acc: 0.7958\n",
      "Epoch 31/100\n",
      "3125/3125 [==============================] - 267s 85ms/step - loss: 0.0462 - acc: 0.9855 - val_loss: 1.2226 - val_acc: 0.7977\n",
      "Epoch 32/100\n",
      "3125/3125 [==============================] - 270s 87ms/step - loss: 0.0423 - acc: 0.9866 - val_loss: 1.1797 - val_acc: 0.7959\n",
      "Epoch 33/100\n",
      "3125/3125 [==============================] - 260s 83ms/step - loss: 0.0439 - acc: 0.9863 - val_loss: 1.2151 - val_acc: 0.7932\n",
      "Epoch 34/100\n",
      "3125/3125 [==============================] - 256s 82ms/step - loss: 0.0441 - acc: 0.9865 - val_loss: 1.1906 - val_acc: 0.7996\n",
      "Epoch 35/100\n",
      "3125/3125 [==============================] - 265s 85ms/step - loss: 0.0520 - acc: 0.9840 - val_loss: 1.1207 - val_acc: 0.8101\n",
      "Epoch 36/100\n",
      "3125/3125 [==============================] - 264s 84ms/step - loss: 0.0398 - acc: 0.9876 - val_loss: 1.2609 - val_acc: 0.7959\n",
      "Epoch 37/100\n",
      "3125/3125 [==============================] - 259s 83ms/step - loss: 0.0419 - acc: 0.9869 - val_loss: 1.1458 - val_acc: 0.8062\n",
      "Epoch 38/100\n",
      "3125/3125 [==============================] - 258s 83ms/step - loss: 0.0442 - acc: 0.9866 - val_loss: 1.3163 - val_acc: 0.7967\n",
      "Epoch 39/100\n",
      "3125/3125 [==============================] - 268s 86ms/step - loss: 0.0427 - acc: 0.9868 - val_loss: 1.2223 - val_acc: 0.7983\n",
      "Epoch 40/100\n",
      "3125/3125 [==============================] - 265s 85ms/step - loss: 0.0407 - acc: 0.9873 - val_loss: 1.3885 - val_acc: 0.7890\n",
      "Epoch 41/100\n",
      "3125/3125 [==============================] - 267s 86ms/step - loss: 0.0381 - acc: 0.9882 - val_loss: 1.5228 - val_acc: 0.7720\n",
      "Epoch 42/100\n",
      "3125/3125 [==============================] - 269s 86ms/step - loss: 0.0389 - acc: 0.9881 - val_loss: 1.3671 - val_acc: 0.7972\n",
      "Epoch 43/100\n",
      "3125/3125 [==============================] - 265s 85ms/step - loss: 0.0454 - acc: 0.9857 - val_loss: 1.1982 - val_acc: 0.7956\n",
      "Epoch 44/100\n",
      "3125/3125 [==============================] - 267s 86ms/step - loss: 0.0366 - acc: 0.9884 - val_loss: 1.1779 - val_acc: 0.8104\n",
      "Epoch 45/100\n",
      "3125/3125 [==============================] - 275s 88ms/step - loss: 0.0408 - acc: 0.9868 - val_loss: 1.2232 - val_acc: 0.8014\n",
      "Epoch 46/100\n",
      "3125/3125 [==============================] - 275s 88ms/step - loss: 0.0385 - acc: 0.9878 - val_loss: 1.1435 - val_acc: 0.8144\n",
      "Epoch 47/100\n",
      "3125/3125 [==============================] - 269s 86ms/step - loss: 0.0371 - acc: 0.9886 - val_loss: 1.1530 - val_acc: 0.8001\n",
      "Epoch 48/100\n",
      "3125/3125 [==============================] - 262s 84ms/step - loss: 0.0376 - acc: 0.9881 - val_loss: 1.2799 - val_acc: 0.7929\n",
      "Epoch 49/100\n",
      "3125/3125 [==============================] - 255s 82ms/step - loss: 0.0376 - acc: 0.9883 - val_loss: 1.6531 - val_acc: 0.7784\n",
      "Epoch 50/100\n",
      "3125/3125 [==============================] - 255s 82ms/step - loss: 0.0390 - acc: 0.9881 - val_loss: 1.6142 - val_acc: 0.7802\n",
      "Epoch 51/100\n",
      "3125/3125 [==============================] - 255s 82ms/step - loss: 0.0343 - acc: 0.9894 - val_loss: 1.5819 - val_acc: 0.7935\n",
      "Epoch 52/100\n",
      "3125/3125 [==============================] - 255s 82ms/step - loss: 0.0366 - acc: 0.9891 - val_loss: 1.1482 - val_acc: 0.8062\n",
      "Epoch 53/100\n",
      "3125/3125 [==============================] - 255s 82ms/step - loss: 0.0311 - acc: 0.9900 - val_loss: 1.5042 - val_acc: 0.7999\n",
      "Epoch 54/100\n",
      "3125/3125 [==============================] - 255s 82ms/step - loss: 0.0349 - acc: 0.9890 - val_loss: 1.3484 - val_acc: 0.8026\n",
      "Epoch 55/100\n",
      "3125/3125 [==============================] - 255s 82ms/step - loss: 0.0343 - acc: 0.9897 - val_loss: 1.4153 - val_acc: 0.7863\n",
      "Epoch 56/100\n",
      "3125/3125 [==============================] - 255s 82ms/step - loss: 0.0342 - acc: 0.9892 - val_loss: 1.3067 - val_acc: 0.7993\n",
      "Epoch 57/100\n",
      "3125/3125 [==============================] - 255s 82ms/step - loss: 0.0345 - acc: 0.9894 - val_loss: 1.3750 - val_acc: 0.7936\n",
      "Epoch 58/100\n",
      "3125/3125 [==============================] - 256s 82ms/step - loss: 0.0335 - acc: 0.9897 - val_loss: 1.4722 - val_acc: 0.7937\n",
      "Epoch 59/100\n",
      "3125/3125 [==============================] - 288s 92ms/step - loss: 0.0324 - acc: 0.9897 - val_loss: 1.3366 - val_acc: 0.7989\n"
     ]
    },
    {
     "name": "stdout",
     "output_type": "stream",
     "text": [
      "Epoch 60/100\n",
      " 132/3125 [>.............................] - ETA: 4:02 - loss: 0.0264 - acc: 0.9915"
     ]
    },
    {
     "ename": "KeyboardInterrupt",
     "evalue": "",
     "output_type": "error",
     "traceback": [
      "\u001b[1;31m---------------------------------------------------------------------------\u001b[0m",
      "\u001b[1;31mKeyboardInterrupt\u001b[0m                         Traceback (most recent call last)",
      "\u001b[1;32m<ipython-input-7-533e80e1d100>\u001b[0m in \u001b[0;36m<module>\u001b[1;34m\u001b[0m\n\u001b[0;32m      1\u001b[0m \u001b[0mmodel\u001b[0m\u001b[1;33m.\u001b[0m\u001b[0mload_weights\u001b[0m\u001b[1;33m(\u001b[0m\u001b[1;33m)\u001b[0m\u001b[1;33m\u001b[0m\u001b[1;33m\u001b[0m\u001b[0m\n\u001b[1;32m----> 2\u001b[1;33m \u001b[0mmodel\u001b[0m\u001b[1;33m.\u001b[0m\u001b[0mfit\u001b[0m\u001b[1;33m(\u001b[0m\u001b[0mX_train\u001b[0m\u001b[1;33m,\u001b[0m \u001b[0my_train\u001b[0m\u001b[1;33m,\u001b[0m \u001b[0mepochs\u001b[0m\u001b[1;33m=\u001b[0m\u001b[1;36m100\u001b[0m\u001b[1;33m,\u001b[0m \u001b[0mearly_stopping_rounds\u001b[0m\u001b[1;33m=\u001b[0m\u001b[1;36m100\u001b[0m\u001b[1;33m,\u001b[0m \u001b[0mX_val\u001b[0m\u001b[1;33m=\u001b[0m\u001b[0mX_val\u001b[0m\u001b[1;33m,\u001b[0m \u001b[0my_val\u001b[0m\u001b[1;33m=\u001b[0m\u001b[0my_val\u001b[0m\u001b[1;33m)\u001b[0m\u001b[1;33m\u001b[0m\u001b[1;33m\u001b[0m\u001b[0m\n\u001b[0m",
      "\u001b[1;32mD:\\SpeechProcessing\\VoiceRecognition\\modeling\\gru_gru.py\u001b[0m in \u001b[0;36mfit\u001b[1;34m(self, X, y, epochs, early_stopping_rounds, X_val, y_val)\u001b[0m\n\u001b[0;32m     67\u001b[0m                                       \u001b[0mverbose\u001b[0m\u001b[1;33m=\u001b[0m\u001b[1;36m1\u001b[0m\u001b[1;33m,\u001b[0m\u001b[1;33m\u001b[0m\u001b[1;33m\u001b[0m\u001b[0m\n\u001b[0;32m     68\u001b[0m                                       \u001b[0mcallbacks\u001b[0m\u001b[1;33m=\u001b[0m\u001b[0mcallbacks\u001b[0m\u001b[1;33m,\u001b[0m\u001b[1;33m\u001b[0m\u001b[1;33m\u001b[0m\u001b[0m\n\u001b[1;32m---> 69\u001b[1;33m                                       \u001b[0mvalidation_data\u001b[0m\u001b[1;33m=\u001b[0m\u001b[1;33m(\u001b[0m\u001b[1;33m[\u001b[0m\u001b[0mX_val\u001b[0m\u001b[1;33m[\u001b[0m\u001b[1;33m:\u001b[0m\u001b[1;33m,\u001b[0m\u001b[1;36m0\u001b[0m\u001b[1;33m]\u001b[0m\u001b[1;33m,\u001b[0m \u001b[0mX_val\u001b[0m\u001b[1;33m[\u001b[0m\u001b[1;33m:\u001b[0m\u001b[1;33m,\u001b[0m\u001b[1;36m1\u001b[0m\u001b[1;33m]\u001b[0m\u001b[1;33m]\u001b[0m\u001b[1;33m,\u001b[0m \u001b[0my_val\u001b[0m\u001b[1;33m)\u001b[0m\u001b[1;33m\u001b[0m\u001b[1;33m\u001b[0m\u001b[0m\n\u001b[0m\u001b[0;32m     70\u001b[0m                                      )\n\u001b[0;32m     71\u001b[0m         \u001b[1;32mreturn\u001b[0m \u001b[0mhistory\u001b[0m\u001b[1;33m\u001b[0m\u001b[1;33m\u001b[0m\u001b[0m\n",
      "\u001b[1;32m~\\AppData\\Roaming\\Python\\Python37\\site-packages\\tensorflow\\python\\keras\\engine\\training.py\u001b[0m in \u001b[0;36m_method_wrapper\u001b[1;34m(self, *args, **kwargs)\u001b[0m\n\u001b[0;32m    106\u001b[0m   \u001b[1;32mdef\u001b[0m \u001b[0m_method_wrapper\u001b[0m\u001b[1;33m(\u001b[0m\u001b[0mself\u001b[0m\u001b[1;33m,\u001b[0m \u001b[1;33m*\u001b[0m\u001b[0margs\u001b[0m\u001b[1;33m,\u001b[0m \u001b[1;33m**\u001b[0m\u001b[0mkwargs\u001b[0m\u001b[1;33m)\u001b[0m\u001b[1;33m:\u001b[0m\u001b[1;33m\u001b[0m\u001b[1;33m\u001b[0m\u001b[0m\n\u001b[0;32m    107\u001b[0m     \u001b[1;32mif\u001b[0m \u001b[1;32mnot\u001b[0m \u001b[0mself\u001b[0m\u001b[1;33m.\u001b[0m\u001b[0m_in_multi_worker_mode\u001b[0m\u001b[1;33m(\u001b[0m\u001b[1;33m)\u001b[0m\u001b[1;33m:\u001b[0m  \u001b[1;31m# pylint: disable=protected-access\u001b[0m\u001b[1;33m\u001b[0m\u001b[1;33m\u001b[0m\u001b[0m\n\u001b[1;32m--> 108\u001b[1;33m       \u001b[1;32mreturn\u001b[0m \u001b[0mmethod\u001b[0m\u001b[1;33m(\u001b[0m\u001b[0mself\u001b[0m\u001b[1;33m,\u001b[0m \u001b[1;33m*\u001b[0m\u001b[0margs\u001b[0m\u001b[1;33m,\u001b[0m \u001b[1;33m**\u001b[0m\u001b[0mkwargs\u001b[0m\u001b[1;33m)\u001b[0m\u001b[1;33m\u001b[0m\u001b[1;33m\u001b[0m\u001b[0m\n\u001b[0m\u001b[0;32m    109\u001b[0m \u001b[1;33m\u001b[0m\u001b[0m\n\u001b[0;32m    110\u001b[0m     \u001b[1;31m# Running inside `run_distribute_coordinator` already.\u001b[0m\u001b[1;33m\u001b[0m\u001b[1;33m\u001b[0m\u001b[1;33m\u001b[0m\u001b[0m\n",
      "\u001b[1;32m~\\AppData\\Roaming\\Python\\Python37\\site-packages\\tensorflow\\python\\keras\\engine\\training.py\u001b[0m in \u001b[0;36mfit\u001b[1;34m(self, x, y, batch_size, epochs, verbose, callbacks, validation_split, validation_data, shuffle, class_weight, sample_weight, initial_epoch, steps_per_epoch, validation_steps, validation_batch_size, validation_freq, max_queue_size, workers, use_multiprocessing)\u001b[0m\n\u001b[0;32m   1096\u001b[0m                 batch_size=batch_size):\n\u001b[0;32m   1097\u001b[0m               \u001b[0mcallbacks\u001b[0m\u001b[1;33m.\u001b[0m\u001b[0mon_train_batch_begin\u001b[0m\u001b[1;33m(\u001b[0m\u001b[0mstep\u001b[0m\u001b[1;33m)\u001b[0m\u001b[1;33m\u001b[0m\u001b[1;33m\u001b[0m\u001b[0m\n\u001b[1;32m-> 1098\u001b[1;33m               \u001b[0mtmp_logs\u001b[0m \u001b[1;33m=\u001b[0m \u001b[0mtrain_function\u001b[0m\u001b[1;33m(\u001b[0m\u001b[0miterator\u001b[0m\u001b[1;33m)\u001b[0m\u001b[1;33m\u001b[0m\u001b[1;33m\u001b[0m\u001b[0m\n\u001b[0m\u001b[0;32m   1099\u001b[0m               \u001b[1;32mif\u001b[0m \u001b[0mdata_handler\u001b[0m\u001b[1;33m.\u001b[0m\u001b[0mshould_sync\u001b[0m\u001b[1;33m:\u001b[0m\u001b[1;33m\u001b[0m\u001b[1;33m\u001b[0m\u001b[0m\n\u001b[0;32m   1100\u001b[0m                 \u001b[0mcontext\u001b[0m\u001b[1;33m.\u001b[0m\u001b[0masync_wait\u001b[0m\u001b[1;33m(\u001b[0m\u001b[1;33m)\u001b[0m\u001b[1;33m\u001b[0m\u001b[1;33m\u001b[0m\u001b[0m\n",
      "\u001b[1;32m~\\AppData\\Roaming\\Python\\Python37\\site-packages\\tensorflow\\python\\eager\\def_function.py\u001b[0m in \u001b[0;36m__call__\u001b[1;34m(self, *args, **kwds)\u001b[0m\n\u001b[0;32m    778\u001b[0m       \u001b[1;32melse\u001b[0m\u001b[1;33m:\u001b[0m\u001b[1;33m\u001b[0m\u001b[1;33m\u001b[0m\u001b[0m\n\u001b[0;32m    779\u001b[0m         \u001b[0mcompiler\u001b[0m \u001b[1;33m=\u001b[0m \u001b[1;34m\"nonXla\"\u001b[0m\u001b[1;33m\u001b[0m\u001b[1;33m\u001b[0m\u001b[0m\n\u001b[1;32m--> 780\u001b[1;33m         \u001b[0mresult\u001b[0m \u001b[1;33m=\u001b[0m \u001b[0mself\u001b[0m\u001b[1;33m.\u001b[0m\u001b[0m_call\u001b[0m\u001b[1;33m(\u001b[0m\u001b[1;33m*\u001b[0m\u001b[0margs\u001b[0m\u001b[1;33m,\u001b[0m \u001b[1;33m**\u001b[0m\u001b[0mkwds\u001b[0m\u001b[1;33m)\u001b[0m\u001b[1;33m\u001b[0m\u001b[1;33m\u001b[0m\u001b[0m\n\u001b[0m\u001b[0;32m    781\u001b[0m \u001b[1;33m\u001b[0m\u001b[0m\n\u001b[0;32m    782\u001b[0m       \u001b[0mnew_tracing_count\u001b[0m \u001b[1;33m=\u001b[0m \u001b[0mself\u001b[0m\u001b[1;33m.\u001b[0m\u001b[0m_get_tracing_count\u001b[0m\u001b[1;33m(\u001b[0m\u001b[1;33m)\u001b[0m\u001b[1;33m\u001b[0m\u001b[1;33m\u001b[0m\u001b[0m\n",
      "\u001b[1;32m~\\AppData\\Roaming\\Python\\Python37\\site-packages\\tensorflow\\python\\eager\\def_function.py\u001b[0m in \u001b[0;36m_call\u001b[1;34m(self, *args, **kwds)\u001b[0m\n\u001b[0;32m    805\u001b[0m       \u001b[1;31m# In this case we have created variables on the first call, so we run the\u001b[0m\u001b[1;33m\u001b[0m\u001b[1;33m\u001b[0m\u001b[1;33m\u001b[0m\u001b[0m\n\u001b[0;32m    806\u001b[0m       \u001b[1;31m# defunned version which is guaranteed to never create variables.\u001b[0m\u001b[1;33m\u001b[0m\u001b[1;33m\u001b[0m\u001b[1;33m\u001b[0m\u001b[0m\n\u001b[1;32m--> 807\u001b[1;33m       \u001b[1;32mreturn\u001b[0m \u001b[0mself\u001b[0m\u001b[1;33m.\u001b[0m\u001b[0m_stateless_fn\u001b[0m\u001b[1;33m(\u001b[0m\u001b[1;33m*\u001b[0m\u001b[0margs\u001b[0m\u001b[1;33m,\u001b[0m \u001b[1;33m**\u001b[0m\u001b[0mkwds\u001b[0m\u001b[1;33m)\u001b[0m  \u001b[1;31m# pylint: disable=not-callable\u001b[0m\u001b[1;33m\u001b[0m\u001b[1;33m\u001b[0m\u001b[0m\n\u001b[0m\u001b[0;32m    808\u001b[0m     \u001b[1;32melif\u001b[0m \u001b[0mself\u001b[0m\u001b[1;33m.\u001b[0m\u001b[0m_stateful_fn\u001b[0m \u001b[1;32mis\u001b[0m \u001b[1;32mnot\u001b[0m \u001b[1;32mNone\u001b[0m\u001b[1;33m:\u001b[0m\u001b[1;33m\u001b[0m\u001b[1;33m\u001b[0m\u001b[0m\n\u001b[0;32m    809\u001b[0m       \u001b[1;31m# Release the lock early so that multiple threads can perform the call\u001b[0m\u001b[1;33m\u001b[0m\u001b[1;33m\u001b[0m\u001b[1;33m\u001b[0m\u001b[0m\n",
      "\u001b[1;32m~\\AppData\\Roaming\\Python\\Python37\\site-packages\\tensorflow\\python\\eager\\function.py\u001b[0m in \u001b[0;36m__call__\u001b[1;34m(self, *args, **kwargs)\u001b[0m\n\u001b[0;32m   2827\u001b[0m     \u001b[1;32mwith\u001b[0m \u001b[0mself\u001b[0m\u001b[1;33m.\u001b[0m\u001b[0m_lock\u001b[0m\u001b[1;33m:\u001b[0m\u001b[1;33m\u001b[0m\u001b[1;33m\u001b[0m\u001b[0m\n\u001b[0;32m   2828\u001b[0m       \u001b[0mgraph_function\u001b[0m\u001b[1;33m,\u001b[0m \u001b[0margs\u001b[0m\u001b[1;33m,\u001b[0m \u001b[0mkwargs\u001b[0m \u001b[1;33m=\u001b[0m \u001b[0mself\u001b[0m\u001b[1;33m.\u001b[0m\u001b[0m_maybe_define_function\u001b[0m\u001b[1;33m(\u001b[0m\u001b[0margs\u001b[0m\u001b[1;33m,\u001b[0m \u001b[0mkwargs\u001b[0m\u001b[1;33m)\u001b[0m\u001b[1;33m\u001b[0m\u001b[1;33m\u001b[0m\u001b[0m\n\u001b[1;32m-> 2829\u001b[1;33m     \u001b[1;32mreturn\u001b[0m \u001b[0mgraph_function\u001b[0m\u001b[1;33m.\u001b[0m\u001b[0m_filtered_call\u001b[0m\u001b[1;33m(\u001b[0m\u001b[0margs\u001b[0m\u001b[1;33m,\u001b[0m \u001b[0mkwargs\u001b[0m\u001b[1;33m)\u001b[0m  \u001b[1;31m# pylint: disable=protected-access\u001b[0m\u001b[1;33m\u001b[0m\u001b[1;33m\u001b[0m\u001b[0m\n\u001b[0m\u001b[0;32m   2830\u001b[0m \u001b[1;33m\u001b[0m\u001b[0m\n\u001b[0;32m   2831\u001b[0m   \u001b[1;33m@\u001b[0m\u001b[0mproperty\u001b[0m\u001b[1;33m\u001b[0m\u001b[1;33m\u001b[0m\u001b[0m\n",
      "\u001b[1;32m~\\AppData\\Roaming\\Python\\Python37\\site-packages\\tensorflow\\python\\eager\\function.py\u001b[0m in \u001b[0;36m_filtered_call\u001b[1;34m(self, args, kwargs, cancellation_manager)\u001b[0m\n\u001b[0;32m   1846\u001b[0m                            resource_variable_ops.BaseResourceVariable))],\n\u001b[0;32m   1847\u001b[0m         \u001b[0mcaptured_inputs\u001b[0m\u001b[1;33m=\u001b[0m\u001b[0mself\u001b[0m\u001b[1;33m.\u001b[0m\u001b[0mcaptured_inputs\u001b[0m\u001b[1;33m,\u001b[0m\u001b[1;33m\u001b[0m\u001b[1;33m\u001b[0m\u001b[0m\n\u001b[1;32m-> 1848\u001b[1;33m         cancellation_manager=cancellation_manager)\n\u001b[0m\u001b[0;32m   1849\u001b[0m \u001b[1;33m\u001b[0m\u001b[0m\n\u001b[0;32m   1850\u001b[0m   \u001b[1;32mdef\u001b[0m \u001b[0m_call_flat\u001b[0m\u001b[1;33m(\u001b[0m\u001b[0mself\u001b[0m\u001b[1;33m,\u001b[0m \u001b[0margs\u001b[0m\u001b[1;33m,\u001b[0m \u001b[0mcaptured_inputs\u001b[0m\u001b[1;33m,\u001b[0m \u001b[0mcancellation_manager\u001b[0m\u001b[1;33m=\u001b[0m\u001b[1;32mNone\u001b[0m\u001b[1;33m)\u001b[0m\u001b[1;33m:\u001b[0m\u001b[1;33m\u001b[0m\u001b[1;33m\u001b[0m\u001b[0m\n",
      "\u001b[1;32m~\\AppData\\Roaming\\Python\\Python37\\site-packages\\tensorflow\\python\\eager\\function.py\u001b[0m in \u001b[0;36m_call_flat\u001b[1;34m(self, args, captured_inputs, cancellation_manager)\u001b[0m\n\u001b[0;32m   1922\u001b[0m       \u001b[1;31m# No tape is watching; skip to running the function.\u001b[0m\u001b[1;33m\u001b[0m\u001b[1;33m\u001b[0m\u001b[1;33m\u001b[0m\u001b[0m\n\u001b[0;32m   1923\u001b[0m       return self._build_call_outputs(self._inference_function.call(\n\u001b[1;32m-> 1924\u001b[1;33m           ctx, args, cancellation_manager=cancellation_manager))\n\u001b[0m\u001b[0;32m   1925\u001b[0m     forward_backward = self._select_forward_and_backward_functions(\n\u001b[0;32m   1926\u001b[0m         \u001b[0margs\u001b[0m\u001b[1;33m,\u001b[0m\u001b[1;33m\u001b[0m\u001b[1;33m\u001b[0m\u001b[0m\n",
      "\u001b[1;32m~\\AppData\\Roaming\\Python\\Python37\\site-packages\\tensorflow\\python\\eager\\function.py\u001b[0m in \u001b[0;36mcall\u001b[1;34m(self, ctx, args, cancellation_manager)\u001b[0m\n\u001b[0;32m    548\u001b[0m               \u001b[0minputs\u001b[0m\u001b[1;33m=\u001b[0m\u001b[0margs\u001b[0m\u001b[1;33m,\u001b[0m\u001b[1;33m\u001b[0m\u001b[1;33m\u001b[0m\u001b[0m\n\u001b[0;32m    549\u001b[0m               \u001b[0mattrs\u001b[0m\u001b[1;33m=\u001b[0m\u001b[0mattrs\u001b[0m\u001b[1;33m,\u001b[0m\u001b[1;33m\u001b[0m\u001b[1;33m\u001b[0m\u001b[0m\n\u001b[1;32m--> 550\u001b[1;33m               ctx=ctx)\n\u001b[0m\u001b[0;32m    551\u001b[0m         \u001b[1;32melse\u001b[0m\u001b[1;33m:\u001b[0m\u001b[1;33m\u001b[0m\u001b[1;33m\u001b[0m\u001b[0m\n\u001b[0;32m    552\u001b[0m           outputs = execute.execute_with_cancellation(\n",
      "\u001b[1;32m~\\AppData\\Roaming\\Python\\Python37\\site-packages\\tensorflow\\python\\eager\\execute.py\u001b[0m in \u001b[0;36mquick_execute\u001b[1;34m(op_name, num_outputs, inputs, attrs, ctx, name)\u001b[0m\n\u001b[0;32m     58\u001b[0m     \u001b[0mctx\u001b[0m\u001b[1;33m.\u001b[0m\u001b[0mensure_initialized\u001b[0m\u001b[1;33m(\u001b[0m\u001b[1;33m)\u001b[0m\u001b[1;33m\u001b[0m\u001b[1;33m\u001b[0m\u001b[0m\n\u001b[0;32m     59\u001b[0m     tensors = pywrap_tfe.TFE_Py_Execute(ctx._handle, device_name, op_name,\n\u001b[1;32m---> 60\u001b[1;33m                                         inputs, attrs, num_outputs)\n\u001b[0m\u001b[0;32m     61\u001b[0m   \u001b[1;32mexcept\u001b[0m \u001b[0mcore\u001b[0m\u001b[1;33m.\u001b[0m\u001b[0m_NotOkStatusException\u001b[0m \u001b[1;32mas\u001b[0m \u001b[0me\u001b[0m\u001b[1;33m:\u001b[0m\u001b[1;33m\u001b[0m\u001b[1;33m\u001b[0m\u001b[0m\n\u001b[0;32m     62\u001b[0m     \u001b[1;32mif\u001b[0m \u001b[0mname\u001b[0m \u001b[1;32mis\u001b[0m \u001b[1;32mnot\u001b[0m \u001b[1;32mNone\u001b[0m\u001b[1;33m:\u001b[0m\u001b[1;33m\u001b[0m\u001b[1;33m\u001b[0m\u001b[0m\n",
      "\u001b[1;31mKeyboardInterrupt\u001b[0m: "
     ]
    }
   ],
   "source": [
    "model.load_weights()\n",
    "model.fit(X_train, y_train, epochs=100, early_stopping_rounds=100, X_val=X_val, y_val=y_val)"
   ]
  },
  {
   "cell_type": "code",
   "execution_count": 8,
   "metadata": {
    "ExecuteTime": {
     "end_time": "2021-04-22T07:37:59.737523Z",
     "start_time": "2021-04-22T07:37:59.516186Z"
    }
   },
   "outputs": [],
   "source": [
    "model.save_weights()"
   ]
  },
  {
   "cell_type": "markdown",
   "metadata": {},
   "source": [
    "# Evaluation"
   ]
  },
  {
   "cell_type": "code",
   "execution_count": 5,
   "metadata": {
    "ExecuteTime": {
     "end_time": "2021-04-22T07:38:42.354782Z",
     "start_time": "2021-04-22T07:38:42.295734Z"
    }
   },
   "outputs": [],
   "source": [
    "model.load_weights()"
   ]
  },
  {
   "cell_type": "code",
   "execution_count": 6,
   "metadata": {
    "ExecuteTime": {
     "end_time": "2021-04-22T07:39:58.681649Z",
     "start_time": "2021-04-22T07:38:42.357738Z"
    }
   },
   "outputs": [],
   "source": [
    "X_test, y_test = load_data([\"test\"])"
   ]
  },
  {
   "cell_type": "code",
   "execution_count": 7,
   "metadata": {
    "ExecuteTime": {
     "end_time": "2021-04-22T07:40:15.634590Z",
     "start_time": "2021-04-22T07:39:58.686597Z"
    }
   },
   "outputs": [],
   "source": [
    "y_pred = model.predict(X_test)"
   ]
  },
  {
   "cell_type": "code",
   "execution_count": 8,
   "metadata": {
    "ExecuteTime": {
     "end_time": "2021-04-22T07:40:16.040591Z",
     "start_time": "2021-04-22T07:40:15.639596Z"
    },
    "scrolled": true
   },
   "outputs": [
    {
     "data": {
      "image/png": "[encoded data removed]",
      "text/plain": [
       "<Figure size 432x288 with 2 Axes>"
      ]
     },
     "metadata": {
      "needs_background": "light"
     },
     "output_type": "display_data"
    }
   ],
   "source": [
    "evaluation.plot_confusion_matrix(y_test, y_pred)"
   ]
  },
  {
   "cell_type": "code",
   "execution_count": 9,
   "metadata": {
    "ExecuteTime": {
     "end_time": "2021-04-22T07:40:16.087590Z",
     "start_time": "2021-04-22T07:40:16.043594Z"
    }
   },
   "outputs": [
    {
     "name": "stdout",
     "output_type": "stream",
     "text": [
      "Classification report:\n",
      "               precision    recall  f1-score   support\n",
      "\n",
      "       False       0.75      0.89      0.82      4972\n",
      "        True       0.87      0.70      0.78      5028\n",
      "\n",
      "    accuracy                           0.80     10000\n",
      "   macro avg       0.81      0.80      0.80     10000\n",
      "weighted avg       0.81      0.80      0.80     10000\n",
      "\n"
     ]
    }
   ],
   "source": [
    "evaluation.print_classification_report(y_test, y_pred)"
   ]
  },
  {
   "cell_type": "code",
   "execution_count": 10,
   "metadata": {
    "ExecuteTime": {
     "end_time": "2021-04-22T07:40:16.118597Z",
     "start_time": "2021-04-22T07:40:16.090593Z"
    }
   },
   "outputs": [
    {
     "data": {
      "text/plain": [
       "0.7966269536680809"
      ]
     },
     "execution_count": 10,
     "metadata": {},
     "output_type": "execute_result"
    }
   ],
   "source": [
    "evaluation.get_f1_score(y_test, y_pred, average='macro')"
   ]
  },
  {
   "cell_type": "code",
   "execution_count": null,
   "metadata": {},
   "outputs": [],
   "source": []
  }
 ],
 "metadata": {
  "kernelspec": {
   "display_name": "Python 3",
   "language": "python",
   "name": "python3"
  },
  "language_info": {
   "codemirror_mode": {
    "name": "ipython",
    "version": 3
   },
   "file_extension": ".py",
   "mimetype": "text/x-python",
   "name": "python",
   "nbconvert_exporter": "python",
   "pygments_lexer": "ipython3",
   "version": "3.7.5"
  },
  "toc": {
   "base_numbering": 1,
   "nav_menu": {},
   "number_sections": true,
   "sideBar": true,
   "skip_h1_title": false,
   "title_cell": "Table of Contents",
   "title_sidebar": "Contents",
   "toc_cell": true,
   "toc_position": {
    "height": "calc(100% - 180px)",
    "left": "10px",
    "top": "150px",
    "width": "307.038px"
   },
   "toc_section_display": true,
   "toc_window_display": true
  }
 },
 "nbformat": 4,
 "nbformat_minor": 2
}
