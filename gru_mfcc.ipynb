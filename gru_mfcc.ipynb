{
 "cells": [
  {
   "cell_type": "markdown",
   "metadata": {
    "toc": true
   },
   "source": [
    "<h1>Table of Contents<span class=\"tocSkip\"></span></h1>\n",
    "<div class=\"toc\"><ul class=\"toc-item\"><li><span><a href=\"#Load-libraries\" data-toc-modified-id=\"Load-libraries-1\"><span class=\"toc-item-num\">1&nbsp;&nbsp;</span>Load libraries</a></span></li><li><span><a href=\"#Load-data\" data-toc-modified-id=\"Load-data-2\"><span class=\"toc-item-num\">2&nbsp;&nbsp;</span>Load data</a></span></li><li><span><a href=\"#Train-model\" data-toc-modified-id=\"Train-model-3\"><span class=\"toc-item-num\">3&nbsp;&nbsp;</span>Train model</a></span></li><li><span><a href=\"#Evaluation\" data-toc-modified-id=\"Evaluation-4\"><span class=\"toc-item-num\">4&nbsp;&nbsp;</span>Evaluation</a></span></li></ul></div>"
   ]
  },
  {
   "cell_type": "markdown",
   "metadata": {
    "ExecuteTime": {
     "end_time": "2021-04-18T06:10:15.387785Z",
     "start_time": "2021-04-18T06:10:15.380784Z"
    }
   },
   "source": [
    "# Load libraries"
   ]
  },
  {
   "cell_type": "code",
   "execution_count": 1,
   "metadata": {
    "ExecuteTime": {
     "end_time": "2021-04-19T12:37:08.740585Z",
     "start_time": "2021-04-19T12:37:07.352626Z"
    }
   },
   "outputs": [],
   "source": [
    "import numpy as np\n",
    "import matplotlib.pyplot as plt\n",
    "import evaluation\n",
    "from sklearn.model_selection import train_test_split"
   ]
  },
  {
   "cell_type": "markdown",
   "metadata": {},
   "source": [
    "# Load data"
   ]
  },
  {
   "cell_type": "code",
   "execution_count": 2,
   "metadata": {
    "ExecuteTime": {
     "end_time": "2021-04-19T12:37:16.833374Z",
     "start_time": "2021-04-19T12:37:08.742586Z"
    }
   },
   "outputs": [],
   "source": [
    "import _pickle as cPickle\n",
    "\n",
    "data_dir = \"./data/\"\n",
    "with open(data_dir + \"data_mfcc.pkl\", 'rb') as f:\n",
    "    data_mfcc = cPickle.load(f)"
   ]
  },
  {
   "cell_type": "code",
   "execution_count": 3,
   "metadata": {
    "ExecuteTime": {
     "end_time": "2021-04-19T12:37:16.919340Z",
     "start_time": "2021-04-19T12:37:16.864341Z"
    }
   },
   "outputs": [
    {
     "data": {
      "text/plain": [
       "dict_keys(['sentence_I', 'sentence_II', 'same_speaker'])"
      ]
     },
     "execution_count": 3,
     "metadata": {},
     "output_type": "execute_result"
    }
   ],
   "source": [
    "data_mfcc.keys()"
   ]
  },
  {
   "cell_type": "code",
   "execution_count": 4,
   "metadata": {
    "ExecuteTime": {
     "end_time": "2021-04-19T12:37:17.008339Z",
     "start_time": "2021-04-19T12:37:16.958339Z"
    }
   },
   "outputs": [
    {
     "data": {
      "text/plain": [
       "6932"
      ]
     },
     "execution_count": 4,
     "metadata": {},
     "output_type": "execute_result"
    }
   ],
   "source": [
    "len(data_mfcc['same_speaker'])"
   ]
  },
  {
   "cell_type": "code",
   "execution_count": 5,
   "metadata": {
    "ExecuteTime": {
     "end_time": "2021-04-19T12:37:17.085340Z",
     "start_time": "2021-04-19T12:37:17.023339Z"
    },
    "scrolled": true
   },
   "outputs": [
    {
     "data": {
      "text/plain": [
       "(530, 13)"
      ]
     },
     "execution_count": 5,
     "metadata": {},
     "output_type": "execute_result"
    }
   ],
   "source": [
    "data_mfcc['sentence_I'][0].shape"
   ]
  },
  {
   "cell_type": "code",
   "execution_count": 6,
   "metadata": {
    "ExecuteTime": {
     "end_time": "2021-04-19T12:37:33.185851Z",
     "start_time": "2021-04-19T12:37:17.105339Z"
    }
   },
   "outputs": [
    {
     "data": {
      "text/plain": [
       "(6932, 2, 1000, 13)"
      ]
     },
     "execution_count": 6,
     "metadata": {},
     "output_type": "execute_result"
    }
   ],
   "source": [
    "TIME_LENGTH = 1000\n",
    "N_MFCC = 13 # = data_mfcc['sentence_I'][0].shape[1]\n",
    "\n",
    "X = []\n",
    "y = []\n",
    "for i in range(len(data_mfcc['sentence_I'])):\n",
    "    sentence_I = np.zeros((TIME_LENGTH, N_MFCC), dtype=np.float32)\n",
    "    sentence_I[-data_mfcc['sentence_I'][i].shape[0]:] = data_mfcc['sentence_I'][i][:TIME_LENGTH]\n",
    "    sentence_II = np.zeros((TIME_LENGTH, N_MFCC), dtype=np.float32)\n",
    "    sentence_II[-data_mfcc['sentence_II'][i].shape[0]:] = data_mfcc['sentence_II'][i][:TIME_LENGTH]\n",
    "    X.append([sentence_I, sentence_II])\n",
    "    y.append(data_mfcc['same_speaker'][i])\n",
    "        \n",
    "X = np.array(X)\n",
    "y = np.array(y)\n",
    "X.shape"
   ]
  },
  {
   "cell_type": "code",
   "execution_count": 7,
   "metadata": {
    "ExecuteTime": {
     "end_time": "2021-04-19T12:37:33.539854Z",
     "start_time": "2021-04-19T12:37:33.222881Z"
    }
   },
   "outputs": [],
   "source": [
    "X_train, X_test, y_train, y_test = train_test_split(X, y, test_size=0.1, random_state=42)"
   ]
  },
  {
   "cell_type": "markdown",
   "metadata": {},
   "source": [
    "# Train model"
   ]
  },
  {
   "cell_type": "code",
   "execution_count": 10,
   "metadata": {
    "ExecuteTime": {
     "end_time": "2021-04-19T12:38:13.238503Z",
     "start_time": "2021-04-19T12:38:05.207808Z"
    }
   },
   "outputs": [
    {
     "name": "stdout",
     "output_type": "stream",
     "text": [
      "Model: \"functional_1\"\n",
      "__________________________________________________________________________________________________\n",
      "Layer (type)                    Output Shape         Param #     Connected to                     \n",
      "==================================================================================================\n",
      "input_1 (InputLayer)            [(None, None, 13)]   0                                            \n",
      "__________________________________________________________________________________________________\n",
      "input_2 (InputLayer)            [(None, None, 13)]   0                                            \n",
      "__________________________________________________________________________________________________\n",
      "gru (GRU)                       (None, None, 64)     15168       input_1[0][0]                    \n",
      "__________________________________________________________________________________________________\n",
      "gru_2 (GRU)                     (None, None, 64)     15168       input_2[0][0]                    \n",
      "__________________________________________________________________________________________________\n",
      "gru_1 (GRU)                     (None, 64)           24960       gru[0][0]                        \n",
      "__________________________________________________________________________________________________\n",
      "gru_3 (GRU)                     (None, 64)           24960       gru_2[0][0]                      \n",
      "__________________________________________________________________________________________________\n",
      "concatenate (Concatenate)       (None, 128)          0           gru_1[0][0]                      \n",
      "                                                                 gru_3[0][0]                      \n",
      "__________________________________________________________________________________________________\n",
      "dense (Dense)                   (None, 64)           8256        concatenate[0][0]                \n",
      "__________________________________________________________________________________________________\n",
      "dropout (Dropout)               (None, 64)           0           dense[0][0]                      \n",
      "__________________________________________________________________________________________________\n",
      "dense_1 (Dense)                 (None, 1)            65          dropout[0][0]                    \n",
      "==================================================================================================\n",
      "Total params: 88,577\n",
      "Trainable params: 88,577\n",
      "Non-trainable params: 0\n",
      "__________________________________________________________________________________________________\n"
     ]
    }
   ],
   "source": [
    "from modeling.gru_gru import GRU_GRU\n",
    "\n",
    "model = GRU_GRU(num_features=N_MFCC)"
   ]
  },
  {
   "cell_type": "code",
   "execution_count": 18,
   "metadata": {
    "ExecuteTime": {
     "end_time": "2021-04-19T01:41:18.584370Z",
     "start_time": "2021-04-19T01:17:48.431094Z"
    },
    "scrolled": false
   },
   "outputs": [
    {
     "name": "stdout",
     "output_type": "stream",
     "text": [
      "Model: \"functional_5\"\n",
      "__________________________________________________________________________________________________\n",
      "Layer (type)                    Output Shape         Param #     Connected to                     \n",
      "==================================================================================================\n",
      "input_5 (InputLayer)            [(None, None, 13)]   0                                            \n",
      "__________________________________________________________________________________________________\n",
      "input_6 (InputLayer)            [(None, None, 13)]   0                                            \n",
      "__________________________________________________________________________________________________\n",
      "gru_8 (GRU)                     (None, None, 64)     15168       input_5[0][0]                    \n",
      "__________________________________________________________________________________________________\n",
      "gru_10 (GRU)                    (None, None, 64)     15168       input_6[0][0]                    \n",
      "__________________________________________________________________________________________________\n",
      "gru_9 (GRU)                     (None, 64)           24960       gru_8[0][0]                      \n",
      "__________________________________________________________________________________________________\n",
      "gru_11 (GRU)                    (None, 64)           24960       gru_10[0][0]                     \n",
      "__________________________________________________________________________________________________\n",
      "concatenate_2 (Concatenate)     (None, 128)          0           gru_9[0][0]                      \n",
      "                                                                 gru_11[0][0]                     \n",
      "__________________________________________________________________________________________________\n",
      "dense_4 (Dense)                 (None, 64)           8256        concatenate_2[0][0]              \n",
      "__________________________________________________________________________________________________\n",
      "dropout_2 (Dropout)             (None, 64)           0           dense_4[0][0]                    \n",
      "__________________________________________________________________________________________________\n",
      "dense_5 (Dense)                 (None, 1)            65          dropout_2[0][0]                  \n",
      "==================================================================================================\n",
      "Total params: 88,577\n",
      "Trainable params: 88,577\n",
      "Non-trainable params: 0\n",
      "__________________________________________________________________________________________________\n",
      "Epoch 1/100\n",
      "176/176 [==============================] - 23s 129ms/step - loss: 0.6740 - acc: 0.5864 - val_loss: 0.6139 - val_acc: 0.6619\n",
      "Epoch 2/100\n",
      "176/176 [==============================] - 22s 124ms/step - loss: 0.6004 - acc: 0.6721 - val_loss: 0.5568 - val_acc: 0.7356\n",
      "Epoch 3/100\n",
      "176/176 [==============================] - 22s 124ms/step - loss: 0.5389 - acc: 0.7269 - val_loss: 0.5006 - val_acc: 0.7564\n",
      "Epoch 4/100\n",
      "176/176 [==============================] - 22s 123ms/step - loss: 0.4960 - acc: 0.7649 - val_loss: 0.4604 - val_acc: 0.7965\n",
      "Epoch 5/100\n",
      "176/176 [==============================] - 22s 122ms/step - loss: 0.4556 - acc: 0.7925 - val_loss: 0.4205 - val_acc: 0.7981\n",
      "Epoch 6/100\n",
      "176/176 [==============================] - 22s 124ms/step - loss: 0.4161 - acc: 0.8076 - val_loss: 0.3938 - val_acc: 0.8413\n",
      "Epoch 7/100\n",
      "176/176 [==============================] - 21s 122ms/step - loss: 0.3832 - acc: 0.8313 - val_loss: 0.3876 - val_acc: 0.8317\n",
      "Epoch 8/100\n",
      "176/176 [==============================] - 22s 122ms/step - loss: 0.3553 - acc: 0.8484 - val_loss: 0.3424 - val_acc: 0.8574\n",
      "Epoch 9/100\n",
      "176/176 [==============================] - 22s 123ms/step - loss: 0.3198 - acc: 0.8648 - val_loss: 0.3728 - val_acc: 0.8478\n",
      "Epoch 10/100\n",
      "176/176 [==============================] - 21s 122ms/step - loss: 0.2964 - acc: 0.8735 - val_loss: 0.3381 - val_acc: 0.8606\n",
      "Epoch 11/100\n",
      "176/176 [==============================] - 22s 122ms/step - loss: 0.2699 - acc: 0.8905 - val_loss: 0.3340 - val_acc: 0.8622\n",
      "Epoch 12/100\n",
      "176/176 [==============================] - 22s 122ms/step - loss: 0.2623 - acc: 0.8986 - val_loss: 0.3023 - val_acc: 0.8654\n",
      "Epoch 13/100\n",
      "176/176 [==============================] - 21s 122ms/step - loss: 0.2339 - acc: 0.9081 - val_loss: 0.3253 - val_acc: 0.8718\n",
      "Epoch 14/100\n",
      "176/176 [==============================] - 21s 122ms/step - loss: 0.2287 - acc: 0.9097 - val_loss: 0.2784 - val_acc: 0.8926\n",
      "Epoch 15/100\n",
      "176/176 [==============================] - 21s 122ms/step - loss: 0.1921 - acc: 0.9255 - val_loss: 0.3123 - val_acc: 0.8686\n",
      "Epoch 16/100\n",
      "176/176 [==============================] - 21s 121ms/step - loss: 0.1839 - acc: 0.9318 - val_loss: 0.2883 - val_acc: 0.8926\n",
      "Epoch 17/100\n",
      "176/176 [==============================] - 21s 122ms/step - loss: 0.1755 - acc: 0.9318 - val_loss: 0.2551 - val_acc: 0.9054\n",
      "Epoch 18/100\n",
      "176/176 [==============================] - 21s 122ms/step - loss: 0.1561 - acc: 0.9407 - val_loss: 0.2426 - val_acc: 0.9071\n",
      "Epoch 19/100\n",
      "176/176 [==============================] - 21s 122ms/step - loss: 0.1514 - acc: 0.9416 - val_loss: 0.2770 - val_acc: 0.8830\n",
      "Epoch 20/100\n",
      "176/176 [==============================] - 21s 122ms/step - loss: 0.1371 - acc: 0.9492 - val_loss: 0.2746 - val_acc: 0.9006\n",
      "Epoch 21/100\n",
      "176/176 [==============================] - 21s 122ms/step - loss: 0.1209 - acc: 0.9546 - val_loss: 0.2731 - val_acc: 0.9087\n",
      "Epoch 22/100\n",
      "176/176 [==============================] - 21s 121ms/step - loss: 0.1159 - acc: 0.9572 - val_loss: 0.2448 - val_acc: 0.9151\n",
      "Epoch 23/100\n",
      "176/176 [==============================] - 21s 122ms/step - loss: 0.1016 - acc: 0.9615 - val_loss: 0.2468 - val_acc: 0.9199\n",
      "Epoch 24/100\n",
      "176/176 [==============================] - 22s 123ms/step - loss: 0.0818 - acc: 0.9706 - val_loss: 0.2591 - val_acc: 0.9135\n",
      "Epoch 25/100\n",
      "176/176 [==============================] - 22s 122ms/step - loss: 0.0896 - acc: 0.9676 - val_loss: 0.2576 - val_acc: 0.9071\n",
      "Epoch 26/100\n",
      "176/176 [==============================] - 21s 122ms/step - loss: 0.0901 - acc: 0.9649 - val_loss: 0.2461 - val_acc: 0.9183\n",
      "Epoch 27/100\n",
      "176/176 [==============================] - 21s 122ms/step - loss: 0.0928 - acc: 0.9667 - val_loss: 0.2630 - val_acc: 0.9103\n",
      "Epoch 28/100\n",
      "176/176 [==============================] - 21s 122ms/step - loss: 0.0948 - acc: 0.9622 - val_loss: 0.2345 - val_acc: 0.9183\n",
      "Epoch 29/100\n",
      "176/176 [==============================] - 21s 122ms/step - loss: 0.0693 - acc: 0.9767 - val_loss: 0.3522 - val_acc: 0.8830\n",
      "Epoch 30/100\n",
      "176/176 [==============================] - 21s 122ms/step - loss: 0.0808 - acc: 0.9720 - val_loss: 0.3704 - val_acc: 0.8830\n",
      "Epoch 31/100\n",
      "176/176 [==============================] - 21s 122ms/step - loss: 0.0755 - acc: 0.9747 - val_loss: 0.2181 - val_acc: 0.9231\n",
      "Epoch 32/100\n",
      "176/176 [==============================] - 21s 122ms/step - loss: 0.0624 - acc: 0.9793 - val_loss: 0.2456 - val_acc: 0.9199\n",
      "Epoch 33/100\n",
      "176/176 [==============================] - 21s 122ms/step - loss: 0.0529 - acc: 0.9820 - val_loss: 0.2781 - val_acc: 0.9038\n",
      "Epoch 34/100\n",
      "176/176 [==============================] - 21s 122ms/step - loss: 0.0526 - acc: 0.9815 - val_loss: 0.2686 - val_acc: 0.9054\n",
      "Epoch 35/100\n",
      "176/176 [==============================] - 21s 122ms/step - loss: 0.0597 - acc: 0.9795 - val_loss: 0.3001 - val_acc: 0.9038\n",
      "Epoch 36/100\n",
      "176/176 [==============================] - 21s 122ms/step - loss: 0.0648 - acc: 0.9786 - val_loss: 0.3298 - val_acc: 0.9087\n",
      "Epoch 37/100\n",
      "176/176 [==============================] - 21s 122ms/step - loss: 0.0706 - acc: 0.9779 - val_loss: 0.2767 - val_acc: 0.9199\n",
      "Epoch 38/100\n",
      "176/176 [==============================] - 21s 121ms/step - loss: 0.0461 - acc: 0.9843 - val_loss: 0.2801 - val_acc: 0.9167\n",
      "Epoch 39/100\n",
      "176/176 [==============================] - 21s 118ms/step - loss: 0.0393 - acc: 0.9861 - val_loss: 0.2610 - val_acc: 0.9263\n",
      "Epoch 40/100\n",
      "176/176 [==============================] - 21s 118ms/step - loss: 0.0593 - acc: 0.9799 - val_loss: 0.3020 - val_acc: 0.9038\n",
      "Epoch 41/100\n",
      "176/176 [==============================] - 21s 119ms/step - loss: 0.0554 - acc: 0.9820 - val_loss: 0.2658 - val_acc: 0.9006\n",
      "Epoch 42/100\n",
      "176/176 [==============================] - 21s 122ms/step - loss: 0.0609 - acc: 0.9761 - val_loss: 0.2588 - val_acc: 0.9167\n",
      "Epoch 43/100\n",
      "176/176 [==============================] - 22s 122ms/step - loss: 0.0582 - acc: 0.9786 - val_loss: 0.2862 - val_acc: 0.9151\n",
      "Epoch 44/100\n",
      "176/176 [==============================] - 21s 122ms/step - loss: 0.0390 - acc: 0.9870 - val_loss: 0.2499 - val_acc: 0.9231\n",
      "Epoch 45/100\n",
      "176/176 [==============================] - 22s 123ms/step - loss: 0.0653 - acc: 0.9784 - val_loss: 0.1935 - val_acc: 0.9375\n",
      "Epoch 46/100\n",
      "176/176 [==============================] - 21s 122ms/step - loss: 0.0348 - acc: 0.9890 - val_loss: 0.2079 - val_acc: 0.9247\n",
      "Epoch 47/100\n",
      "176/176 [==============================] - 21s 121ms/step - loss: 0.0165 - acc: 0.9959 - val_loss: 0.2358 - val_acc: 0.9327\n",
      "Epoch 48/100\n",
      "176/176 [==============================] - 21s 122ms/step - loss: 0.0716 - acc: 0.9752 - val_loss: 0.3149 - val_acc: 0.9119\n",
      "Epoch 49/100\n",
      "176/176 [==============================] - 21s 122ms/step - loss: 0.0537 - acc: 0.9802 - val_loss: 0.2854 - val_acc: 0.9119\n",
      "Epoch 50/100\n",
      "176/176 [==============================] - 21s 122ms/step - loss: 0.0748 - acc: 0.9752 - val_loss: 0.2815 - val_acc: 0.9135\n",
      "Epoch 51/100\n",
      "176/176 [==============================] - 22s 122ms/step - loss: 0.0492 - acc: 0.9840 - val_loss: 0.2739 - val_acc: 0.9247\n",
      "Epoch 52/100\n",
      "176/176 [==============================] - 22s 122ms/step - loss: 0.0381 - acc: 0.9866 - val_loss: 0.2813 - val_acc: 0.9087\n",
      "Epoch 53/100\n",
      "176/176 [==============================] - 22s 123ms/step - loss: 0.0461 - acc: 0.9849 - val_loss: 0.2428 - val_acc: 0.9247\n",
      "Epoch 54/100\n",
      "176/176 [==============================] - 22s 122ms/step - loss: 0.0753 - acc: 0.9731 - val_loss: 0.2641 - val_acc: 0.9199\n",
      "Epoch 55/100\n",
      "176/176 [==============================] - 21s 122ms/step - loss: 0.0425 - acc: 0.9850 - val_loss: 0.3247 - val_acc: 0.9151\n",
      "Epoch 56/100\n",
      "176/176 [==============================] - 21s 122ms/step - loss: 0.0713 - acc: 0.9767 - val_loss: 0.2794 - val_acc: 0.9183\n",
      "Epoch 57/100\n",
      "176/176 [==============================] - 21s 120ms/step - loss: 0.0302 - acc: 0.9884 - val_loss: 0.3070 - val_acc: 0.9151\n",
      "Epoch 58/100\n",
      "176/176 [==============================] - 21s 121ms/step - loss: 0.0211 - acc: 0.9939 - val_loss: 0.3287 - val_acc: 0.9135\n",
      "Epoch 59/100\n",
      "176/176 [==============================] - 21s 122ms/step - loss: 0.0276 - acc: 0.9897 - val_loss: 0.3030 - val_acc: 0.9199\n",
      "Epoch 60/100\n",
      "176/176 [==============================] - 21s 122ms/step - loss: 0.0442 - acc: 0.9852 - val_loss: 0.2903 - val_acc: 0.9231\n",
      "Epoch 61/100\n",
      "176/176 [==============================] - 21s 120ms/step - loss: 0.0621 - acc: 0.9800 - val_loss: 0.2842 - val_acc: 0.9247\n",
      "Epoch 62/100\n",
      "176/176 [==============================] - 21s 120ms/step - loss: 0.0349 - acc: 0.9865 - val_loss: 0.3800 - val_acc: 0.9167\n",
      "Epoch 63/100\n",
      "176/176 [==============================] - 21s 122ms/step - loss: 0.0298 - acc: 0.9893 - val_loss: 0.2533 - val_acc: 0.9263\n",
      "Epoch 64/100\n",
      "176/176 [==============================] - 21s 121ms/step - loss: 0.0344 - acc: 0.9877 - val_loss: 0.3321 - val_acc: 0.9054\n",
      "Epoch 65/100\n",
      "176/176 [==============================] - 21s 122ms/step - loss: 0.0390 - acc: 0.9886 - val_loss: 0.2907 - val_acc: 0.9215\n"
     ]
    },
    {
     "data": {
      "text/plain": [
       "<tensorflow.python.keras.callbacks.History at 0x286a96c8748>"
      ]
     },
     "execution_count": 18,
     "metadata": {},
     "output_type": "execute_result"
    }
   ],
   "source": [
    "model.fit(X_train, y_train, epochs=100, early_stopping_rounds=20)"
   ]
  },
  {
   "cell_type": "markdown",
   "metadata": {},
   "source": [
    "# Evaluation"
   ]
  },
  {
   "cell_type": "code",
   "execution_count": 16,
   "metadata": {
    "ExecuteTime": {
     "end_time": "2021-04-19T12:45:18.298770Z",
     "start_time": "2021-04-19T12:45:17.092712Z"
    }
   },
   "outputs": [],
   "source": [
    "y_pred = model.predict(X_test)"
   ]
  },
  {
   "cell_type": "code",
   "execution_count": 17,
   "metadata": {
    "ExecuteTime": {
     "end_time": "2021-04-19T12:45:18.548714Z",
     "start_time": "2021-04-19T12:45:18.301750Z"
    },
    "scrolled": true
   },
   "outputs": [
    {
     "data": {
      "image/png": "[encoded data removed]",
      "text/plain": [
       "<Figure size 432x288 with 2 Axes>"
      ]
     },
     "metadata": {
      "needs_background": "light"
     },
     "output_type": "display_data"
    }
   ],
   "source": [
    "evaluation.plot_confusion_matrix(y_test, y_pred)"
   ]
  },
  {
   "cell_type": "code",
   "execution_count": 18,
   "metadata": {
    "ExecuteTime": {
     "end_time": "2021-04-19T12:45:18.563729Z",
     "start_time": "2021-04-19T12:45:18.551750Z"
    }
   },
   "outputs": [
    {
     "name": "stdout",
     "output_type": "stream",
     "text": [
      "Classification report:\n",
      "               precision    recall  f1-score   support\n",
      "\n",
      "       False       0.93      0.93      0.93       327\n",
      "        True       0.94      0.94      0.94       367\n",
      "\n",
      "    accuracy                           0.93       694\n",
      "   macro avg       0.93      0.93      0.93       694\n",
      "weighted avg       0.93      0.93      0.93       694\n",
      "\n"
     ]
    }
   ],
   "source": [
    "evaluation.print_classification_report(y_test, y_pred)"
   ]
  },
  {
   "cell_type": "code",
   "execution_count": 19,
   "metadata": {
    "ExecuteTime": {
     "end_time": "2021-04-19T12:45:18.594717Z",
     "start_time": "2021-04-19T12:45:18.567717Z"
    }
   },
   "outputs": [
    {
     "data": {
      "text/plain": [
       "0.9373297002724795"
      ]
     },
     "execution_count": 19,
     "metadata": {},
     "output_type": "execute_result"
    }
   ],
   "source": [
    "evaluation.get_f1_score(y_test, y_pred, average='binary')"
   ]
  },
  {
   "cell_type": "code",
   "execution_count": null,
   "metadata": {},
   "outputs": [],
   "source": []
  }
 ],
 "metadata": {
  "kernelspec": {
   "display_name": "Python 3",
   "language": "python",
   "name": "python3"
  },
  "language_info": {
   "codemirror_mode": {
    "name": "ipython",
    "version": 3
   },
   "file_extension": ".py",
   "mimetype": "text/x-python",
   "name": "python",
   "nbconvert_exporter": "python",
   "pygments_lexer": "ipython3",
   "version": "3.7.5"
  },
  "toc": {
   "base_numbering": 1,
   "nav_menu": {},
   "number_sections": true,
   "sideBar": true,
   "skip_h1_title": false,
   "title_cell": "Table of Contents",
   "title_sidebar": "Contents",
   "toc_cell": true,
   "toc_position": {},
   "toc_section_display": true,
   "toc_window_display": true
  }
 },
 "nbformat": 4,
 "nbformat_minor": 2
}
