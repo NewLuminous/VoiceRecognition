{
 "cells": [
  {
   "cell_type": "markdown",
   "metadata": {
    "toc": true
   },
   "source": [
    "<h1>Table of Contents<span class=\"tocSkip\"></span></h1>\n",
    "<div class=\"toc\"><ul class=\"toc-item\"><li><span><a href=\"#Load-libraries\" data-toc-modified-id=\"Load-libraries-1\"><span class=\"toc-item-num\">1&nbsp;&nbsp;</span>Load libraries</a></span></li><li><span><a href=\"#Prepare-the-dataset\" data-toc-modified-id=\"Prepare-the-dataset-2\"><span class=\"toc-item-num\">2&nbsp;&nbsp;</span>Prepare the dataset</a></span></li></ul></div>"
   ]
  },
  {
   "cell_type": "markdown",
   "metadata": {},
   "source": [
    "# Load libraries"
   ]
  },
  {
   "cell_type": "code",
   "execution_count": 26,
   "metadata": {
    "ExecuteTime": {
     "end_time": "2021-04-18T04:13:58.383601Z",
     "start_time": "2021-04-18T04:13:58.344602Z"
    }
   },
   "outputs": [],
   "source": [
    "import librosa\n",
    "import librosa.display\n",
    "import IPython.display as ipd\n",
    "import matplotlib.pyplot as plt\n",
    "import numpy as np\n",
    "import pandas as pd"
   ]
  },
  {
   "cell_type": "markdown",
   "metadata": {},
   "source": [
    "# Prepare the dataset"
   ]
  },
  {
   "cell_type": "code",
   "execution_count": 27,
   "metadata": {
    "ExecuteTime": {
     "end_time": "2021-04-18T04:14:00.899603Z",
     "start_time": "2021-04-18T04:14:00.785601Z"
    }
   },
   "outputs": [],
   "source": [
    "import pickle\n",
    "\n",
    "data_dir = \"./data/\"\n",
    "with open(data_dir + \"speaker_audio_segments_dict.pkl\", 'rb') as f:\n",
    "    student_audio_segments_dict = pickle.load(f)"
   ]
  },
  {
   "cell_type": "code",
   "execution_count": 32,
   "metadata": {
    "ExecuteTime": {
     "end_time": "2021-04-18T05:08:44.375236Z",
     "start_time": "2021-04-18T05:08:43.958238Z"
    },
    "scrolled": true
   },
   "outputs": [
    {
     "data": {
      "text/plain": [
       "<matplotlib.colorbar.Colorbar at 0x1e13342e508>"
      ]
     },
     "execution_count": 32,
     "metadata": {},
     "output_type": "execute_result"
    },
    {
     "data": {
      "image/png": "[encoded data removed]",
      "text/plain": [
       "<Figure size 432x288 with 2 Axes>"
      ]
     },
     "metadata": {
      "needs_background": "light"
     },
     "output_type": "display_data"
    }
   ],
   "source": [
    "FRAME_SIZE = 512\n",
    "HOP_LENGTH = 256\n",
    "\n",
    "def extract_mfcc(sample):\n",
    "    MFCCs = librosa.feature.mfcc(sample, n_fft=FRAME_SIZE, hop_length=HOP_LENGTH, n_mfcc=13)\n",
    "    return MFCCs.T\n",
    "\n",
    "sample = np.load(data_dir + \"waveform/18020050_NguyenMinhTan/07/0.npy\")\n",
    "mfccs = extract_mfcc(sample)\n",
    "librosa.display.specshow(mfccs.T, sr=DEFAULT_SAMPLING_RATE, hop_length=HOP_LENGTH)\n",
    "plt.xlabel(\"Time\")\n",
    "plt.ylabel(\"Frequency\")\n",
    "plt.colorbar()"
   ]
  },
  {
   "cell_type": "code",
   "execution_count": 28,
   "metadata": {
    "ExecuteTime": {
     "end_time": "2021-04-18T04:14:26.341312Z",
     "start_time": "2021-04-18T04:14:26.209311Z"
    },
    "scrolled": true
   },
   "outputs": [
    {
     "data": {
      "text/html": [
       "<div>\n",
       "<style scoped>\n",
       "    .dataframe tbody tr th:only-of-type {\n",
       "        vertical-align: middle;\n",
       "    }\n",
       "\n",
       "    .dataframe tbody tr th {\n",
       "        vertical-align: top;\n",
       "    }\n",
       "\n",
       "    .dataframe thead th {\n",
       "        text-align: right;\n",
       "    }\n",
       "</style>\n",
       "<table border=\"1\" class=\"dataframe\">\n",
       "  <thead>\n",
       "    <tr style=\"text-align: right;\">\n",
       "      <th></th>\n",
       "      <th>student_I_id</th>\n",
       "      <th>article_I_id</th>\n",
       "      <th>sentence_I_id</th>\n",
       "      <th>student_II_id</th>\n",
       "      <th>article_II_id</th>\n",
       "      <th>sentence_II_id</th>\n",
       "    </tr>\n",
       "  </thead>\n",
       "  <tbody>\n",
       "    <tr>\n",
       "      <th>0</th>\n",
       "      <td>17021214_TranVanCuong</td>\n",
       "      <td>0</td>\n",
       "      <td>1</td>\n",
       "      <td>17021218_DoanDinhDung</td>\n",
       "      <td>0</td>\n",
       "      <td>1</td>\n",
       "    </tr>\n",
       "    <tr>\n",
       "      <th>1</th>\n",
       "      <td>17021214_TranVanCuong</td>\n",
       "      <td>0</td>\n",
       "      <td>2</td>\n",
       "      <td>17021219_HaAnhDung</td>\n",
       "      <td>0</td>\n",
       "      <td>2</td>\n",
       "    </tr>\n",
       "    <tr>\n",
       "      <th>2</th>\n",
       "      <td>17021214_TranVanCuong</td>\n",
       "      <td>0</td>\n",
       "      <td>3</td>\n",
       "      <td>17021220_HoangNgocDung</td>\n",
       "      <td>0</td>\n",
       "      <td>3</td>\n",
       "    </tr>\n",
       "    <tr>\n",
       "      <th>3</th>\n",
       "      <td>17021214_TranVanCuong</td>\n",
       "      <td>0</td>\n",
       "      <td>4</td>\n",
       "      <td>17021229_VuTrongDuong</td>\n",
       "      <td>0</td>\n",
       "      <td>4</td>\n",
       "    </tr>\n",
       "    <tr>\n",
       "      <th>4</th>\n",
       "      <td>17021214_TranVanCuong</td>\n",
       "      <td>0</td>\n",
       "      <td>5</td>\n",
       "      <td>17021242_PhamTuanHiep</td>\n",
       "      <td>0</td>\n",
       "      <td>5</td>\n",
       "    </tr>\n",
       "    <tr>\n",
       "      <th>...</th>\n",
       "      <td>...</td>\n",
       "      <td>...</td>\n",
       "      <td>...</td>\n",
       "      <td>...</td>\n",
       "      <td>...</td>\n",
       "      <td>...</td>\n",
       "    </tr>\n",
       "    <tr>\n",
       "      <th>6927</th>\n",
       "      <td>18021346_LocPhiTruong</td>\n",
       "      <td>1</td>\n",
       "      <td>24</td>\n",
       "      <td>18021346_LocPhiTruong</td>\n",
       "      <td>1</td>\n",
       "      <td>25</td>\n",
       "    </tr>\n",
       "    <tr>\n",
       "      <th>6928</th>\n",
       "      <td>18021346_LocPhiTruong</td>\n",
       "      <td>1</td>\n",
       "      <td>22</td>\n",
       "      <td>18021346_LocPhiTruong</td>\n",
       "      <td>1</td>\n",
       "      <td>23</td>\n",
       "    </tr>\n",
       "    <tr>\n",
       "      <th>6929</th>\n",
       "      <td>18021346_LocPhiTruong</td>\n",
       "      <td>1</td>\n",
       "      <td>20</td>\n",
       "      <td>18021346_LocPhiTruong</td>\n",
       "      <td>1</td>\n",
       "      <td>21</td>\n",
       "    </tr>\n",
       "    <tr>\n",
       "      <th>6930</th>\n",
       "      <td>18021346_LocPhiTruong</td>\n",
       "      <td>1</td>\n",
       "      <td>18</td>\n",
       "      <td>18021346_LocPhiTruong</td>\n",
       "      <td>1</td>\n",
       "      <td>19</td>\n",
       "    </tr>\n",
       "    <tr>\n",
       "      <th>6931</th>\n",
       "      <td>18021346_LocPhiTruong</td>\n",
       "      <td>1</td>\n",
       "      <td>16</td>\n",
       "      <td>18021346_LocPhiTruong</td>\n",
       "      <td>1</td>\n",
       "      <td>17</td>\n",
       "    </tr>\n",
       "  </tbody>\n",
       "</table>\n",
       "<p>6932 rows × 6 columns</p>\n",
       "</div>"
      ],
      "text/plain": [
       "               student_I_id  article_I_id  sentence_I_id  \\\n",
       "0     17021214_TranVanCuong             0              1   \n",
       "1     17021214_TranVanCuong             0              2   \n",
       "2     17021214_TranVanCuong             0              3   \n",
       "3     17021214_TranVanCuong             0              4   \n",
       "4     17021214_TranVanCuong             0              5   \n",
       "...                     ...           ...            ...   \n",
       "6927  18021346_LocPhiTruong             1             24   \n",
       "6928  18021346_LocPhiTruong             1             22   \n",
       "6929  18021346_LocPhiTruong             1             20   \n",
       "6930  18021346_LocPhiTruong             1             18   \n",
       "6931  18021346_LocPhiTruong             1             16   \n",
       "\n",
       "               student_II_id  article_II_id  sentence_II_id  \n",
       "0      17021218_DoanDinhDung              0               1  \n",
       "1         17021219_HaAnhDung              0               2  \n",
       "2     17021220_HoangNgocDung              0               3  \n",
       "3      17021229_VuTrongDuong              0               4  \n",
       "4      17021242_PhamTuanHiep              0               5  \n",
       "...                      ...            ...             ...  \n",
       "6927   18021346_LocPhiTruong              1              25  \n",
       "6928   18021346_LocPhiTruong              1              23  \n",
       "6929   18021346_LocPhiTruong              1              21  \n",
       "6930   18021346_LocPhiTruong              1              19  \n",
       "6931   18021346_LocPhiTruong              1              17  \n",
       "\n",
       "[6932 rows x 6 columns]"
      ]
     },
     "execution_count": 28,
     "metadata": {},
     "output_type": "execute_result"
    }
   ],
   "source": [
    "audio_pairs_df = pd.read_csv(data_dir + \"audio_sentence_pairs.csv\")\n",
    "audio_pairs_df"
   ]
  },
  {
   "cell_type": "code",
   "execution_count": 30,
   "metadata": {
    "ExecuteTime": {
     "end_time": "2021-04-18T05:07:01.273373Z",
     "start_time": "2021-04-18T05:07:01.252372Z"
    }
   },
   "outputs": [],
   "source": [
    "import _pickle as cPickle\n",
    "\n",
    "waveform_dir = data_dir + \"waveform/\"\n",
    "data_mfcc = {\n",
    "    \"sentence_I\": [],\n",
    "    \"sentence_II\": [],\n",
    "    \"same_speaker\": []\n",
    "}\n",
    "\n",
    "audio_pairs = audio_pairs_df.to_numpy()\n",
    "print('Progress: ', end='')\n",
    "for i in range(len(audio_pairs)):\n",
    "    row = audio_pairs[i]\n",
    "    student_I_id, article_I_id, sentence_I_id = row[0], row[1], row[2]\n",
    "    student_II_id, article_II_id, sentence_II_id = row[3], row[4], row[5]\n",
    "    audio_sentence_I = np.load(waveform_dir + student_I_id + \"/{:02d}/\".format(article_I_id + 1) + str(sentence_I_id) + \".npy\")\n",
    "    audio_sentence_II = np.load(waveform_dir + student_II_id + \"/{:02d}/\".format(article_II_id + 1) + str(sentence_II_id) + \".npy\")\n",
    "    \n",
    "    mfccs_I = extract_mfcc(audio_sentence_I)\n",
    "    mfccs_II = extract_mfcc(audio_sentence_II)\n",
    "    data_mfcc['sentence_I'].append(mfccs_I)\n",
    "    data_mfcc['sentence_II'].append(mfccs_II)\n",
    "    data_mfcc['same_speaker'].append(student_I_id == student_II_id)\n",
    "    print('|', end='')\n",
    "    \n",
    "cPickle.dump(data_mfcc, open(data_dir + \"data_mfcc.pkl\", 'wb'), protocol=2)"
   ]
  },
  {
   "cell_type": "code",
   "execution_count": null,
   "metadata": {},
   "outputs": [],
   "source": []
  }
 ],
 "metadata": {
  "kernelspec": {
   "display_name": "Python 3",
   "language": "python",
   "name": "python3"
  },
  "language_info": {
   "codemirror_mode": {
    "name": "ipython",
    "version": 3
   },
   "file_extension": ".py",
   "mimetype": "text/x-python",
   "name": "python",
   "nbconvert_exporter": "python",
   "pygments_lexer": "ipython3",
   "version": "3.7.5"
  },
  "toc": {
   "base_numbering": 1,
   "nav_menu": {},
   "number_sections": true,
   "sideBar": true,
   "skip_h1_title": false,
   "title_cell": "Table of Contents",
   "title_sidebar": "Contents",
   "toc_cell": true,
   "toc_position": {
    "height": "calc(100% - 180px)",
    "left": "10px",
    "top": "150px",
    "width": "307.038px"
   },
   "toc_section_display": true,
   "toc_window_display": true
  }
 },
 "nbformat": 4,
 "nbformat_minor": 2
}
