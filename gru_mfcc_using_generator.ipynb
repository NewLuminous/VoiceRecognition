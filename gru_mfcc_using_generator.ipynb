{
 "cells": [
  {
   "cell_type": "markdown",
   "metadata": {
    "toc": true
   },
   "source": [
    "<h1>Table of Contents<span class=\"tocSkip\"></span></h1>\n",
    "<div class=\"toc\"><ul class=\"toc-item\"><li><span><a href=\"#Load-libraries\" data-toc-modified-id=\"Load-libraries-1\"><span class=\"toc-item-num\">1&nbsp;&nbsp;</span>Load libraries</a></span></li><li><span><a href=\"#Load-data\" data-toc-modified-id=\"Load-data-2\"><span class=\"toc-item-num\">2&nbsp;&nbsp;</span>Load data</a></span></li><li><span><a href=\"#Create-a-data-generator\" data-toc-modified-id=\"Create-a-data-generator-3\"><span class=\"toc-item-num\">3&nbsp;&nbsp;</span>Create a data generator</a></span></li><li><span><a href=\"#Train-model\" data-toc-modified-id=\"Train-model-4\"><span class=\"toc-item-num\">4&nbsp;&nbsp;</span>Train model</a></span></li><li><span><a href=\"#Evaluation\" data-toc-modified-id=\"Evaluation-5\"><span class=\"toc-item-num\">5&nbsp;&nbsp;</span>Evaluation</a></span></li></ul></div>"
   ]
  },
  {
   "cell_type": "markdown",
   "metadata": {
    "ExecuteTime": {
     "end_time": "2021-04-18T06:10:15.387785Z",
     "start_time": "2021-04-18T06:10:15.380784Z"
    }
   },
   "source": [
    "# Load libraries"
   ]
  },
  {
   "cell_type": "code",
   "execution_count": 1,
   "metadata": {
    "ExecuteTime": {
     "end_time": "2021-04-24T07:04:31.554409Z",
     "start_time": "2021-04-24T07:04:29.657413Z"
    }
   },
   "outputs": [],
   "source": [
    "import numpy as np\n",
    "import matplotlib.pyplot as plt\n",
    "import evaluation\n",
    "import pandas as pd\n",
    "import _pickle as cPickle"
   ]
  },
  {
   "cell_type": "markdown",
   "metadata": {},
   "source": [
    "# Load data"
   ]
  },
  {
   "cell_type": "code",
   "execution_count": 2,
   "metadata": {
    "ExecuteTime": {
     "end_time": "2021-04-24T07:04:31.569412Z",
     "start_time": "2021-04-24T07:04:31.556411Z"
    }
   },
   "outputs": [],
   "source": [
    "data_dir = \"./data/\"  + \"dataset/\"\n",
    "\n",
    "MFCC_LEN_LIM = 700\n",
    "N_MFCC = 13"
   ]
  },
  {
   "cell_type": "code",
   "execution_count": 3,
   "metadata": {
    "ExecuteTime": {
     "end_time": "2021-04-24T07:04:51.754600Z",
     "start_time": "2021-04-24T07:04:31.573410Z"
    }
   },
   "outputs": [],
   "source": [
    "import _pickle as cPickle\n",
    "\n",
    "with open(data_dir + \"data_mfcc_for_generator.pkl\", 'rb') as f:\n",
    "    data_mfcc = cPickle.load(f)"
   ]
  },
  {
   "cell_type": "code",
   "execution_count": 4,
   "metadata": {
    "ExecuteTime": {
     "end_time": "2021-04-24T07:04:52.766600Z",
     "start_time": "2021-04-24T07:04:51.768600Z"
    },
    "scrolled": true
   },
   "outputs": [
    {
     "data": {
      "text/html": [
       "<div>\n",
       "<style scoped>\n",
       "    .dataframe tbody tr th:only-of-type {\n",
       "        vertical-align: middle;\n",
       "    }\n",
       "\n",
       "    .dataframe tbody tr th {\n",
       "        vertical-align: top;\n",
       "    }\n",
       "\n",
       "    .dataframe thead th {\n",
       "        text-align: right;\n",
       "    }\n",
       "</style>\n",
       "<table border=\"1\" class=\"dataframe\">\n",
       "  <thead>\n",
       "    <tr style=\"text-align: right;\">\n",
       "      <th></th>\n",
       "      <th>student_I_id</th>\n",
       "      <th>article_I_id</th>\n",
       "      <th>sentence_I_id</th>\n",
       "      <th>student_II_id</th>\n",
       "      <th>article_II_id</th>\n",
       "      <th>sentence_II_id</th>\n",
       "    </tr>\n",
       "  </thead>\n",
       "  <tbody>\n",
       "    <tr>\n",
       "      <th>0</th>\n",
       "      <td>18021206_HoVanThep</td>\n",
       "      <td>9</td>\n",
       "      <td>15</td>\n",
       "      <td>18021206_HoVanThep</td>\n",
       "      <td>6</td>\n",
       "      <td>11</td>\n",
       "    </tr>\n",
       "    <tr>\n",
       "      <th>1</th>\n",
       "      <td>18021174_TranTrungThanh</td>\n",
       "      <td>4</td>\n",
       "      <td>13</td>\n",
       "      <td>17021242_PhamTuanHiep</td>\n",
       "      <td>4</td>\n",
       "      <td>13</td>\n",
       "    </tr>\n",
       "    <tr>\n",
       "      <th>2</th>\n",
       "      <td>18020370_NguyenManhDung</td>\n",
       "      <td>1</td>\n",
       "      <td>12</td>\n",
       "      <td>18020370_NguyenManhDung</td>\n",
       "      <td>1</td>\n",
       "      <td>33</td>\n",
       "    </tr>\n",
       "    <tr>\n",
       "      <th>3</th>\n",
       "      <td>18021027_LeThiPhuong</td>\n",
       "      <td>0</td>\n",
       "      <td>13</td>\n",
       "      <td>18021027_LeThiPhuong</td>\n",
       "      <td>2</td>\n",
       "      <td>6</td>\n",
       "    </tr>\n",
       "    <tr>\n",
       "      <th>4</th>\n",
       "      <td>17021340_ThieuMinhThinh</td>\n",
       "      <td>2</td>\n",
       "      <td>20</td>\n",
       "      <td>18020557_NguyenHuyHoang</td>\n",
       "      <td>2</td>\n",
       "      <td>20</td>\n",
       "    </tr>\n",
       "    <tr>\n",
       "      <th>...</th>\n",
       "      <td>...</td>\n",
       "      <td>...</td>\n",
       "      <td>...</td>\n",
       "      <td>...</td>\n",
       "      <td>...</td>\n",
       "      <td>...</td>\n",
       "    </tr>\n",
       "    <tr>\n",
       "      <th>999995</th>\n",
       "      <td>18020131_TranDucAnh</td>\n",
       "      <td>2</td>\n",
       "      <td>39</td>\n",
       "      <td>17021313_DinhCongPhan</td>\n",
       "      <td>2</td>\n",
       "      <td>39</td>\n",
       "    </tr>\n",
       "    <tr>\n",
       "      <th>999996</th>\n",
       "      <td>18020131_TranDucAnh</td>\n",
       "      <td>5</td>\n",
       "      <td>5</td>\n",
       "      <td>18020131_TranDucAnh</td>\n",
       "      <td>0</td>\n",
       "      <td>7</td>\n",
       "    </tr>\n",
       "    <tr>\n",
       "      <th>999997</th>\n",
       "      <td>18020370_NguyenManhDung</td>\n",
       "      <td>6</td>\n",
       "      <td>4</td>\n",
       "      <td>18020370_NguyenManhDung</td>\n",
       "      <td>7</td>\n",
       "      <td>29</td>\n",
       "    </tr>\n",
       "    <tr>\n",
       "      <th>999998</th>\n",
       "      <td>18020131_TranDucAnh</td>\n",
       "      <td>1</td>\n",
       "      <td>0</td>\n",
       "      <td>18020131_TranDucAnh</td>\n",
       "      <td>2</td>\n",
       "      <td>28</td>\n",
       "    </tr>\n",
       "    <tr>\n",
       "      <th>999999</th>\n",
       "      <td>18020792_NguyenPhiLong</td>\n",
       "      <td>8</td>\n",
       "      <td>3</td>\n",
       "      <td>18020792_NguyenPhiLong</td>\n",
       "      <td>1</td>\n",
       "      <td>2</td>\n",
       "    </tr>\n",
       "  </tbody>\n",
       "</table>\n",
       "<p>1000000 rows × 6 columns</p>\n",
       "</div>"
      ],
      "text/plain": [
       "                   student_I_id  article_I_id  sentence_I_id  \\\n",
       "0            18021206_HoVanThep             9             15   \n",
       "1       18021174_TranTrungThanh             4             13   \n",
       "2       18020370_NguyenManhDung             1             12   \n",
       "3          18021027_LeThiPhuong             0             13   \n",
       "4       17021340_ThieuMinhThinh             2             20   \n",
       "...                         ...           ...            ...   \n",
       "999995      18020131_TranDucAnh             2             39   \n",
       "999996      18020131_TranDucAnh             5              5   \n",
       "999997  18020370_NguyenManhDung             6              4   \n",
       "999998      18020131_TranDucAnh             1              0   \n",
       "999999   18020792_NguyenPhiLong             8              3   \n",
       "\n",
       "                  student_II_id  article_II_id  sentence_II_id  \n",
       "0            18021206_HoVanThep              6              11  \n",
       "1         17021242_PhamTuanHiep              4              13  \n",
       "2       18020370_NguyenManhDung              1              33  \n",
       "3          18021027_LeThiPhuong              2               6  \n",
       "4       18020557_NguyenHuyHoang              2              20  \n",
       "...                         ...            ...             ...  \n",
       "999995    17021313_DinhCongPhan              2              39  \n",
       "999996      18020131_TranDucAnh              0               7  \n",
       "999997  18020370_NguyenManhDung              7              29  \n",
       "999998      18020131_TranDucAnh              2              28  \n",
       "999999   18020792_NguyenPhiLong              1               2  \n",
       "\n",
       "[1000000 rows x 6 columns]"
      ]
     },
     "execution_count": 4,
     "metadata": {},
     "output_type": "execute_result"
    }
   ],
   "source": [
    "audio_pairs_df = pd.read_csv(\"./data/audio_sentence_pairs_full.csv\")\n",
    "audio_pairs_df"
   ]
  },
  {
   "cell_type": "code",
   "execution_count": 5,
   "metadata": {
    "ExecuteTime": {
     "end_time": "2021-04-24T07:04:52.875598Z",
     "start_time": "2021-04-24T07:04:52.784605Z"
    }
   },
   "outputs": [],
   "source": [
    "audio_pairs = audio_pairs_df.to_numpy()"
   ]
  },
  {
   "cell_type": "code",
   "execution_count": 6,
   "metadata": {
    "ExecuteTime": {
     "end_time": "2021-04-24T07:04:52.922597Z",
     "start_time": "2021-04-24T07:04:52.884599Z"
    }
   },
   "outputs": [],
   "source": [
    "def load_data(folds):\n",
    "    X = []\n",
    "    y = []\n",
    "    for fold in folds:\n",
    "        with open(data_dir + f\"data_mfcc_{fold}.pkl\", 'rb') as f:\n",
    "            data_mfcc = cPickle.load(f)\n",
    "\n",
    "        for i in range(len(data_mfcc['sentence_I'])):\n",
    "            if data_mfcc['sentence_I'][i].shape[0] < MFCC_LEN_LIM:\n",
    "                sentence_I = np.zeros((MFCC_LEN_LIM, N_MFCC), dtype=np.float32)\n",
    "                sentence_I[-data_mfcc['sentence_I'][i].shape[0]:] = data_mfcc['sentence_I'][i]\n",
    "            else:\n",
    "                sentence_I = data_mfcc['sentence_I'][i]\n",
    "                \n",
    "            if data_mfcc['sentence_II'][i].shape[0] < MFCC_LEN_LIM:\n",
    "                sentence_II = np.zeros((MFCC_LEN_LIM, N_MFCC), dtype=np.float32)\n",
    "                sentence_II[-data_mfcc['sentence_II'][i].shape[0]:] = data_mfcc['sentence_II'][i]\n",
    "            else:\n",
    "                sentence_II = data_mfcc['sentence_II'][i]\n",
    "            X.append([sentence_I, sentence_II])\n",
    "            y.append(data_mfcc['same_speaker'][i])\n",
    "    return np.array(X), np.array(y)"
   ]
  },
  {
   "cell_type": "code",
   "execution_count": 7,
   "metadata": {
    "ExecuteTime": {
     "end_time": "2021-04-24T07:06:33.897176Z",
     "start_time": "2021-04-24T07:04:52.931598Z"
    }
   },
   "outputs": [
    {
     "data": {
      "text/plain": [
       "(10000, 2, 700, 13)"
      ]
     },
     "execution_count": 7,
     "metadata": {},
     "output_type": "execute_result"
    }
   ],
   "source": [
    "X_val, y_val = load_data([\"val\"])\n",
    "X_val.shape"
   ]
  },
  {
   "cell_type": "markdown",
   "metadata": {},
   "source": [
    "# Create a data generator"
   ]
  },
  {
   "cell_type": "code",
   "execution_count": 8,
   "metadata": {
    "ExecuteTime": {
     "end_time": "2021-04-24T07:06:38.967521Z",
     "start_time": "2021-04-24T07:06:33.949173Z"
    }
   },
   "outputs": [],
   "source": [
    "import numpy as np\n",
    "import tensorflow as tf\n",
    "import random"
   ]
  },
  {
   "cell_type": "code",
   "execution_count": 9,
   "metadata": {
    "ExecuteTime": {
     "end_time": "2021-04-24T07:06:39.011517Z",
     "start_time": "2021-04-24T07:06:38.975486Z"
    }
   },
   "outputs": [],
   "source": [
    "class DataGenerator(tf.keras.utils.Sequence):\n",
    "    def __init__(self, batch_size=32, shuffle=True):\n",
    "        self.batch_size = batch_size\n",
    "        self.shuffle = shuffle\n",
    "        \n",
    "    def __len__(self):\n",
    "        return int(np.floor(len(audio_pairs) / self.batch_size))\n",
    "    \n",
    "    def __getitem__(self, index):\n",
    "        pairs = audio_pairs[index*self.batch_size:(index+1)*self.batch_size]\n",
    "        X_1 = []\n",
    "        X_2 = []\n",
    "        y = []\n",
    "        for pair in pairs:\n",
    "            student_I_id, article_I_id, sentence_I_id = pair[0], pair[1], pair[2]\n",
    "            student_II_id, article_II_id, sentence_II_id = pair[3], pair[4], pair[5]\n",
    "            X_1.append(data_mfcc[student_I_id][article_I_id][sentence_I_id])\n",
    "            X_2.append(data_mfcc[student_II_id][article_II_id][sentence_II_id])\n",
    "            y.append(student_I_id == student_II_id)\n",
    "        return [np.array(X_1), np.array(X_2)], np.array(y)\n",
    "    \n",
    "    def on_epoch_end(self):\n",
    "        random.shuffle(audio_pairs)"
   ]
  },
  {
   "cell_type": "code",
   "execution_count": 10,
   "metadata": {
    "ExecuteTime": {
     "end_time": "2021-04-24T07:06:39.043530Z",
     "start_time": "2021-04-24T07:06:39.020483Z"
    }
   },
   "outputs": [],
   "source": [
    "# def data_generator(batch_size=32, shuffle=True):\n",
    "#     while True:\n",
    "#         if shuffle:\n",
    "#             random.shuffle(audio_pairs)\n",
    "            \n",
    "#         for index in range(int(np.floor(len(audio_pairs) / batch_size))):\n",
    "#             pairs = audio_pairs[index*batch_size:(index+1)*batch_size]\n",
    "#             X_1 = []\n",
    "#             X_2 = []\n",
    "#             y = []\n",
    "#             for pair in pairs:\n",
    "#                 student_I_id, article_I_id, sentence_I_id = pair[0], pair[1], pair[2]\n",
    "#                 student_II_id, article_II_id, sentence_II_id = pair[3], pair[4], pair[5]\n",
    "#                 X_1.append(data_mfcc[student_I_id][article_I_id][sentence_I_id])\n",
    "#                 X_2.append(data_mfcc[student_II_id][article_II_id][sentence_II_id])\n",
    "#                 y.append(student_I_id == student_II_id)\n",
    "#             yield [np.array(X_1), np.array(X_2)], np.array(y)"
   ]
  },
  {
   "cell_type": "markdown",
   "metadata": {},
   "source": [
    "# Train model"
   ]
  },
  {
   "cell_type": "code",
   "execution_count": 11,
   "metadata": {
    "ExecuteTime": {
     "end_time": "2021-04-24T07:06:39.105619Z",
     "start_time": "2021-04-24T07:06:39.054531Z"
    }
   },
   "outputs": [],
   "source": [
    "import os\n",
    "import tensorflow as tf\n",
    "from sklearn.model_selection import train_test_split\n",
    "from tensorflow.keras.models import Model\n",
    "from tensorflow.keras.layers import Input, GRU, Dense, Dropout, concatenate\n",
    "from tensorflow.keras.optimizers import Adam\n",
    "from tensorflow.keras.regularizers import l1, l2\n",
    "from tensorflow.keras.callbacks import ModelCheckpoint, EarlyStopping\n",
    "\n",
    "class GRU_GRU:\n",
    "    def __init__(self, num_features, encoder_shape=64, learning_rate=0.001):\n",
    "        self.num_features = num_features\n",
    "        self.encoder_shape = encoder_shape\n",
    "        self.learning_rate = learning_rate\n",
    "        \n",
    "        self.classifier = self.build_classifier()\n",
    "    \n",
    "    def build_classifier(self):\n",
    "        input_1 = Input(shape = (None, self.num_features))\n",
    "        input_2 = Input(shape = (None, self.num_features))\n",
    "        \n",
    "        encoder_1 = GRU(self.encoder_shape, return_sequences=True)(input_1)\n",
    "        encoder_11 = GRU(self.encoder_shape)(encoder_1)\n",
    "            \n",
    "        encoder_2 = GRU(self.encoder_shape, return_sequences=True)(input_2)\n",
    "        encoder_22 = GRU(self.encoder_shape)(encoder_2)\n",
    "            \n",
    "        merge = concatenate([encoder_11, encoder_22], axis = 1)\n",
    "        \n",
    "        dense_1 = Dense(64, activation = \"relu\", kernel_initializer='glorot_uniform')(merge)\n",
    "        dropout_1 = Dropout(0.3)(dense_1)\n",
    "        dense_2 = Dense(1, activation =\"sigmoid\", kernel_initializer='glorot_uniform')(dropout_1)\n",
    "\n",
    "        model = Model(inputs = [input_1, input_2], outputs = dense_2)\n",
    "        model.compile(optimizer = Adam(self.learning_rate), loss = \"binary_crossentropy\", metrics = [\"acc\"])\n",
    "\n",
    "        model.summary()\n",
    "        return model\n",
    "    \n",
    "    def save_weights(self):\n",
    "        self.classifier.save_weights('saved_model/gru_gru_weights.h5')\n",
    "        \n",
    "    def load_weights(self):\n",
    "        self.classifier.load_weights('saved_model/gru_gru_weights.h5')\n",
    "            \n",
    "    def fit(self, generator, epochs=50, early_stopping_rounds=7, X_val=None, y_val=None):\n",
    "        model_dir = './checkpoints/'\n",
    "        callbacks = [\n",
    "            tf.keras.callbacks.EarlyStopping(patience=early_stopping_rounds,\n",
    "                                             monitor='val_acc',\n",
    "                                             restore_best_weights=True),\n",
    "            tf.keras.callbacks.ModelCheckpoint(filepath = os.path.join(model_dir, \"weights-epoch{epoch:02d}-loss{val_loss:.2f}-acc{val_acc:.2f}.h5\"),\n",
    "                                              save_weights_only=True,\n",
    "                                              monitor='val_acc',\n",
    "                                              mode='max',\n",
    "                                              save_best_only=True)\n",
    "            ]\n",
    "        \n",
    "        history = self.classifier.fit(generator,\n",
    "                                      epochs=epochs,\n",
    "                                      verbose=1,\n",
    "                                      callbacks=callbacks,\n",
    "                                      validation_data=([X_val[:,0], X_val[:,1]], y_val),\n",
    "                                      use_multiprocessing=False,\n",
    "                                      workers=6\n",
    "                                     )\n",
    "        return history\n",
    "    \n",
    "    def predict(self, X):\n",
    "        return self.predict_proba(X) >= 0.5\n",
    "    \n",
    "    def predict_proba(self, X):\n",
    "        y = self.classifier.predict([X[:,0], X[:,1]])\n",
    "        return y"
   ]
  },
  {
   "cell_type": "code",
   "execution_count": 12,
   "metadata": {
    "ExecuteTime": {
     "end_time": "2021-04-24T07:06:44.835547Z",
     "start_time": "2021-04-24T07:06:39.116481Z"
    }
   },
   "outputs": [
    {
     "name": "stdout",
     "output_type": "stream",
     "text": [
      "Model: \"functional_1\"\n",
      "__________________________________________________________________________________________________\n",
      "Layer (type)                    Output Shape         Param #     Connected to                     \n",
      "==================================================================================================\n",
      "input_1 (InputLayer)            [(None, None, 13)]   0                                            \n",
      "__________________________________________________________________________________________________\n",
      "input_2 (InputLayer)            [(None, None, 13)]   0                                            \n",
      "__________________________________________________________________________________________________\n",
      "gru (GRU)                       (None, None, 64)     15168       input_1[0][0]                    \n",
      "__________________________________________________________________________________________________\n",
      "gru_2 (GRU)                     (None, None, 64)     15168       input_2[0][0]                    \n",
      "__________________________________________________________________________________________________\n",
      "gru_1 (GRU)                     (None, 64)           24960       gru[0][0]                        \n",
      "__________________________________________________________________________________________________\n",
      "gru_3 (GRU)                     (None, 64)           24960       gru_2[0][0]                      \n",
      "__________________________________________________________________________________________________\n",
      "concatenate (Concatenate)       (None, 128)          0           gru_1[0][0]                      \n",
      "                                                                 gru_3[0][0]                      \n",
      "__________________________________________________________________________________________________\n",
      "dense (Dense)                   (None, 64)           8256        concatenate[0][0]                \n",
      "__________________________________________________________________________________________________\n",
      "dropout (Dropout)               (None, 64)           0           dense[0][0]                      \n",
      "__________________________________________________________________________________________________\n",
      "dense_1 (Dense)                 (None, 1)            65          dropout[0][0]                    \n",
      "==================================================================================================\n",
      "Total params: 88,577\n",
      "Trainable params: 88,577\n",
      "Non-trainable params: 0\n",
      "__________________________________________________________________________________________________\n"
     ]
    }
   ],
   "source": [
    "model = GRU_GRU(num_features=N_MFCC)"
   ]
  },
  {
   "cell_type": "code",
   "execution_count": 13,
   "metadata": {
    "ExecuteTime": {
     "end_time": "2021-04-24T10:56:22.008140Z",
     "start_time": "2021-04-24T07:06:44.885542Z"
    },
    "scrolled": true
   },
   "outputs": [
    {
     "name": "stdout",
     "output_type": "stream",
     "text": [
      "Epoch 1/50\n",
      "31250/31250 [==============================] - 2901s 93ms/step - loss: 0.2195 - acc: 0.9128 - val_loss: 0.9096 - val_acc: 0.7963\n",
      "Epoch 2/50\n",
      "31250/31250 [==============================] - 3058s 98ms/step - loss: 0.0822 - acc: 0.9732 - val_loss: 1.1213 - val_acc: 0.8279\n",
      "Epoch 3/50\n",
      "31250/31250 [==============================] - 4203s 134ms/step - loss: 0.0432 - acc: 0.9864 - val_loss: 1.3164 - val_acc: 0.8226\n",
      "Epoch 4/50\n",
      "31250/31250 [==============================] - 3434s 110ms/step - loss: 0.0244 - acc: 0.9926 - val_loss: 1.4709 - val_acc: 0.8058 - loss: 0. - ETA: 23s - loss: 0.0244 - acc - ETA: 23s - loss: 0.0244 - acc: 0.99 - ETA: 23s - lo - ETA: 21 - ETA: 20 - ETA: 16s - loss: 0.0244 - acc: 0. - ETA: 16s  - ETA: 14 - ETA: 3s - lo - ETA: 0s - loss: 0.0244 - acc: \n",
      "Epoch 5/50\n",
      " 1116/31250 [>.............................] - ETA: 1:11:39 - loss: 0.0100 - acc: 0.9973"
     ]
    },
    {
     "ename": "KeyboardInterrupt",
     "evalue": "",
     "output_type": "error",
     "traceback": [
      "\u001b[1;31m---------------------------------------------------------------------------\u001b[0m",
      "\u001b[1;31mKeyboardInterrupt\u001b[0m                         Traceback (most recent call last)",
      "\u001b[1;32m<ipython-input-13-4fda2cf8d53f>\u001b[0m in \u001b[0;36m<module>\u001b[1;34m\u001b[0m\n\u001b[0;32m      2\u001b[0m \u001b[1;31m#train_generator = tf.data.Dataset.from_generator(data_generator, (np.float32, np.int32))\u001b[0m\u001b[1;33m\u001b[0m\u001b[1;33m\u001b[0m\u001b[1;33m\u001b[0m\u001b[0m\n\u001b[0;32m      3\u001b[0m \u001b[1;33m\u001b[0m\u001b[0m\n\u001b[1;32m----> 4\u001b[1;33m \u001b[0mmodel\u001b[0m\u001b[1;33m.\u001b[0m\u001b[0mfit\u001b[0m\u001b[1;33m(\u001b[0m\u001b[0mtrain_generator\u001b[0m\u001b[1;33m,\u001b[0m \u001b[0mepochs\u001b[0m\u001b[1;33m=\u001b[0m\u001b[1;36m50\u001b[0m\u001b[1;33m,\u001b[0m \u001b[0mearly_stopping_rounds\u001b[0m\u001b[1;33m=\u001b[0m\u001b[1;36m7\u001b[0m\u001b[1;33m,\u001b[0m \u001b[0mX_val\u001b[0m\u001b[1;33m=\u001b[0m\u001b[0mX_val\u001b[0m\u001b[1;33m,\u001b[0m \u001b[0my_val\u001b[0m\u001b[1;33m=\u001b[0m\u001b[0my_val\u001b[0m\u001b[1;33m)\u001b[0m\u001b[1;33m\u001b[0m\u001b[1;33m\u001b[0m\u001b[0m\n\u001b[0m",
      "\u001b[1;32m<ipython-input-11-f2e92fb2b206>\u001b[0m in \u001b[0;36mfit\u001b[1;34m(self, generator, epochs, early_stopping_rounds, X_val, y_val)\u001b[0m\n\u001b[0;32m     63\u001b[0m                                       \u001b[0mvalidation_data\u001b[0m\u001b[1;33m=\u001b[0m\u001b[1;33m(\u001b[0m\u001b[1;33m[\u001b[0m\u001b[0mX_val\u001b[0m\u001b[1;33m[\u001b[0m\u001b[1;33m:\u001b[0m\u001b[1;33m,\u001b[0m\u001b[1;36m0\u001b[0m\u001b[1;33m]\u001b[0m\u001b[1;33m,\u001b[0m \u001b[0mX_val\u001b[0m\u001b[1;33m[\u001b[0m\u001b[1;33m:\u001b[0m\u001b[1;33m,\u001b[0m\u001b[1;36m1\u001b[0m\u001b[1;33m]\u001b[0m\u001b[1;33m]\u001b[0m\u001b[1;33m,\u001b[0m \u001b[0my_val\u001b[0m\u001b[1;33m)\u001b[0m\u001b[1;33m,\u001b[0m\u001b[1;33m\u001b[0m\u001b[1;33m\u001b[0m\u001b[0m\n\u001b[0;32m     64\u001b[0m                                       \u001b[0muse_multiprocessing\u001b[0m\u001b[1;33m=\u001b[0m\u001b[1;32mFalse\u001b[0m\u001b[1;33m,\u001b[0m\u001b[1;33m\u001b[0m\u001b[1;33m\u001b[0m\u001b[0m\n\u001b[1;32m---> 65\u001b[1;33m                                       \u001b[0mworkers\u001b[0m\u001b[1;33m=\u001b[0m\u001b[1;36m6\u001b[0m\u001b[1;33m\u001b[0m\u001b[1;33m\u001b[0m\u001b[0m\n\u001b[0m\u001b[0;32m     66\u001b[0m                                      )\n\u001b[0;32m     67\u001b[0m         \u001b[1;32mreturn\u001b[0m \u001b[0mhistory\u001b[0m\u001b[1;33m\u001b[0m\u001b[1;33m\u001b[0m\u001b[0m\n",
      "\u001b[1;32m~\\AppData\\Roaming\\Python\\Python37\\site-packages\\tensorflow\\python\\keras\\engine\\training.py\u001b[0m in \u001b[0;36m_method_wrapper\u001b[1;34m(self, *args, **kwargs)\u001b[0m\n\u001b[0;32m    106\u001b[0m   \u001b[1;32mdef\u001b[0m \u001b[0m_method_wrapper\u001b[0m\u001b[1;33m(\u001b[0m\u001b[0mself\u001b[0m\u001b[1;33m,\u001b[0m \u001b[1;33m*\u001b[0m\u001b[0margs\u001b[0m\u001b[1;33m,\u001b[0m \u001b[1;33m**\u001b[0m\u001b[0mkwargs\u001b[0m\u001b[1;33m)\u001b[0m\u001b[1;33m:\u001b[0m\u001b[1;33m\u001b[0m\u001b[1;33m\u001b[0m\u001b[0m\n\u001b[0;32m    107\u001b[0m     \u001b[1;32mif\u001b[0m \u001b[1;32mnot\u001b[0m \u001b[0mself\u001b[0m\u001b[1;33m.\u001b[0m\u001b[0m_in_multi_worker_mode\u001b[0m\u001b[1;33m(\u001b[0m\u001b[1;33m)\u001b[0m\u001b[1;33m:\u001b[0m  \u001b[1;31m# pylint: disable=protected-access\u001b[0m\u001b[1;33m\u001b[0m\u001b[1;33m\u001b[0m\u001b[0m\n\u001b[1;32m--> 108\u001b[1;33m       \u001b[1;32mreturn\u001b[0m \u001b[0mmethod\u001b[0m\u001b[1;33m(\u001b[0m\u001b[0mself\u001b[0m\u001b[1;33m,\u001b[0m \u001b[1;33m*\u001b[0m\u001b[0margs\u001b[0m\u001b[1;33m,\u001b[0m \u001b[1;33m**\u001b[0m\u001b[0mkwargs\u001b[0m\u001b[1;33m)\u001b[0m\u001b[1;33m\u001b[0m\u001b[1;33m\u001b[0m\u001b[0m\n\u001b[0m\u001b[0;32m    109\u001b[0m \u001b[1;33m\u001b[0m\u001b[0m\n\u001b[0;32m    110\u001b[0m     \u001b[1;31m# Running inside `run_distribute_coordinator` already.\u001b[0m\u001b[1;33m\u001b[0m\u001b[1;33m\u001b[0m\u001b[1;33m\u001b[0m\u001b[0m\n",
      "\u001b[1;32m~\\AppData\\Roaming\\Python\\Python37\\site-packages\\tensorflow\\python\\keras\\engine\\training.py\u001b[0m in \u001b[0;36mfit\u001b[1;34m(self, x, y, batch_size, epochs, verbose, callbacks, validation_split, validation_data, shuffle, class_weight, sample_weight, initial_epoch, steps_per_epoch, validation_steps, validation_batch_size, validation_freq, max_queue_size, workers, use_multiprocessing)\u001b[0m\n\u001b[0;32m   1096\u001b[0m                 batch_size=batch_size):\n\u001b[0;32m   1097\u001b[0m               \u001b[0mcallbacks\u001b[0m\u001b[1;33m.\u001b[0m\u001b[0mon_train_batch_begin\u001b[0m\u001b[1;33m(\u001b[0m\u001b[0mstep\u001b[0m\u001b[1;33m)\u001b[0m\u001b[1;33m\u001b[0m\u001b[1;33m\u001b[0m\u001b[0m\n\u001b[1;32m-> 1098\u001b[1;33m               \u001b[0mtmp_logs\u001b[0m \u001b[1;33m=\u001b[0m \u001b[0mtrain_function\u001b[0m\u001b[1;33m(\u001b[0m\u001b[0miterator\u001b[0m\u001b[1;33m)\u001b[0m\u001b[1;33m\u001b[0m\u001b[1;33m\u001b[0m\u001b[0m\n\u001b[0m\u001b[0;32m   1099\u001b[0m               \u001b[1;32mif\u001b[0m \u001b[0mdata_handler\u001b[0m\u001b[1;33m.\u001b[0m\u001b[0mshould_sync\u001b[0m\u001b[1;33m:\u001b[0m\u001b[1;33m\u001b[0m\u001b[1;33m\u001b[0m\u001b[0m\n\u001b[0;32m   1100\u001b[0m                 \u001b[0mcontext\u001b[0m\u001b[1;33m.\u001b[0m\u001b[0masync_wait\u001b[0m\u001b[1;33m(\u001b[0m\u001b[1;33m)\u001b[0m\u001b[1;33m\u001b[0m\u001b[1;33m\u001b[0m\u001b[0m\n",
      "\u001b[1;32m~\\AppData\\Roaming\\Python\\Python37\\site-packages\\tensorflow\\python\\eager\\def_function.py\u001b[0m in \u001b[0;36m__call__\u001b[1;34m(self, *args, **kwds)\u001b[0m\n\u001b[0;32m    778\u001b[0m       \u001b[1;32melse\u001b[0m\u001b[1;33m:\u001b[0m\u001b[1;33m\u001b[0m\u001b[1;33m\u001b[0m\u001b[0m\n\u001b[0;32m    779\u001b[0m         \u001b[0mcompiler\u001b[0m \u001b[1;33m=\u001b[0m \u001b[1;34m\"nonXla\"\u001b[0m\u001b[1;33m\u001b[0m\u001b[1;33m\u001b[0m\u001b[0m\n\u001b[1;32m--> 780\u001b[1;33m         \u001b[0mresult\u001b[0m \u001b[1;33m=\u001b[0m \u001b[0mself\u001b[0m\u001b[1;33m.\u001b[0m\u001b[0m_call\u001b[0m\u001b[1;33m(\u001b[0m\u001b[1;33m*\u001b[0m\u001b[0margs\u001b[0m\u001b[1;33m,\u001b[0m \u001b[1;33m**\u001b[0m\u001b[0mkwds\u001b[0m\u001b[1;33m)\u001b[0m\u001b[1;33m\u001b[0m\u001b[1;33m\u001b[0m\u001b[0m\n\u001b[0m\u001b[0;32m    781\u001b[0m \u001b[1;33m\u001b[0m\u001b[0m\n\u001b[0;32m    782\u001b[0m       \u001b[0mnew_tracing_count\u001b[0m \u001b[1;33m=\u001b[0m \u001b[0mself\u001b[0m\u001b[1;33m.\u001b[0m\u001b[0m_get_tracing_count\u001b[0m\u001b[1;33m(\u001b[0m\u001b[1;33m)\u001b[0m\u001b[1;33m\u001b[0m\u001b[1;33m\u001b[0m\u001b[0m\n",
      "\u001b[1;32m~\\AppData\\Roaming\\Python\\Python37\\site-packages\\tensorflow\\python\\eager\\def_function.py\u001b[0m in \u001b[0;36m_call\u001b[1;34m(self, *args, **kwds)\u001b[0m\n\u001b[0;32m    805\u001b[0m       \u001b[1;31m# In this case we have created variables on the first call, so we run the\u001b[0m\u001b[1;33m\u001b[0m\u001b[1;33m\u001b[0m\u001b[1;33m\u001b[0m\u001b[0m\n\u001b[0;32m    806\u001b[0m       \u001b[1;31m# defunned version which is guaranteed to never create variables.\u001b[0m\u001b[1;33m\u001b[0m\u001b[1;33m\u001b[0m\u001b[1;33m\u001b[0m\u001b[0m\n\u001b[1;32m--> 807\u001b[1;33m       \u001b[1;32mreturn\u001b[0m \u001b[0mself\u001b[0m\u001b[1;33m.\u001b[0m\u001b[0m_stateless_fn\u001b[0m\u001b[1;33m(\u001b[0m\u001b[1;33m*\u001b[0m\u001b[0margs\u001b[0m\u001b[1;33m,\u001b[0m \u001b[1;33m**\u001b[0m\u001b[0mkwds\u001b[0m\u001b[1;33m)\u001b[0m  \u001b[1;31m# pylint: disable=not-callable\u001b[0m\u001b[1;33m\u001b[0m\u001b[1;33m\u001b[0m\u001b[0m\n\u001b[0m\u001b[0;32m    808\u001b[0m     \u001b[1;32melif\u001b[0m \u001b[0mself\u001b[0m\u001b[1;33m.\u001b[0m\u001b[0m_stateful_fn\u001b[0m \u001b[1;32mis\u001b[0m \u001b[1;32mnot\u001b[0m \u001b[1;32mNone\u001b[0m\u001b[1;33m:\u001b[0m\u001b[1;33m\u001b[0m\u001b[1;33m\u001b[0m\u001b[0m\n\u001b[0;32m    809\u001b[0m       \u001b[1;31m# Release the lock early so that multiple threads can perform the call\u001b[0m\u001b[1;33m\u001b[0m\u001b[1;33m\u001b[0m\u001b[1;33m\u001b[0m\u001b[0m\n",
      "\u001b[1;32m~\\AppData\\Roaming\\Python\\Python37\\site-packages\\tensorflow\\python\\eager\\function.py\u001b[0m in \u001b[0;36m__call__\u001b[1;34m(self, *args, **kwargs)\u001b[0m\n\u001b[0;32m   2827\u001b[0m     \u001b[1;32mwith\u001b[0m \u001b[0mself\u001b[0m\u001b[1;33m.\u001b[0m\u001b[0m_lock\u001b[0m\u001b[1;33m:\u001b[0m\u001b[1;33m\u001b[0m\u001b[1;33m\u001b[0m\u001b[0m\n\u001b[0;32m   2828\u001b[0m       \u001b[0mgraph_function\u001b[0m\u001b[1;33m,\u001b[0m \u001b[0margs\u001b[0m\u001b[1;33m,\u001b[0m \u001b[0mkwargs\u001b[0m \u001b[1;33m=\u001b[0m \u001b[0mself\u001b[0m\u001b[1;33m.\u001b[0m\u001b[0m_maybe_define_function\u001b[0m\u001b[1;33m(\u001b[0m\u001b[0margs\u001b[0m\u001b[1;33m,\u001b[0m \u001b[0mkwargs\u001b[0m\u001b[1;33m)\u001b[0m\u001b[1;33m\u001b[0m\u001b[1;33m\u001b[0m\u001b[0m\n\u001b[1;32m-> 2829\u001b[1;33m     \u001b[1;32mreturn\u001b[0m \u001b[0mgraph_function\u001b[0m\u001b[1;33m.\u001b[0m\u001b[0m_filtered_call\u001b[0m\u001b[1;33m(\u001b[0m\u001b[0margs\u001b[0m\u001b[1;33m,\u001b[0m \u001b[0mkwargs\u001b[0m\u001b[1;33m)\u001b[0m  \u001b[1;31m# pylint: disable=protected-access\u001b[0m\u001b[1;33m\u001b[0m\u001b[1;33m\u001b[0m\u001b[0m\n\u001b[0m\u001b[0;32m   2830\u001b[0m \u001b[1;33m\u001b[0m\u001b[0m\n\u001b[0;32m   2831\u001b[0m   \u001b[1;33m@\u001b[0m\u001b[0mproperty\u001b[0m\u001b[1;33m\u001b[0m\u001b[1;33m\u001b[0m\u001b[0m\n",
      "\u001b[1;32m~\\AppData\\Roaming\\Python\\Python37\\site-packages\\tensorflow\\python\\eager\\function.py\u001b[0m in \u001b[0;36m_filtered_call\u001b[1;34m(self, args, kwargs, cancellation_manager)\u001b[0m\n\u001b[0;32m   1846\u001b[0m                            resource_variable_ops.BaseResourceVariable))],\n\u001b[0;32m   1847\u001b[0m         \u001b[0mcaptured_inputs\u001b[0m\u001b[1;33m=\u001b[0m\u001b[0mself\u001b[0m\u001b[1;33m.\u001b[0m\u001b[0mcaptured_inputs\u001b[0m\u001b[1;33m,\u001b[0m\u001b[1;33m\u001b[0m\u001b[1;33m\u001b[0m\u001b[0m\n\u001b[1;32m-> 1848\u001b[1;33m         cancellation_manager=cancellation_manager)\n\u001b[0m\u001b[0;32m   1849\u001b[0m \u001b[1;33m\u001b[0m\u001b[0m\n\u001b[0;32m   1850\u001b[0m   \u001b[1;32mdef\u001b[0m \u001b[0m_call_flat\u001b[0m\u001b[1;33m(\u001b[0m\u001b[0mself\u001b[0m\u001b[1;33m,\u001b[0m \u001b[0margs\u001b[0m\u001b[1;33m,\u001b[0m \u001b[0mcaptured_inputs\u001b[0m\u001b[1;33m,\u001b[0m \u001b[0mcancellation_manager\u001b[0m\u001b[1;33m=\u001b[0m\u001b[1;32mNone\u001b[0m\u001b[1;33m)\u001b[0m\u001b[1;33m:\u001b[0m\u001b[1;33m\u001b[0m\u001b[1;33m\u001b[0m\u001b[0m\n",
      "\u001b[1;32m~\\AppData\\Roaming\\Python\\Python37\\site-packages\\tensorflow\\python\\eager\\function.py\u001b[0m in \u001b[0;36m_call_flat\u001b[1;34m(self, args, captured_inputs, cancellation_manager)\u001b[0m\n\u001b[0;32m   1922\u001b[0m       \u001b[1;31m# No tape is watching; skip to running the function.\u001b[0m\u001b[1;33m\u001b[0m\u001b[1;33m\u001b[0m\u001b[1;33m\u001b[0m\u001b[0m\n\u001b[0;32m   1923\u001b[0m       return self._build_call_outputs(self._inference_function.call(\n\u001b[1;32m-> 1924\u001b[1;33m           ctx, args, cancellation_manager=cancellation_manager))\n\u001b[0m\u001b[0;32m   1925\u001b[0m     forward_backward = self._select_forward_and_backward_functions(\n\u001b[0;32m   1926\u001b[0m         \u001b[0margs\u001b[0m\u001b[1;33m,\u001b[0m\u001b[1;33m\u001b[0m\u001b[1;33m\u001b[0m\u001b[0m\n",
      "\u001b[1;32m~\\AppData\\Roaming\\Python\\Python37\\site-packages\\tensorflow\\python\\eager\\function.py\u001b[0m in \u001b[0;36mcall\u001b[1;34m(self, ctx, args, cancellation_manager)\u001b[0m\n\u001b[0;32m    548\u001b[0m               \u001b[0minputs\u001b[0m\u001b[1;33m=\u001b[0m\u001b[0margs\u001b[0m\u001b[1;33m,\u001b[0m\u001b[1;33m\u001b[0m\u001b[1;33m\u001b[0m\u001b[0m\n\u001b[0;32m    549\u001b[0m               \u001b[0mattrs\u001b[0m\u001b[1;33m=\u001b[0m\u001b[0mattrs\u001b[0m\u001b[1;33m,\u001b[0m\u001b[1;33m\u001b[0m\u001b[1;33m\u001b[0m\u001b[0m\n\u001b[1;32m--> 550\u001b[1;33m               ctx=ctx)\n\u001b[0m\u001b[0;32m    551\u001b[0m         \u001b[1;32melse\u001b[0m\u001b[1;33m:\u001b[0m\u001b[1;33m\u001b[0m\u001b[1;33m\u001b[0m\u001b[0m\n\u001b[0;32m    552\u001b[0m           outputs = execute.execute_with_cancellation(\n",
      "\u001b[1;32m~\\AppData\\Roaming\\Python\\Python37\\site-packages\\tensorflow\\python\\eager\\execute.py\u001b[0m in \u001b[0;36mquick_execute\u001b[1;34m(op_name, num_outputs, inputs, attrs, ctx, name)\u001b[0m\n\u001b[0;32m     58\u001b[0m     \u001b[0mctx\u001b[0m\u001b[1;33m.\u001b[0m\u001b[0mensure_initialized\u001b[0m\u001b[1;33m(\u001b[0m\u001b[1;33m)\u001b[0m\u001b[1;33m\u001b[0m\u001b[1;33m\u001b[0m\u001b[0m\n\u001b[0;32m     59\u001b[0m     tensors = pywrap_tfe.TFE_Py_Execute(ctx._handle, device_name, op_name,\n\u001b[1;32m---> 60\u001b[1;33m                                         inputs, attrs, num_outputs)\n\u001b[0m\u001b[0;32m     61\u001b[0m   \u001b[1;32mexcept\u001b[0m \u001b[0mcore\u001b[0m\u001b[1;33m.\u001b[0m\u001b[0m_NotOkStatusException\u001b[0m \u001b[1;32mas\u001b[0m \u001b[0me\u001b[0m\u001b[1;33m:\u001b[0m\u001b[1;33m\u001b[0m\u001b[1;33m\u001b[0m\u001b[0m\n\u001b[0;32m     62\u001b[0m     \u001b[1;32mif\u001b[0m \u001b[0mname\u001b[0m \u001b[1;32mis\u001b[0m \u001b[1;32mnot\u001b[0m \u001b[1;32mNone\u001b[0m\u001b[1;33m:\u001b[0m\u001b[1;33m\u001b[0m\u001b[1;33m\u001b[0m\u001b[0m\n",
      "\u001b[1;31mKeyboardInterrupt\u001b[0m: "
     ]
    }
   ],
   "source": [
    "train_generator = DataGenerator()\n",
    "#train_generator = tf.data.Dataset.from_generator(data_generator, (np.float32, np.int32))\n",
    "\n",
    "model.fit(train_generator, epochs=50, early_stopping_rounds=7, X_val=X_val, y_val=y_val)"
   ]
  },
  {
   "cell_type": "code",
   "execution_count": 23,
   "metadata": {
    "ExecuteTime": {
     "end_time": "2021-04-24T14:21:21.702999Z",
     "start_time": "2021-04-24T14:21:21.160693Z"
    }
   },
   "outputs": [],
   "source": [
    "model.save_weights()"
   ]
  },
  {
   "cell_type": "markdown",
   "metadata": {},
   "source": [
    "# Evaluation"
   ]
  },
  {
   "cell_type": "code",
   "execution_count": null,
   "metadata": {
    "ExecuteTime": {
     "end_time": "2021-04-24T10:56:22.045134Z",
     "start_time": "2021-04-24T07:04:29.701Z"
    }
   },
   "outputs": [],
   "source": [
    "model.load_weights()"
   ]
  },
  {
   "cell_type": "code",
   "execution_count": 14,
   "metadata": {
    "ExecuteTime": {
     "end_time": "2021-04-24T11:01:04.654062Z",
     "start_time": "2021-04-24T10:56:26.594834Z"
    }
   },
   "outputs": [],
   "source": [
    "X_test, y_test = load_data([\"test\"])"
   ]
  },
  {
   "cell_type": "code",
   "execution_count": 15,
   "metadata": {
    "ExecuteTime": {
     "end_time": "2021-04-24T11:01:24.632011Z",
     "start_time": "2021-04-24T11:01:04.674029Z"
    }
   },
   "outputs": [],
   "source": [
    "y_pred = model.predict(X_test)"
   ]
  },
  {
   "cell_type": "code",
   "execution_count": 16,
   "metadata": {
    "ExecuteTime": {
     "end_time": "2021-04-24T11:01:27.668770Z",
     "start_time": "2021-04-24T11:01:24.646050Z"
    },
    "scrolled": true
   },
   "outputs": [
    {
     "data": {
      "image/png": "[encoded data removed]",
      "text/plain": [
       "<Figure size 432x288 with 2 Axes>"
      ]
     },
     "metadata": {
      "needs_background": "light"
     },
     "output_type": "display_data"
    }
   ],
   "source": [
    "evaluation.plot_confusion_matrix(y_test, y_pred)"
   ]
  },
  {
   "cell_type": "code",
   "execution_count": 17,
   "metadata": {
    "ExecuteTime": {
     "end_time": "2021-04-24T11:01:27.915771Z",
     "start_time": "2021-04-24T11:01:27.700770Z"
    }
   },
   "outputs": [
    {
     "name": "stdout",
     "output_type": "stream",
     "text": [
      "Classification report:\n",
      "               precision    recall  f1-score   support\n",
      "\n",
      "       False       0.76      0.93      0.84      4972\n",
      "        True       0.91      0.70      0.79      5028\n",
      "\n",
      "    accuracy                           0.82     10000\n",
      "   macro avg       0.84      0.82      0.81     10000\n",
      "weighted avg       0.84      0.82      0.81     10000\n",
      "\n"
     ]
    }
   ],
   "source": [
    "evaluation.print_classification_report(y_test, y_pred)"
   ]
  },
  {
   "cell_type": "code",
   "execution_count": 22,
   "metadata": {
    "ExecuteTime": {
     "end_time": "2021-04-24T11:29:16.968479Z",
     "start_time": "2021-04-24T11:29:16.899518Z"
    }
   },
   "outputs": [
    {
     "data": {
      "text/plain": [
       "0.8149112967452252"
      ]
     },
     "execution_count": 22,
     "metadata": {},
     "output_type": "execute_result"
    }
   ],
   "source": [
    "evaluation.get_f1_score(y_test, y_pred, average='macro')"
   ]
  },
  {
   "cell_type": "code",
   "execution_count": null,
   "metadata": {},
   "outputs": [],
   "source": []
  }
 ],
 "metadata": {
  "kernelspec": {
   "display_name": "Python 3",
   "language": "python",
   "name": "python3"
  },
  "language_info": {
   "codemirror_mode": {
    "name": "ipython",
    "version": 3
   },
   "file_extension": ".py",
   "mimetype": "text/x-python",
   "name": "python",
   "nbconvert_exporter": "python",
   "pygments_lexer": "ipython3",
   "version": "3.7.5"
  },
  "toc": {
   "base_numbering": 1,
   "nav_menu": {},
   "number_sections": true,
   "sideBar": true,
   "skip_h1_title": false,
   "title_cell": "Table of Contents",
   "title_sidebar": "Contents",
   "toc_cell": true,
   "toc_position": {
    "height": "calc(100% - 180px)",
    "left": "10px",
    "top": "150px",
    "width": "307.038px"
   },
   "toc_section_display": true,
   "toc_window_display": true
  }
 },
 "nbformat": 4,
 "nbformat_minor": 2
}
