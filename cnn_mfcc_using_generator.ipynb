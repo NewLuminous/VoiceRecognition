{
 "cells": [
  {
   "cell_type": "markdown",
   "metadata": {
    "toc": true
   },
   "source": [
    "<h1>Table of Contents<span class=\"tocSkip\"></span></h1>\n",
    "<div class=\"toc\"><ul class=\"toc-item\"><li><span><a href=\"#Load-libraries\" data-toc-modified-id=\"Load-libraries-1\"><span class=\"toc-item-num\">1&nbsp;&nbsp;</span>Load libraries</a></span></li><li><span><a href=\"#Load-data\" data-toc-modified-id=\"Load-data-2\"><span class=\"toc-item-num\">2&nbsp;&nbsp;</span>Load data</a></span></li><li><span><a href=\"#Create-a-data-generator\" data-toc-modified-id=\"Create-a-data-generator-3\"><span class=\"toc-item-num\">3&nbsp;&nbsp;</span>Create a data generator</a></span></li><li><span><a href=\"#Train-model\" data-toc-modified-id=\"Train-model-4\"><span class=\"toc-item-num\">4&nbsp;&nbsp;</span>Train model</a></span></li><li><span><a href=\"#Evaluation\" data-toc-modified-id=\"Evaluation-5\"><span class=\"toc-item-num\">5&nbsp;&nbsp;</span>Evaluation</a></span></li></ul></div>"
   ]
  },
  {
   "cell_type": "markdown",
   "metadata": {
    "ExecuteTime": {
     "end_time": "2021-04-18T06:10:15.387785Z",
     "start_time": "2021-04-18T06:10:15.380784Z"
    }
   },
   "source": [
    "# Load libraries"
   ]
  },
  {
   "cell_type": "code",
   "execution_count": 1,
   "metadata": {
    "ExecuteTime": {
     "end_time": "2021-04-24T07:04:31.554409Z",
     "start_time": "2021-04-24T07:04:29.657413Z"
    }
   },
   "outputs": [],
   "source": [
    "import numpy as np\n",
    "import matplotlib.pyplot as plt\n",
    "import evaluation\n",
    "import pandas as pd\n",
    "import _pickle as cPickle"
   ]
  },
  {
   "cell_type": "markdown",
   "metadata": {},
   "source": [
    "# Load data"
   ]
  },
  {
   "cell_type": "code",
   "execution_count": 2,
   "metadata": {
    "ExecuteTime": {
     "end_time": "2021-04-24T07:04:31.569412Z",
     "start_time": "2021-04-24T07:04:31.556411Z"
    }
   },
   "outputs": [],
   "source": [
    "data_dir = \"./data/\"  + \"dataset/\"\n",
    "\n",
    "MFCC_LEN_LIM = 700\n",
    "N_MFCC = 13"
   ]
  },
  {
   "cell_type": "code",
   "execution_count": 3,
   "metadata": {
    "ExecuteTime": {
     "end_time": "2021-04-24T07:04:51.754600Z",
     "start_time": "2021-04-24T07:04:31.573410Z"
    }
   },
   "outputs": [],
   "source": [
    "import _pickle as cPickle\n",
    "\n",
    "with open(data_dir + \"data_mfcc_for_generator.pkl\", 'rb') as f:\n",
    "    data_mfcc = cPickle.load(f)"
   ]
  },
  {
   "cell_type": "code",
   "execution_count": 4,
   "metadata": {
    "ExecuteTime": {
     "end_time": "2021-04-24T07:04:52.766600Z",
     "start_time": "2021-04-24T07:04:51.768600Z"
    },
    "scrolled": true
   },
   "outputs": [
    {
     "data": {
      "text/html": [
       "<div>\n",
       "<style scoped>\n",
       "    .dataframe tbody tr th:only-of-type {\n",
       "        vertical-align: middle;\n",
       "    }\n",
       "\n",
       "    .dataframe tbody tr th {\n",
       "        vertical-align: top;\n",
       "    }\n",
       "\n",
       "    .dataframe thead th {\n",
       "        text-align: right;\n",
       "    }\n",
       "</style>\n",
       "<table border=\"1\" class=\"dataframe\">\n",
       "  <thead>\n",
       "    <tr style=\"text-align: right;\">\n",
       "      <th></th>\n",
       "      <th>student_I_id</th>\n",
       "      <th>article_I_id</th>\n",
       "      <th>sentence_I_id</th>\n",
       "      <th>student_II_id</th>\n",
       "      <th>article_II_id</th>\n",
       "      <th>sentence_II_id</th>\n",
       "    </tr>\n",
       "  </thead>\n",
       "  <tbody>\n",
       "    <tr>\n",
       "      <th>0</th>\n",
       "      <td>18021206_HoVanThep</td>\n",
       "      <td>9</td>\n",
       "      <td>15</td>\n",
       "      <td>18021206_HoVanThep</td>\n",
       "      <td>6</td>\n",
       "      <td>11</td>\n",
       "    </tr>\n",
       "    <tr>\n",
       "      <th>1</th>\n",
       "      <td>18021174_TranTrungThanh</td>\n",
       "      <td>4</td>\n",
       "      <td>13</td>\n",
       "      <td>17021242_PhamTuanHiep</td>\n",
       "      <td>4</td>\n",
       "      <td>13</td>\n",
       "    </tr>\n",
       "    <tr>\n",
       "      <th>2</th>\n",
       "      <td>18020370_NguyenManhDung</td>\n",
       "      <td>1</td>\n",
       "      <td>12</td>\n",
       "      <td>18020370_NguyenManhDung</td>\n",
       "      <td>1</td>\n",
       "      <td>33</td>\n",
       "    </tr>\n",
       "    <tr>\n",
       "      <th>3</th>\n",
       "      <td>18021027_LeThiPhuong</td>\n",
       "      <td>0</td>\n",
       "      <td>13</td>\n",
       "      <td>18021027_LeThiPhuong</td>\n",
       "      <td>2</td>\n",
       "      <td>6</td>\n",
       "    </tr>\n",
       "    <tr>\n",
       "      <th>4</th>\n",
       "      <td>17021340_ThieuMinhThinh</td>\n",
       "      <td>2</td>\n",
       "      <td>20</td>\n",
       "      <td>18020557_NguyenHuyHoang</td>\n",
       "      <td>2</td>\n",
       "      <td>20</td>\n",
       "    </tr>\n",
       "    <tr>\n",
       "      <th>...</th>\n",
       "      <td>...</td>\n",
       "      <td>...</td>\n",
       "      <td>...</td>\n",
       "      <td>...</td>\n",
       "      <td>...</td>\n",
       "      <td>...</td>\n",
       "    </tr>\n",
       "    <tr>\n",
       "      <th>999995</th>\n",
       "      <td>18020131_TranDucAnh</td>\n",
       "      <td>2</td>\n",
       "      <td>39</td>\n",
       "      <td>17021313_DinhCongPhan</td>\n",
       "      <td>2</td>\n",
       "      <td>39</td>\n",
       "    </tr>\n",
       "    <tr>\n",
       "      <th>999996</th>\n",
       "      <td>18020131_TranDucAnh</td>\n",
       "      <td>5</td>\n",
       "      <td>5</td>\n",
       "      <td>18020131_TranDucAnh</td>\n",
       "      <td>0</td>\n",
       "      <td>7</td>\n",
       "    </tr>\n",
       "    <tr>\n",
       "      <th>999997</th>\n",
       "      <td>18020370_NguyenManhDung</td>\n",
       "      <td>6</td>\n",
       "      <td>4</td>\n",
       "      <td>18020370_NguyenManhDung</td>\n",
       "      <td>7</td>\n",
       "      <td>29</td>\n",
       "    </tr>\n",
       "    <tr>\n",
       "      <th>999998</th>\n",
       "      <td>18020131_TranDucAnh</td>\n",
       "      <td>1</td>\n",
       "      <td>0</td>\n",
       "      <td>18020131_TranDucAnh</td>\n",
       "      <td>2</td>\n",
       "      <td>28</td>\n",
       "    </tr>\n",
       "    <tr>\n",
       "      <th>999999</th>\n",
       "      <td>18020792_NguyenPhiLong</td>\n",
       "      <td>8</td>\n",
       "      <td>3</td>\n",
       "      <td>18020792_NguyenPhiLong</td>\n",
       "      <td>1</td>\n",
       "      <td>2</td>\n",
       "    </tr>\n",
       "  </tbody>\n",
       "</table>\n",
       "<p>1000000 rows × 6 columns</p>\n",
       "</div>"
      ],
      "text/plain": [
       "                   student_I_id  article_I_id  sentence_I_id  \\\n",
       "0            18021206_HoVanThep             9             15   \n",
       "1       18021174_TranTrungThanh             4             13   \n",
       "2       18020370_NguyenManhDung             1             12   \n",
       "3          18021027_LeThiPhuong             0             13   \n",
       "4       17021340_ThieuMinhThinh             2             20   \n",
       "...                         ...           ...            ...   \n",
       "999995      18020131_TranDucAnh             2             39   \n",
       "999996      18020131_TranDucAnh             5              5   \n",
       "999997  18020370_NguyenManhDung             6              4   \n",
       "999998      18020131_TranDucAnh             1              0   \n",
       "999999   18020792_NguyenPhiLong             8              3   \n",
       "\n",
       "                  student_II_id  article_II_id  sentence_II_id  \n",
       "0            18021206_HoVanThep              6              11  \n",
       "1         17021242_PhamTuanHiep              4              13  \n",
       "2       18020370_NguyenManhDung              1              33  \n",
       "3          18021027_LeThiPhuong              2               6  \n",
       "4       18020557_NguyenHuyHoang              2              20  \n",
       "...                         ...            ...             ...  \n",
       "999995    17021313_DinhCongPhan              2              39  \n",
       "999996      18020131_TranDucAnh              0               7  \n",
       "999997  18020370_NguyenManhDung              7              29  \n",
       "999998      18020131_TranDucAnh              2              28  \n",
       "999999   18020792_NguyenPhiLong              1               2  \n",
       "\n",
       "[1000000 rows x 6 columns]"
      ]
     },
     "execution_count": 4,
     "metadata": {},
     "output_type": "execute_result"
    }
   ],
   "source": [
    "audio_pairs_df = pd.read_csv(\"./data/audio_sentence_pairs_full.csv\")\n",
    "audio_pairs_df"
   ]
  },
  {
   "cell_type": "code",
   "execution_count": 5,
   "metadata": {
    "ExecuteTime": {
     "end_time": "2021-04-24T07:04:52.875598Z",
     "start_time": "2021-04-24T07:04:52.784605Z"
    }
   },
   "outputs": [],
   "source": [
    "audio_pairs = audio_pairs_df.to_numpy()"
   ]
  },
  {
   "cell_type": "code",
   "execution_count": 6,
   "metadata": {
    "ExecuteTime": {
     "end_time": "2021-04-24T07:04:52.922597Z",
     "start_time": "2021-04-24T07:04:52.884599Z"
    }
   },
   "outputs": [],
   "source": [
    "def load_data(folds):\n",
    "    X = []\n",
    "    y = []\n",
    "    for fold in folds:\n",
    "        with open(data_dir + f\"data_mfcc_{fold}.pkl\", 'rb') as f:\n",
    "            data_mfcc = cPickle.load(f)\n",
    "\n",
    "        for i in range(len(data_mfcc['sentence_I'])):\n",
    "            if data_mfcc['sentence_I'][i].shape[0] < MFCC_LEN_LIM:\n",
    "                sentence_I = np.zeros((MFCC_LEN_LIM, N_MFCC), dtype=np.float32)\n",
    "                sentence_I[-data_mfcc['sentence_I'][i].shape[0]:] = data_mfcc['sentence_I'][i]\n",
    "            else:\n",
    "                sentence_I = data_mfcc['sentence_I'][i]\n",
    "                \n",
    "            if data_mfcc['sentence_II'][i].shape[0] < MFCC_LEN_LIM:\n",
    "                sentence_II = np.zeros((MFCC_LEN_LIM, N_MFCC), dtype=np.float32)\n",
    "                sentence_II[-data_mfcc['sentence_II'][i].shape[0]:] = data_mfcc['sentence_II'][i]\n",
    "            else:\n",
    "                sentence_II = data_mfcc['sentence_II'][i]\n",
    "            X.append([sentence_I, sentence_II])\n",
    "            y.append(data_mfcc['same_speaker'][i])\n",
    "    return np.array(X), np.array(y)"
   ]
  },
  {
   "cell_type": "code",
   "execution_count": 7,
   "metadata": {
    "ExecuteTime": {
     "end_time": "2021-04-24T07:06:33.897176Z",
     "start_time": "2021-04-24T07:04:52.931598Z"
    },
    "scrolled": true
   },
   "outputs": [
    {
     "data": {
      "text/plain": [
       "(10000, 2, 700, 13)"
      ]
     },
     "execution_count": 7,
     "metadata": {},
     "output_type": "execute_result"
    }
   ],
   "source": [
    "X_val, y_val = load_data([\"val\"])\n",
    "X_val.shape"
   ]
  },
  {
   "cell_type": "markdown",
   "metadata": {},
   "source": [
    "# Create a data generator"
   ]
  },
  {
   "cell_type": "code",
   "execution_count": 8,
   "metadata": {
    "ExecuteTime": {
     "end_time": "2021-04-24T07:06:38.967521Z",
     "start_time": "2021-04-24T07:06:33.949173Z"
    }
   },
   "outputs": [],
   "source": [
    "import numpy as np\n",
    "import tensorflow as tf\n",
    "import random"
   ]
  },
  {
   "cell_type": "code",
   "execution_count": 9,
   "metadata": {
    "ExecuteTime": {
     "end_time": "2021-04-24T07:06:39.011517Z",
     "start_time": "2021-04-24T07:06:38.975486Z"
    }
   },
   "outputs": [],
   "source": [
    "class DataGenerator(tf.keras.utils.Sequence):\n",
    "    def __init__(self, batch_size=32, shuffle=True):\n",
    "        self.batch_size = batch_size\n",
    "        self.shuffle = shuffle\n",
    "        \n",
    "    def __len__(self):\n",
    "        return int(np.floor(len(audio_pairs) / self.batch_size))\n",
    "    \n",
    "    def __getitem__(self, index):\n",
    "        pairs = audio_pairs[index*self.batch_size:(index+1)*self.batch_size]\n",
    "        X_1 = []\n",
    "        X_2 = []\n",
    "        y = []\n",
    "        for pair in pairs:\n",
    "            student_I_id, article_I_id, sentence_I_id = pair[0], pair[1], pair[2]\n",
    "            student_II_id, article_II_id, sentence_II_id = pair[3], pair[4], pair[5]\n",
    "            X_1.append(data_mfcc[student_I_id][article_I_id][sentence_I_id])\n",
    "            X_2.append(data_mfcc[student_II_id][article_II_id][sentence_II_id])\n",
    "            y.append(student_I_id == student_II_id)\n",
    "            \n",
    "#         X_1 = np.array(X_1)\n",
    "#         X_1 = np.expand_dims(X_1, axis=X_1.ndim)\n",
    "        \n",
    "#         X_2 = np.array(X_2)\n",
    "#         X_2 = np.expand_dims(X_2, axis=X_2.ndim)\n",
    "        return [np.array(X_1), np.array(X_2)], np.array(y)\n",
    "    \n",
    "    def on_epoch_end(self):\n",
    "        random.shuffle(audio_pairs)"
   ]
  },
  {
   "cell_type": "markdown",
   "metadata": {},
   "source": [
    "# Train model"
   ]
  },
  {
   "cell_type": "code",
   "execution_count": 10,
   "metadata": {},
   "outputs": [],
   "source": [
    "import os\n",
    "import tensorflow as tf\n",
    "from tensorflow.keras.models import Model\n",
    "from tensorflow.keras.layers import Input, GRU, Dense, Dropout, concatenate\n",
    "from tensorflow.keras.optimizers import Adam\n",
    "from tensorflow.keras.callbacks import ModelCheckpoint, EarlyStopping\n",
    "from tensorflow.keras.models import Sequential\n",
    "from tensorflow.keras.layers import Conv2D, AveragePooling2D\n",
    "from tensorflow.keras.layers import Activation, Dropout, Flatten, Dense"
   ]
  },
  {
   "cell_type": "code",
   "execution_count": 11,
   "metadata": {
    "ExecuteTime": {
     "end_time": "2021-04-24T07:06:39.105619Z",
     "start_time": "2021-04-24T07:06:39.054531Z"
    }
   },
   "outputs": [],
   "source": [
    "class CNN_CNN:\n",
    "    def __init__(self, num_features, learning_rate=0.001):\n",
    "        self.num_features = num_features\n",
    "        self.learning_rate = learning_rate\n",
    "        \n",
    "        self.classifier = self.build_classifier()\n",
    "    \n",
    "    def build_classifier(self):\n",
    "        input_1 = Input(shape = (700, self.num_features,1))\n",
    "        input_2 = Input(shape = (700, self.num_features,1))\n",
    "        \n",
    "        \n",
    "        out1 = Conv2D(32, kernel_size=(3, 1), activation='relu')(input_1)\n",
    "        out1 = AveragePooling2D(pool_size=(2, 1), strides=2)(out1)\n",
    "        \n",
    "        out1 = Conv2D(64, kernel_size=(3, 1), activation='relu')(out1)\n",
    "        out1 = AveragePooling2D(pool_size=(2, 1), strides=2)(out1)\n",
    "        \n",
    "        out1 = Conv2D(64, kernel_size=(3, 3), activation='relu')(out1)\n",
    "        out1 = AveragePooling2D(pool_size=(2, 2), strides=2, padding=\"same\")(out1)\n",
    "        \n",
    "        out1 = Flatten()(out1)\n",
    "        dropout_1 = Dropout(0.3)(out1)\n",
    "        output1 = Dense(32, activation = \"relu\", kernel_initializer='glorot_uniform')(dropout_1)\n",
    "        \n",
    "        \n",
    "        \n",
    "        \n",
    "        out2 = Conv2D(32, kernel_size=(3, 1), activation='relu')(input_2)\n",
    "        out2 = AveragePooling2D(pool_size=(2, 1), strides=2)(out2)\n",
    "        \n",
    "        out2 = Conv2D(64, kernel_size=(3, 1), activation='relu')(out2)\n",
    "        out2 = AveragePooling2D(pool_size=(2, 1), strides=2)(out2)\n",
    "        \n",
    "        out2 = Conv2D(64, kernel_size=(3, 3), activation='relu')(out2)\n",
    "        out2 = AveragePooling2D(pool_size=(2, 2), strides=2, padding=\"same\")(out2)\n",
    "        \n",
    "        out2 = Flatten()(out2)\n",
    "        dropout_2 = Dropout(0.3)(out2)\n",
    "        output2 = Dense(32, activation = \"relu\", kernel_initializer='glorot_uniform')(dropout_2)\n",
    "        \n",
    "        \n",
    "        merge = concatenate([output1, output2], axis = 1)\n",
    "        dense_1 = Dense(32, activation = \"relu\", kernel_initializer='glorot_uniform')(merge)\n",
    "        dropout_1 = Dropout(0.3)(dense_1)\n",
    "        \n",
    "        dense_2 = Dense(16, activation = \"relu\", kernel_initializer='glorot_uniform')(dropout_1)\n",
    "        dropout_2 = Dropout(0.3)(dense_2)\n",
    "        \n",
    "        dense_3 = Dense(1, activation =\"sigmoid\", kernel_initializer='glorot_uniform')(dropout_2)\n",
    "\n",
    "        model = Model(inputs = [input_1, input_2], outputs = dense_3)\n",
    "        model.compile(optimizer = Adam(self.learning_rate), loss = \"binary_crossentropy\", metrics = [\"acc\"])\n",
    "\n",
    "        model.summary()\n",
    "        return model\n",
    "    \n",
    "    def save_weights(self):\n",
    "        self.classifier.save_weights('saved_model/cnn_cnn_weights.h5')\n",
    "        \n",
    "    def load_weights(self):\n",
    "        self.classifier.load_weights('saved_model/cnn_cnn_weights.h5')\n",
    "            \n",
    "    def fit(self, generator, epochs=50, early_stopping_rounds=7, X_val=None, y_val=None):\n",
    "        model_dir = './checkpoints/'\n",
    "        callbacks = [\n",
    "#             tf.keras.callbacks.EarlyStopping(patience=early_stopping_rounds,\n",
    "#                                              monitor='val_acc',\n",
    "#                                              restore_best_weights=True),\n",
    "#             tf.keras.callbacks.ModelCheckpoint(filepath = os.path.join(model_dir, \"weights-epoch{epoch:02d}-loss{val_loss:.2f}-acc{val_acc:.2f}.h5\"),\n",
    "#                                               save_weights_only=True,\n",
    "#                                               monitor='val_acc',\n",
    "#                                               mode='max',\n",
    "#                                               save_best_only=True)\n",
    "            ]\n",
    "        \n",
    "        history = self.classifier.fit(generator,\n",
    "                                      epochs=epochs,\n",
    "                                      verbose=1,\n",
    "                                      callbacks=callbacks,\n",
    "                                      validation_data=([X_val[:,0], X_val[:,1]], y_val),\n",
    "                                      use_multiprocessing=False,\n",
    "                                      workers=6\n",
    "                                     )\n",
    "        return history\n",
    "    \n",
    "    def predict(self, X):\n",
    "        return self.predict_proba(X) >= 0.5\n",
    "    \n",
    "    def predict_proba(self, X):\n",
    "        y = self.classifier.predict([X[:,0], X[:,1]])\n",
    "        return y"
   ]
  },
  {
   "cell_type": "code",
   "execution_count": 12,
   "metadata": {
    "ExecuteTime": {
     "end_time": "2021-04-24T07:06:44.835547Z",
     "start_time": "2021-04-24T07:06:39.116481Z"
    },
    "scrolled": false
   },
   "outputs": [
    {
     "name": "stdout",
     "output_type": "stream",
     "text": [
      "Model: \"model\"\n",
      "__________________________________________________________________________________________________\n",
      "Layer (type)                    Output Shape         Param #     Connected to                     \n",
      "==================================================================================================\n",
      "input_1 (InputLayer)            [(None, 700, 13, 1)] 0                                            \n",
      "__________________________________________________________________________________________________\n",
      "input_2 (InputLayer)            [(None, 700, 13, 1)] 0                                            \n",
      "__________________________________________________________________________________________________\n",
      "conv2d (Conv2D)                 (None, 698, 13, 32)  128         input_1[0][0]                    \n",
      "__________________________________________________________________________________________________\n",
      "conv2d_3 (Conv2D)               (None, 698, 13, 32)  128         input_2[0][0]                    \n",
      "__________________________________________________________________________________________________\n",
      "average_pooling2d (AveragePooli (None, 349, 7, 32)   0           conv2d[0][0]                     \n",
      "__________________________________________________________________________________________________\n",
      "average_pooling2d_3 (AveragePoo (None, 349, 7, 32)   0           conv2d_3[0][0]                   \n",
      "__________________________________________________________________________________________________\n",
      "conv2d_1 (Conv2D)               (None, 347, 7, 64)   6208        average_pooling2d[0][0]          \n",
      "__________________________________________________________________________________________________\n",
      "conv2d_4 (Conv2D)               (None, 347, 7, 64)   6208        average_pooling2d_3[0][0]        \n",
      "__________________________________________________________________________________________________\n",
      "average_pooling2d_1 (AveragePoo (None, 173, 4, 64)   0           conv2d_1[0][0]                   \n",
      "__________________________________________________________________________________________________\n",
      "average_pooling2d_4 (AveragePoo (None, 173, 4, 64)   0           conv2d_4[0][0]                   \n",
      "__________________________________________________________________________________________________\n",
      "conv2d_2 (Conv2D)               (None, 171, 2, 64)   36928       average_pooling2d_1[0][0]        \n",
      "__________________________________________________________________________________________________\n",
      "conv2d_5 (Conv2D)               (None, 171, 2, 64)   36928       average_pooling2d_4[0][0]        \n",
      "__________________________________________________________________________________________________\n",
      "average_pooling2d_2 (AveragePoo (None, 86, 1, 64)    0           conv2d_2[0][0]                   \n",
      "__________________________________________________________________________________________________\n",
      "average_pooling2d_5 (AveragePoo (None, 86, 1, 64)    0           conv2d_5[0][0]                   \n",
      "__________________________________________________________________________________________________\n",
      "flatten (Flatten)               (None, 5504)         0           average_pooling2d_2[0][0]        \n",
      "__________________________________________________________________________________________________\n",
      "flatten_1 (Flatten)             (None, 5504)         0           average_pooling2d_5[0][0]        \n",
      "__________________________________________________________________________________________________\n",
      "dropout (Dropout)               (None, 5504)         0           flatten[0][0]                    \n",
      "__________________________________________________________________________________________________\n",
      "dropout_1 (Dropout)             (None, 5504)         0           flatten_1[0][0]                  \n",
      "__________________________________________________________________________________________________\n",
      "dense (Dense)                   (None, 32)           176160      dropout[0][0]                    \n",
      "__________________________________________________________________________________________________\n",
      "dense_1 (Dense)                 (None, 32)           176160      dropout_1[0][0]                  \n",
      "__________________________________________________________________________________________________\n",
      "concatenate (Concatenate)       (None, 64)           0           dense[0][0]                      \n",
      "                                                                 dense_1[0][0]                    \n",
      "__________________________________________________________________________________________________\n",
      "dense_2 (Dense)                 (None, 32)           2080        concatenate[0][0]                \n",
      "__________________________________________________________________________________________________\n",
      "dropout_2 (Dropout)             (None, 32)           0           dense_2[0][0]                    \n",
      "__________________________________________________________________________________________________\n",
      "dense_3 (Dense)                 (None, 16)           528         dropout_2[0][0]                  \n",
      "__________________________________________________________________________________________________\n",
      "dropout_3 (Dropout)             (None, 16)           0           dense_3[0][0]                    \n",
      "__________________________________________________________________________________________________\n",
      "dense_4 (Dense)                 (None, 1)            17          dropout_3[0][0]                  \n",
      "==================================================================================================\n",
      "Total params: 441,473\n",
      "Trainable params: 441,473\n",
      "Non-trainable params: 0\n",
      "__________________________________________________________________________________________________\n"
     ]
    }
   ],
   "source": [
    "model = CNN_CNN(num_features=N_MFCC)"
   ]
  },
  {
   "cell_type": "code",
   "execution_count": 13,
   "metadata": {
    "ExecuteTime": {
     "end_time": "2021-04-24T10:56:22.008140Z",
     "start_time": "2021-04-24T07:06:44.885542Z"
    },
    "scrolled": true
   },
   "outputs": [
    {
     "name": "stdout",
     "output_type": "stream",
     "text": [
      "Epoch 1/3\n",
      "31250/31250 [==============================] - 9939s 318ms/step - loss: 0.5061 - acc: 0.7545 - val_loss: 0.6462 - val_acc: 0.6944\n",
      "Epoch 2/3\n",
      "31250/31250 [==============================] - 9861s 316ms/step - loss: 0.3828 - acc: 0.8337 - val_loss: 0.8443 - val_acc: 0.6952\n",
      "Epoch 3/3\n",
      "31250/31250 [==============================] - 9958s 319ms/step - loss: 0.2120 - acc: 0.9202 - val_loss: 1.0374 - val_acc: 0.6956\n"
     ]
    },
    {
     "data": {
      "text/plain": [
       "<tensorflow.python.keras.callbacks.History at 0x7ff5bc1e5b20>"
      ]
     },
     "execution_count": 13,
     "metadata": {},
     "output_type": "execute_result"
    }
   ],
   "source": [
    "train_generator = DataGenerator()\n",
    "model.fit(train_generator, epochs=3, early_stopping_rounds=7, X_val=X_val, y_val=y_val)"
   ]
  },
  {
   "cell_type": "code",
   "execution_count": 16,
   "metadata": {
    "ExecuteTime": {
     "end_time": "2021-04-24T14:21:21.702999Z",
     "start_time": "2021-04-24T14:21:21.160693Z"
    }
   },
   "outputs": [],
   "source": [
    "model.save_weights()"
   ]
  },
  {
   "cell_type": "markdown",
   "metadata": {},
   "source": [
    "# Evaluation"
   ]
  },
  {
   "cell_type": "code",
   "execution_count": 17,
   "metadata": {
    "ExecuteTime": {
     "end_time": "2021-04-24T10:56:22.045134Z",
     "start_time": "2021-04-24T07:04:29.701Z"
    }
   },
   "outputs": [],
   "source": [
    "model.load_weights()"
   ]
  },
  {
   "cell_type": "code",
   "execution_count": 18,
   "metadata": {
    "ExecuteTime": {
     "end_time": "2021-04-24T11:01:04.654062Z",
     "start_time": "2021-04-24T10:56:26.594834Z"
    }
   },
   "outputs": [],
   "source": [
    "X_test, y_test = load_data([\"test\"])"
   ]
  },
  {
   "cell_type": "code",
   "execution_count": 19,
   "metadata": {
    "ExecuteTime": {
     "end_time": "2021-04-24T11:01:24.632011Z",
     "start_time": "2021-04-24T11:01:04.674029Z"
    }
   },
   "outputs": [],
   "source": [
    "y_pred = model.predict(X_test)"
   ]
  },
  {
   "cell_type": "code",
   "execution_count": 20,
   "metadata": {
    "ExecuteTime": {
     "end_time": "2021-04-24T11:01:27.668770Z",
     "start_time": "2021-04-24T11:01:24.646050Z"
    },
    "scrolled": false
   },
   "outputs": [
    {
     "data": {
      "image/png": "[encoded data removed]",
      "text/plain": [
       "<Figure size 432x288 with 2 Axes>"
      ]
     },
     "metadata": {
      "needs_background": "light"
     },
     "output_type": "display_data"
    }
   ],
   "source": [
    "evaluation.plot_confusion_matrix(y_test, y_pred)"
   ]
  },
  {
   "cell_type": "code",
   "execution_count": 21,
   "metadata": {
    "ExecuteTime": {
     "end_time": "2021-04-24T11:01:27.915771Z",
     "start_time": "2021-04-24T11:01:27.700770Z"
    }
   },
   "outputs": [
    {
     "name": "stdout",
     "output_type": "stream",
     "text": [
      "Classification report:\n",
      "               precision    recall  f1-score   support\n",
      "\n",
      "       False       0.72      0.60      0.66      4972\n",
      "        True       0.66      0.77      0.71      5028\n",
      "\n",
      "    accuracy                           0.69     10000\n",
      "   macro avg       0.69      0.69      0.69     10000\n",
      "weighted avg       0.69      0.69      0.69     10000\n",
      "\n"
     ]
    }
   ],
   "source": [
    "evaluation.print_classification_report(y_test, y_pred)"
   ]
  },
  {
   "cell_type": "code",
   "execution_count": 22,
   "metadata": {
    "ExecuteTime": {
     "end_time": "2021-04-24T11:29:16.968479Z",
     "start_time": "2021-04-24T11:29:16.899518Z"
    }
   },
   "outputs": [
    {
     "data": {
      "text/plain": [
       "0.6865393464077267"
      ]
     },
     "execution_count": 22,
     "metadata": {},
     "output_type": "execute_result"
    }
   ],
   "source": [
    "evaluation.get_f1_score(y_test, y_pred, average='macro')"
   ]
  },
  {
   "cell_type": "code",
   "execution_count": null,
   "metadata": {},
   "outputs": [],
   "source": []
  }
 ],
 "metadata": {
  "kernelspec": {
   "display_name": "Python (ml)",
   "language": "python",
   "name": "ml"
  },
  "language_info": {
   "codemirror_mode": {
    "name": "ipython",
    "version": 3
   },
   "file_extension": ".py",
   "mimetype": "text/x-python",
   "name": "python",
   "nbconvert_exporter": "python",
   "pygments_lexer": "ipython3",
   "version": "3.9.2"
  },
  "toc": {
   "base_numbering": 1,
   "nav_menu": {},
   "number_sections": true,
   "sideBar": true,
   "skip_h1_title": false,
   "title_cell": "Table of Contents",
   "title_sidebar": "Contents",
   "toc_cell": true,
   "toc_position": {
    "height": "calc(100% - 180px)",
    "left": "10px",
    "top": "150px",
    "width": "307.038px"
   },
   "toc_section_display": true,
   "toc_window_display": true
  }
 },
 "nbformat": 4,
 "nbformat_minor": 2
}
